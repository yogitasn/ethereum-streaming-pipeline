{
 "cells": [
  {
   "cell_type": "code",
   "execution_count": 0,
   "metadata": {
    "application/vnd.databricks.v1+cell": {
     "cellMetadata": {
      "byteLimit": 2048000,
      "rowLimit": 10000
     },
     "inputWidgets": {},
     "nuid": "7adff6a6-e1ed-4c8a-a639-cf71423a9de3",
     "showTitle": false,
     "tableResultSettingsMap": {},
     "title": ""
    }
   },
   "outputs": [
    {
     "output_type": "stream",
     "name": "stdout",
     "output_type": "stream",
     "text": [
      "Collecting web3\n  Downloading web3-7.13.0-py3-none-any.whl.metadata (5.6 kB)\nCollecting eth-abi>=5.0.1 (from web3)\n  Downloading eth_abi-5.2.0-py3-none-any.whl.metadata (3.8 kB)\nCollecting eth-account>=0.13.6 (from web3)\n  Downloading eth_account-0.13.7-py3-none-any.whl.metadata (3.7 kB)\nCollecting eth-hash>=0.5.1 (from eth-hash[pycryptodome]>=0.5.1->web3)\n  Downloading eth_hash-0.7.1-py3-none-any.whl.metadata (4.2 kB)\nCollecting eth-typing>=5.0.0 (from web3)\n  Downloading eth_typing-5.2.1-py3-none-any.whl.metadata (3.2 kB)\nCollecting eth-utils>=5.0.0 (from web3)\n  Downloading eth_utils-5.3.1-py3-none-any.whl.metadata (5.7 kB)\nCollecting hexbytes>=1.2.0 (from web3)\n  Downloading hexbytes-1.3.1-py3-none-any.whl.metadata (3.3 kB)\nCollecting aiohttp>=3.7.4.post0 (from web3)\n  Downloading aiohttp-3.12.15-cp312-cp312-manylinux_2_17_x86_64.manylinux2014_x86_64.whl.metadata (7.7 kB)\nRequirement already satisfied: pydantic>=2.4.0 in /databricks/python3/lib/python3.12/site-packages (from web3) (2.10.6)\nRequirement already satisfied: requests>=2.23.0 in /databricks/python3/lib/python3.12/site-packages (from web3) (2.32.3)\nRequirement already satisfied: typing-extensions>=4.0.1 in /databricks/python3/lib/python3.12/site-packages (from web3) (4.12.2)\nCollecting types-requests>=2.0.0 (from web3)\n  Downloading types_requests-2.32.4.20250913-py3-none-any.whl.metadata (2.0 kB)\nCollecting websockets<16.0.0,>=10.0.0 (from web3)\n  Downloading websockets-15.0.1-cp312-cp312-manylinux_2_5_x86_64.manylinux1_x86_64.manylinux_2_17_x86_64.manylinux2014_x86_64.whl.metadata (6.8 kB)\nCollecting pyunormalize>=15.0.0 (from web3)\n  Downloading pyunormalize-17.0.0-py3-none-any.whl.metadata (5.7 kB)\nCollecting aiohappyeyeballs>=2.5.0 (from aiohttp>=3.7.4.post0->web3)\n  Downloading aiohappyeyeballs-2.6.1-py3-none-any.whl.metadata (5.9 kB)\nCollecting aiosignal>=1.4.0 (from aiohttp>=3.7.4.post0->web3)\n  Downloading aiosignal-1.4.0-py3-none-any.whl.metadata (3.7 kB)\nRequirement already satisfied: attrs>=17.3.0 in /databricks/python3/lib/python3.12/site-packages (from aiohttp>=3.7.4.post0->web3) (24.3.0)\nCollecting frozenlist>=1.1.1 (from aiohttp>=3.7.4.post0->web3)\n  Downloading frozenlist-1.7.0-cp312-cp312-manylinux_2_5_x86_64.manylinux1_x86_64.manylinux_2_17_x86_64.manylinux2014_x86_64.whl.metadata (18 kB)\nCollecting multidict<7.0,>=4.5 (from aiohttp>=3.7.4.post0->web3)\n  Downloading multidict-6.6.4-cp312-cp312-manylinux2014_x86_64.manylinux_2_17_x86_64.manylinux_2_28_x86_64.whl.metadata (5.3 kB)\nCollecting propcache>=0.2.0 (from aiohttp>=3.7.4.post0->web3)\n  Downloading propcache-0.4.0-cp312-cp312-manylinux2014_x86_64.manylinux_2_17_x86_64.manylinux_2_28_x86_64.whl.metadata (13 kB)\nCollecting yarl<2.0,>=1.17.0 (from aiohttp>=3.7.4.post0->web3)\n  Downloading yarl-1.21.0-cp312-cp312-manylinux2014_x86_64.manylinux_2_17_x86_64.manylinux_2_28_x86_64.whl.metadata (74 kB)\nCollecting parsimonious<0.11.0,>=0.10.0 (from eth-abi>=5.0.1->web3)\n  Downloading parsimonious-0.10.0-py3-none-any.whl.metadata (25 kB)\nCollecting bitarray>=2.4.0 (from eth-account>=0.13.6->web3)\n  Downloading bitarray-3.7.1-cp312-cp312-manylinux_2_17_x86_64.manylinux2014_x86_64.whl.metadata (34 kB)\nCollecting eth-keyfile<0.9.0,>=0.7.0 (from eth-account>=0.13.6->web3)\n  Downloading eth_keyfile-0.8.1-py3-none-any.whl.metadata (8.5 kB)\nCollecting eth-keys>=0.4.0 (from eth-account>=0.13.6->web3)\n  Downloading eth_keys-0.7.0-py3-none-any.whl.metadata (13 kB)\nCollecting eth-rlp>=2.1.0 (from eth-account>=0.13.6->web3)\n  Downloading eth_rlp-2.2.0-py3-none-any.whl.metadata (3.3 kB)\nCollecting rlp>=1.0.0 (from eth-account>=0.13.6->web3)\n  Downloading rlp-4.1.0-py3-none-any.whl.metadata (3.2 kB)\nCollecting ckzg>=2.0.0 (from eth-account>=0.13.6->web3)\n  Downloading ckzg-2.1.5-cp312-cp312-manylinux_2_17_x86_64.manylinux2014_x86_64.whl.metadata (887 bytes)\nCollecting pycryptodome<4,>=3.6.6 (from eth-hash[pycryptodome]>=0.5.1->web3)\n  Downloading pycryptodome-3.23.0-cp37-abi3-manylinux_2_17_x86_64.manylinux2014_x86_64.whl.metadata (3.4 kB)\nCollecting cytoolz>=0.10.1 (from eth-utils>=5.0.0->web3)\n  Downloading cytoolz-1.0.1-cp312-cp312-manylinux_2_17_x86_64.manylinux2014_x86_64.whl.metadata (4.6 kB)\nRequirement already satisfied: annotated-types>=0.6.0 in /databricks/python3/lib/python3.12/site-packages (from pydantic>=2.4.0->web3) (0.7.0)\nRequirement already satisfied: pydantic-core==2.27.2 in /databricks/python3/lib/python3.12/site-packages (from pydantic>=2.4.0->web3) (2.27.2)\nRequirement already satisfied: charset-normalizer<4,>=2 in /databricks/python3/lib/python3.12/site-packages (from requests>=2.23.0->web3) (3.3.2)\nRequirement already satisfied: idna<4,>=2.5 in /databricks/python3/lib/python3.12/site-packages (from requests>=2.23.0->web3) (3.7)\nRequirement already satisfied: urllib3<3,>=1.21.1 in /databricks/python3/lib/python3.12/site-packages (from requests>=2.23.0->web3) (2.3.0)\nRequirement already satisfied: certifi>=2017.4.17 in /databricks/python3/lib/python3.12/site-packages (from requests>=2.23.0->web3) (2025.1.31)\nCollecting toolz>=0.8.0 (from cytoolz>=0.10.1->eth-utils>=5.0.0->web3)\n  Downloading toolz-1.0.0-py3-none-any.whl.metadata (5.1 kB)\nCollecting regex>=2022.3.15 (from parsimonious<0.11.0,>=0.10.0->eth-abi>=5.0.1->web3)\n  Downloading regex-2025.9.18-cp312-cp312-manylinux2014_x86_64.manylinux_2_17_x86_64.manylinux_2_28_x86_64.whl.metadata (40 kB)\nDownloading web3-7.13.0-py3-none-any.whl (1.4 MB)\n\u001B[?25l   \u001B[90m━━━━━━━━━━━━━━━━━━━━━━━━━━━━━━━━━━━━━━━━\u001B[0m \u001B[32m0.0/1.4 MB\u001B[0m \u001B[31m?\u001B[0m eta \u001B[36m-:--:--\u001B[0m\r\u001B[2K   \u001B[90m━━━━━━━━━━━━━━━━━━━━━━━━━━━━━━━━━━━━━━━━\u001B[0m \u001B[32m1.4/1.4 MB\u001B[0m \u001B[31m37.5 MB/s\u001B[0m eta \u001B[36m0:00:00\u001B[0m\n\u001B[?25hDownloading aiohttp-3.12.15-cp312-cp312-manylinux_2_17_x86_64.manylinux2014_x86_64.whl (1.7 MB)\n\u001B[?25l   \u001B[90m━━━━━━━━━━━━━━━━━━━━━━━━━━━━━━━━━━━━━━━━\u001B[0m \u001B[32m0.0/1.7 MB\u001B[0m \u001B[31m?\u001B[0m eta \u001B[36m-:--:--\u001B[0m\r\u001B[2K   \u001B[90m━━━━━━━━━━━━━━━━━━━━━━━━━━━━━━━━━━━━━━━━\u001B[0m \u001B[32m1.7/1.7 MB\u001B[0m \u001B[31m55.1 MB/s\u001B[0m eta \u001B[36m0:00:00\u001B[0m\n\u001B[?25hDownloading eth_abi-5.2.0-py3-none-any.whl (28 kB)\nDownloading eth_account-0.13.7-py3-none-any.whl (587 kB)\n\u001B[?25l   \u001B[90m━━━━━━━━━━━━━━━━━━━━━━━━━━━━━━━━━━━━━━━━\u001B[0m \u001B[32m0.0/587.5 kB\u001B[0m \u001B[31m?\u001B[0m eta \u001B[36m-:--:--\u001B[0m\r\u001B[2K   \u001B[90m━━━━━━━━━━━━━━━━━━━━━━━━━━━━━━━━━━━━━━━━\u001B[0m \u001B[32m587.5/587.5 kB\u001B[0m \u001B[31m20.8 MB/s\u001B[0m eta \u001B[36m0:00:00\u001B[0m\n\u001B[?25hDownloading eth_hash-0.7.1-py3-none-any.whl (8.0 kB)\nDownloading eth_typing-5.2.1-py3-none-any.whl (19 kB)\nDownloading eth_utils-5.3.1-py3-none-any.whl (102 kB)\nDownloading hexbytes-1.3.1-py3-none-any.whl (5.1 kB)\nDownloading pyunormalize-17.0.0-py3-none-any.whl (51 kB)\nDownloading types_requests-2.32.4.20250913-py3-none-any.whl (20 kB)\nDownloading websockets-15.0.1-cp312-cp312-manylinux_2_5_x86_64.manylinux1_x86_64.manylinux_2_17_x86_64.manylinux2014_x86_64.whl (182 kB)\nDownloading aiohappyeyeballs-2.6.1-py3-none-any.whl (15 kB)\nDownloading aiosignal-1.4.0-py3-none-any.whl (7.5 kB)\nDownloading bitarray-3.7.1-cp312-cp312-manylinux_2_17_x86_64.manylinux2014_x86_64.whl (332 kB)\nDownloading ckzg-2.1.5-cp312-cp312-manylinux_2_17_x86_64.manylinux2014_x86_64.whl (171 kB)\nDownloading cytoolz-1.0.1-cp312-cp312-manylinux_2_17_x86_64.manylinux2014_x86_64.whl (2.1 MB)\n\u001B[?25l   \u001B[90m━━━━━━━━━━━━━━━━━━━━━━━━━━━━━━━━━━━━━━━━\u001B[0m \u001B[32m0.0/2.1 MB\u001B[0m \u001B[31m?\u001B[0m eta \u001B[36m-:--:--\u001B[0m\r\u001B[2K   \u001B[90m━━━━━━━━━━━━━━━━━━━━━━━━━━━━━━━━━━━━━━━━\u001B[0m \u001B[32m2.1/2.1 MB\u001B[0m \u001B[31m48.8 MB/s\u001B[0m eta \u001B[36m0:00:00\u001B[0m\n\u001B[?25hDownloading eth_keyfile-0.8.1-py3-none-any.whl (7.5 kB)\nDownloading eth_keys-0.7.0-py3-none-any.whl (20 kB)\nDownloading eth_rlp-2.2.0-py3-none-any.whl (4.4 kB)\nDownloading frozenlist-1.7.0-cp312-cp312-manylinux_2_5_x86_64.manylinux1_x86_64.manylinux_2_17_x86_64.manylinux2014_x86_64.whl (241 kB)\nDownloading multidict-6.6.4-cp312-cp312-manylinux2014_x86_64.manylinux_2_17_x86_64.manylinux_2_28_x86_64.whl (256 kB)\nDownloading parsimonious-0.10.0-py3-none-any.whl (48 kB)\nDownloading propcache-0.4.0-cp312-cp312-manylinux2014_x86_64.manylinux_2_17_x86_64.manylinux_2_28_x86_64.whl (221 kB)\nDownloading pycryptodome-3.23.0-cp37-abi3-manylinux_2_17_x86_64.manylinux2014_x86_64.whl (2.3 MB)\n\u001B[?25l   \u001B[90m━━━━━━━━━━━━━━━━━━━━━━━━━━━━━━━━━━━━━━━━\u001B[0m \u001B[32m0.0/2.3 MB\u001B[0m \u001B[31m?\u001B[0m eta \u001B[36m-:--:--\u001B[0m\r\u001B[2K   \u001B[90m━━━━━━━━━━━━━━━━━━━━━━━━━━━━━━━━━━━━━━━━\u001B[0m \u001B[32m2.3/2.3 MB\u001B[0m \u001B[31m50.4 MB/s\u001B[0m eta \u001B[36m0:00:00\u001B[0m\n\u001B[?25hDownloading rlp-4.1.0-py3-none-any.whl (19 kB)\nDownloading yarl-1.21.0-cp312-cp312-manylinux2014_x86_64.manylinux_2_17_x86_64.manylinux_2_28_x86_64.whl (377 kB)\nDownloading regex-2025.9.18-cp312-cp312-manylinux2014_x86_64.manylinux_2_17_x86_64.manylinux_2_28_x86_64.whl (802 kB)\n\u001B[?25l   \u001B[90m━━━━━━━━━━━━━━━━━━━━━━━━━━━━━━━━━━━━━━━━\u001B[0m \u001B[32m0.0/802.0 kB\u001B[0m \u001B[31m?\u001B[0m eta \u001B[36m-:--:--\u001B[0m\r\u001B[2K   \u001B[90m━━━━━━━━━━━━━━━━━━━━━━━━━━━━━━━━━━━━━━━━\u001B[0m \u001B[32m802.0/802.0 kB\u001B[0m \u001B[31m41.3 MB/s\u001B[0m eta \u001B[36m0:00:00\u001B[0m\n\u001B[?25hDownloading toolz-1.0.0-py3-none-any.whl (56 kB)\nInstalling collected packages: ckzg, bitarray, websockets, types-requests, toolz, regex, pyunormalize, pycryptodome, propcache, multidict, hexbytes, frozenlist, eth-typing, eth-hash, aiohappyeyeballs, yarl, parsimonious, cytoolz, aiosignal, eth-utils, aiohttp, rlp, eth-keys, eth-abi, eth-rlp, eth-keyfile, eth-account, web3\nSuccessfully installed aiohappyeyeballs-2.6.1 aiohttp-3.12.15 aiosignal-1.4.0 bitarray-3.7.1 ckzg-2.1.5 cytoolz-1.0.1 eth-abi-5.2.0 eth-account-0.13.7 eth-hash-0.7.1 eth-keyfile-0.8.1 eth-keys-0.7.0 eth-rlp-2.2.0 eth-typing-5.2.1 eth-utils-5.3.1 frozenlist-1.7.0 hexbytes-1.3.1 multidict-6.6.4 parsimonious-0.10.0 propcache-0.4.0 pycryptodome-3.23.0 pyunormalize-17.0.0 regex-2025.9.18 rlp-4.1.0 toolz-1.0.0 types-requests-2.32.4.20250913 web3-7.13.0 websockets-15.0.1 yarl-1.21.0\n\u001B[43mNote: you may need to restart the kernel using %restart_python or dbutils.library.restartPython() to use updated packages.\u001B[0m\n"
     ]
    }
   ],
   "source": [
    "%pip install web3"
   ]
  },
  {
   "cell_type": "code",
   "execution_count": 0,
   "metadata": {
    "application/vnd.databricks.v1+cell": {
     "cellMetadata": {
      "byteLimit": 2048000,
      "rowLimit": 10000
     },
     "inputWidgets": {},
     "nuid": "d6e2e72c-c53e-4a4b-a8e5-25d617b4901b",
     "showTitle": false,
     "tableResultSettingsMap": {},
     "title": ""
    }
   },
   "outputs": [
    {
     "output_type": "stream",
     "name": "stdout",
     "output_type": "stream",
     "text": [
      "Latest Ethereum block number: 23515923\n\uD83D\uDD27 Using Catalog: web3_data, Schema: ethereum_mainnet\n\uD83D\uDCCC Start Block: 23515923\n⏱ Poll Interval: 15s\n\uD83D\uDCE6 Microbatch Size: 10 blocks per batch\n\uD83D\uDCC1 Data: /Volumes/web3_data/ethereum_mainnet/ethereum_blocks\n\uD83D\uDCC1 Checkpoints: /Volumes/web3_data/ethereum_mainnet/ethereum_checkpoints\n\uD83D\uDCC1 Schemas: /Volumes/web3_data/ethereum_mainnet/ethereum_schemas\n[1/6] CREATE CATALOG IF NOT EXISTS web3_data MANAGED LOCATION 's3://eth-stream-ingestion/'\n  ✅ Success\n[2/6] CREATE SCHEMA IF NOT EXISTS web3_data.ethereum_mainnet\n  ✅ Success\n[3/6] CREATE VOLUME IF NOT EXISTS web3_data.ethereum_mainnet.ethereum_blocks\n  ✅ Success\n[4/6] CREATE VOLUME IF NOT EXISTS web3_data.ethereum_mainnet.ethereum_checkpoints\n  ✅ Success\n[5/6] CREATE VOLUME IF NOT EXISTS web3_data.ethereum_mainnet.ethereum_schemas\n  ✅ Success\n[6/6] CREATE VOLUME IF NOT EXISTS web3_data.ethereum_mainnet.ethereum_output\n  ✅ Success\n"
     ]
    }
   ],
   "source": [
    "from web3 import Web3\n",
    "\n",
    "# Hard-coded constants\n",
    "ETH_PROVIDER_URI = \"https://mainnet.infura.io/v3/6504e6a7883c4b49ac1cf17099e2ea3a\"\n",
    "\n",
    "# Connect to an Ethereum node (Infura, Alchemy, etc.)\n",
    "w3 = Web3(Web3.HTTPProvider(ETH_PROVIDER_URI))\n",
    "\n",
    "# Get latest block number\n",
    "start_block = w3.eth.block_number\n",
    "print(\"Latest Ethereum block number:\", start_block)\n",
    "\n",
    "# === SIMPLE PARAMETERIZATION (VARIABLES FOR REUSABILITY) ===\n",
    "dbutils.widgets.text(\"catalog_name\", \"web3_data\", \"Catalog Name\")\n",
    "dbutils.widgets.text(\"schema_name\", \"ethereum_mainnet\", \"Schema Name\")\n",
    "dbutils.widgets.text(\"start_block\", str(start_block), \"Ethereum Start Block\")\n",
    "dbutils.widgets.text(\"poll_interval\", \"15\", \"Polling Interval (seconds)\")\n",
    "dbutils.widgets.text(\"microbatch_size\", \"10\", \"Blocks per Microbatch\")\n",
    "dbutils.widgets.text(\"s3_managed_bucket\",\"eth-stream-ingestion\",\"S3 Managed Bucket\")\n",
    "dbutils.widgets.text(\"max_calls_per_second\",\"0.8\",\"Max calls/sec\")\n",
    "dbutils.widgets.text(\"ouput_dir\",\"dbfs:/Volumes/web3_data/ethereum_mainnet/blocks/raw\",\"output directory\")\n",
    "\n",
    "# === CONFIGURATION ===\n",
    "CATALOG = dbutils.widgets.get(\"catalog_name\")\n",
    "SCHEMA = dbutils.widgets.get(\"schema_name\")\n",
    "S3_MANAGED_BUCKET = dbutils.widgets.get('s3_managed_bucket')\n",
    "START_BLOCK = int(start_block)\n",
    "POLL_INTERVAL = int(dbutils.widgets.get(\"poll_interval\"))\n",
    "MICROBATCH_SIZE = int(dbutils.widgets.get(\"microbatch_size\"))\n",
    "MAX_CALLS_PER_SECOND = dbutils.widgets.get(\"max_calls_per_second\")\n",
    "OUTPUT_DIR = dbutils.widgets.get(\"ouput_dir\")\n",
    "\n",
    "\n",
    "\n",
    "\n",
    "# Unity Catalog volume paths\n",
    "DATA_VOLUME = f\"/Volumes/{CATALOG}/{SCHEMA}/ethereum_blocks\"\n",
    "CHECKPOINT_VOLUME = f\"/Volumes/{CATALOG}/{SCHEMA}/ethereum_checkpoints\"\n",
    "SCHEMA_VOLUME = f\"/Volumes/{CATALOG}/{SCHEMA}/ethereum_schemas\"\n",
    "OUTPUT_VOLUME = f\"/Volumes/{CATALOG}/{SCHEMA}/ethereum_output\"\n",
    "\n",
    "print(f\"\uD83D\uDD27 Using Catalog: {CATALOG}, Schema: {SCHEMA}\")\n",
    "print(f\"\uD83D\uDCCC Start Block: {START_BLOCK}\")\n",
    "print(f\"⏱ Poll Interval: {POLL_INTERVAL}s\")\n",
    "print(f\"\uD83D\uDCE6 Microbatch Size: {MICROBATCH_SIZE} blocks per batch\")\n",
    "print(f\"\uD83D\uDCC1 Data: {DATA_VOLUME}\")\n",
    "print(f\"\uD83D\uDCC1 Checkpoints: {CHECKPOINT_VOLUME}\")\n",
    "print(f\"\uD83D\uDCC1 Schemas: {SCHEMA_VOLUME}\")\n",
    "\n",
    "# === UNITY CATALOG SETUP ===\n",
    "stmts = [\n",
    "    f\"CREATE CATALOG IF NOT EXISTS {CATALOG} MANAGED LOCATION 's3://{S3_MANAGED_BUCKET}/'\",\n",
    "    f\"CREATE SCHEMA IF NOT EXISTS {CATALOG}.{SCHEMA}\",\n",
    "    f\"CREATE VOLUME IF NOT EXISTS {CATALOG}.{SCHEMA}.ethereum_blocks\",\n",
    "    f\"CREATE VOLUME IF NOT EXISTS {CATALOG}.{SCHEMA}.ethereum_checkpoints\",\n",
    "    f\"CREATE VOLUME IF NOT EXISTS {CATALOG}.{SCHEMA}.ethereum_schemas\",\n",
    "    f\"CREATE VOLUME IF NOT EXISTS {CATALOG}.{SCHEMA}.ethereum_output\",\n",
    "]\n",
    "\n",
    "for i, s in enumerate(stmts, 1):\n",
    "    print(f\"[{i}/{len(stmts)}] {s}\")\n",
    "    try:\n",
    "        spark.sql(s)\n",
    "        print(\"  ✅ Success\")\n",
    "    except Exception as e:\n",
    "        print(f\"  ❌ Error: {e}\")\n"
   ]
  },
  {
   "cell_type": "code",
   "execution_count": 0,
   "metadata": {
    "application/vnd.databricks.v1+cell": {
     "cellMetadata": {
      "byteLimit": 2048000,
      "rowLimit": 10000
     },
     "inputWidgets": {},
     "nuid": "008ee83b-92b6-4f15-9a41-821ea59b4ac3",
     "showTitle": false,
     "tableResultSettingsMap": {},
     "title": ""
    }
   },
   "outputs": [],
   "source": [
    "\n",
    "import os, json, time, logging\n",
    "from pyspark.sql.datasource import DataSource, DataSourceStreamReader, InputPartition\n",
    "from pyspark.sql.types import StructType, StructField, LongType, StringType\n",
    "from pyspark.sql import Row\n",
    "from web3 import Web3\n",
    "\n",
    "            \n",
    "\n",
    "# -----------------------------\n",
    "# Logging setup\n",
    "# -----------------------------\n",
    "logging.basicConfig(\n",
    "    level=logging.INFO, \n",
    "    format=\"%(asctime)s [%(levelname)s] [%(name)s] %(message)s\",\n",
    "    datefmt=\"%Y-%m-%d %H:%M:%S\"\n",
    ")\n",
    "logger = logging.getLogger(\"EthereumStream\")\n",
    "\n",
    "# -----------------------------\n",
    "# Partition class\n",
    "# -----------------------------\n",
    "class BlockRangePartition(InputPartition):\n",
    "    def __init__(self, start, end):\n",
    "        self.start = start\n",
    "        self.end = end\n",
    "        logger.debug(f\"Created partition: blocks {start} to {end}\")\n",
    "\n",
    "# -----------------------------\n",
    "# StreamReader\n",
    "# -----------------------------\n",
    "class EthereumStreamReader(DataSourceStreamReader):\n",
    "    def __init__(self, schema, options):\n",
    "        logger.info(\"=\" * 60)\n",
    "        logger.info(\"Initializing EthereumStreamReader\")\n",
    "        logger.info(\"=\" * 60)\n",
    "        \n",
    "        self.schema = schema\n",
    "        self.options = options\n",
    "        self.provider_uri = options.get(\"provider_uri\")\n",
    "        self.start_block = int(options.get(\"start_block\", 1))\n",
    "        self.output_dir = options.get(\"output_dir\", \"dbfs:/Volumes/blockchain/ethereum/blocks/raw\")\n",
    "        self.current_block = self.start_block\n",
    "        self.max_calls_per_second = float(options.get(\"max_calls_per_second\", 0.8))\n",
    "\n",
    "        logger.info(f\"Configuration:\")\n",
    "        logger.info(f\"  - Provider URI: {self.provider_uri}\")\n",
    "        logger.info(f\"  - Start block: {self.start_block}\")\n",
    "        logger.info(f\"  - Output directory: {self.output_dir}\")\n",
    "        logger.info(f\"  - Max calls/sec: {self.max_calls_per_second}\")\n",
    "        logger.info(\"=\" * 60)\n",
    "\n",
    "    # -------------------------\n",
    "    # Offset handling (dict-based)\n",
    "    # -------------------------\n",
    "    def initialOffset(self):\n",
    "        offset = {\"offset\": self.current_block}\n",
    "        logger.info(f\"initialOffset() called -> Returning: {offset}\")\n",
    "        return offset\n",
    "\n",
    "    def latestOffset(self):\n",
    "        logger.info(\"latestOffset() called -> Connecting to Ethereum provider...\")\n",
    "        try:\n",
    "            w3 = Web3(Web3.HTTPProvider(self.provider_uri))\n",
    "            if not w3.is_connected():\n",
    "                logger.error(\"Failed to connect to Ethereum provider in latestOffset()\")\n",
    "                raise RuntimeError(\"Failed to connect to Ethereum provider\")\n",
    "            \n",
    "            latest = w3.eth.block_number\n",
    "            offset = {\"offset\": latest}\n",
    "            logger.info(f\"latestOffset() -> Latest block from chain: {latest}\")\n",
    "            logger.info(f\"latestOffset() -> Returning: {offset}\")\n",
    "            return offset\n",
    "        except Exception as e:\n",
    "            logger.error(f\"Error in latestOffset(): {e}\", exc_info=True)\n",
    "            raise\n",
    "\n",
    "    # -------------------------\n",
    "    # Partition planning\n",
    "    # -------------------------\n",
    "    def partitions(self, start_offset, end_offset):\n",
    "        \"\"\"Legacy method name - calls planPartitions internally\"\"\"\n",
    "        return self.planPartitions(start_offset, end_offset)\n",
    "    \n",
    "    def planPartitions(self, start_offset, end_offset):\n",
    "        logger.info(\"-\" * 60)\n",
    "        logger.info(\"planPartitions() called\")\n",
    "        logger.info(f\"  - start_offset: {start_offset}\")\n",
    "        logger.info(f\"  - end_offset: {end_offset}\")\n",
    "        \n",
    "        start = start_offset.get(\"offset\", self.start_block) if start_offset else self.start_block\n",
    "        end = end_offset.get(\"offset\", start + 100) if end_offset else start + 100\n",
    "        step = int(self.options.get(\"batch_size\", 10))\n",
    "        \n",
    "        logger.info(f\"  - Computed start: {start}\")\n",
    "        logger.info(f\"  - Computed end: {end}\")\n",
    "        logger.info(f\"  - Batch size: {step}\")\n",
    "        \n",
    "        partitions = []\n",
    "        for i in range(start, end + 1, step):\n",
    "            partition_end = min(i + step - 1, end)\n",
    "            partitions.append(BlockRangePartition(i, partition_end))\n",
    "        \n",
    "        logger.info(f\"  - Created {len(partitions)} partition(s)\")\n",
    "        for idx, p in enumerate(partitions):\n",
    "            logger.info(f\"    Partition {idx}: blocks {p.start} to {p.end} ({p.end - p.start + 1} blocks)\")\n",
    "        logger.info(\"-\" * 60)\n",
    "        \n",
    "        return partitions\n",
    "\n",
    "    # -------------------------\n",
    "    # Reader\n",
    "    # -------------------------\n",
    "    def read(self, partition):\n",
    "        logger.info(\"*\" * 60)\n",
    "        logger.info(f\"read() called for partition: blocks {partition.start} to {partition.end}\")\n",
    "        logger.info(\"*\" * 60)\n",
    "        \n",
    "        try:\n",
    "            w3 = Web3(Web3.HTTPProvider(self.provider_uri))\n",
    "            if not w3.is_connected():\n",
    "                logger.error(\"Failed to connect to Ethereum provider in read()\")\n",
    "                raise RuntimeError(\"Failed to connect to Ethereum provider\")\n",
    "            \n",
    "            logger.info(\"Successfully connected to Ethereum provider\")\n",
    "        except Exception as e:\n",
    "            logger.error(f\"Connection error in read(): {e}\", exc_info=True)\n",
    "            raise\n",
    "\n",
    "        last_call_time = 0\n",
    "        blocks_processed = 0\n",
    "        blocks_failed = 0\n",
    "        \n",
    "        for blk_num in range(partition.start, partition.end + 1):\n",
    "            try:\n",
    "                # Rate limiting\n",
    "                now = time.time()\n",
    "                sleep_time = (1 / self.max_calls_per_second) - (now - last_call_time)\n",
    "                if sleep_time > 0:\n",
    "                    logger.debug(f\"Rate limiting: sleeping for {sleep_time:.3f}s\")\n",
    "                    time.sleep(sleep_time)\n",
    "                last_call_time = time.time()\n",
    "\n",
    "                logger.info(f\"Fetching block {blk_num}...\")\n",
    "                block = w3.eth.get_block(blk_num, full_transactions=False)\n",
    "\n",
    "                blk_dict = {\n",
    "                    \"block_number\": block.number,\n",
    "                    \"block_hash\": block.hash.hex(),\n",
    "                    \"timestamp\": block.timestamp,\n",
    "                    \"tx_count\": len(block.transactions)\n",
    "                }\n",
    "\n",
    "                # Save JSON locally (optional)\n",
    "                file_path = os.path.join(self.output_dir, f\"block_{blk_num}.json\")\n",
    "                with open(file_path, \"w\") as f:\n",
    "                    json.dump(blk_dict, f, indent=2)\n",
    "                logger.debug(f\"Saved block data to {file_path}\")\n",
    "\n",
    "                logger.info(f\"✓ Block {blk_num}: hash={block.hash.hex()[:10]}..., \"\n",
    "                           f\"timestamp={block.timestamp}, tx_count={len(block.transactions)}\")\n",
    "\n",
    "                yield Row(\n",
    "                    block_number=block.number,\n",
    "                    block_hash=block.hash.hex(),\n",
    "                    timestamp=block.timestamp,\n",
    "                    tx_count=len(block.transactions)\n",
    "                )\n",
    "                \n",
    "                self.current_block = blk_num + 1\n",
    "                blocks_processed += 1\n",
    "\n",
    "            except Exception as e:\n",
    "                blocks_failed += 1\n",
    "                logger.error(f\"✗ Error fetching block {blk_num}: {e}\", exc_info=True)\n",
    "                continue\n",
    "        \n",
    "        logger.info(\"*\" * 60)\n",
    "        logger.info(f\"read() completed for partition {partition.start}-{partition.end}\")\n",
    "        logger.info(f\"  - Blocks processed: {blocks_processed}\")\n",
    "        logger.info(f\"  - Blocks failed: {blocks_failed}\")\n",
    "        logger.info(\"*\" * 60)\n",
    "\n",
    "    # -------------------------\n",
    "    # Commit method for checkpointing\n",
    "    # -------------------------\n",
    "    def commit(self, end_offset):\n",
    "        logger.info(\"=\" * 60)\n",
    "        logger.info(f\"commit() called with end_offset: {end_offset}\")\n",
    "        logger.info(f\"Successfully committed up to block: {end_offset.get('offset')}\")\n",
    "        logger.info(\"=\" * 60)\n",
    "\n",
    "    # -------------------------\n",
    "    # Pickle support\n",
    "    # -------------------------\n",
    "    def __getstate__(self):\n",
    "        logger.debug(\"__getstate__() called for serialization\")\n",
    "        state = self.__dict__.copy()\n",
    "        return state\n",
    "\n",
    "    def __setstate__(self, state):\n",
    "        logger.debug(\"__setstate__() called for deserialization\")\n",
    "        self.__dict__.update(state)\n",
    "\n",
    "# -----------------------------\n",
    "# DataSource wrapper\n",
    "# -----------------------------\n",
    "class EthereumDataSource(DataSource):\n",
    "    def __init__(self, options):\n",
    "        logger.info(\"=\" * 60)\n",
    "        logger.info(\"EthereumDataSource.__init__() called\")\n",
    "        logger.info(f\"Options: {options}\")\n",
    "        logger.info(\"=\" * 60)\n",
    "        self.options = options\n",
    "\n",
    "    @classmethod\n",
    "    def name(cls):\n",
    "        logger.debug(\"name() called -> returning 'ethereum'\")\n",
    "        return \"ethereum\"\n",
    "\n",
    "    def schema(self):\n",
    "        schema = StructType([\n",
    "            StructField(\"block_number\", LongType()),\n",
    "            StructField(\"block_hash\", StringType()),\n",
    "            StructField(\"timestamp\", LongType()),\n",
    "            StructField(\"tx_count\", LongType())\n",
    "        ])\n",
    "        logger.info(\"schema() called -> returning schema with 4 fields\")\n",
    "        logger.debug(f\"Schema: {schema}\")\n",
    "        return schema\n",
    "\n",
    "    def streamReader(self, schema):\n",
    "        logger.info(\"streamReader() called -> creating EthereumStreamReader\")\n",
    "        return EthereumStreamReader(schema, self.options)\n",
    "\n"
   ]
  },
  {
   "cell_type": "code",
   "execution_count": 0,
   "metadata": {
    "application/vnd.databricks.v1+cell": {
     "cellMetadata": {
      "byteLimit": 2048000,
      "rowLimit": 10000
     },
     "inputWidgets": {},
     "nuid": "8a3c57f7-48ba-4a64-8a77-7735a53f9a90",
     "showTitle": false,
     "tableResultSettingsMap": {},
     "title": ""
    }
   },
   "outputs": [
    {
     "output_type": "stream",
     "name": "stderr",
     "output_type": "stream",
     "text": [
      "2025-10-06 03:44:38 [INFO] [py4j.clientserver] Received command c on object id p0\n"
     ]
    },
    {
     "output_type": "stream",
     "name": "stdout",
     "output_type": "stream",
     "text": [
      "✅ Using checkpoint: /Volumes/web3_data/ethereum_mainnet/ethereum_checkpoints/\n✅ Using output: /Volumes/web3_data/ethereum_mainnet/ethereum_output/\n✅ Using eth_provider_uri: https://mainnet.infura.io/v3/6504e6a7883c4b49ac1cf17099e2ea3a\n✅ Using start_block: 23515923\n✅ Using poll_interval: 15\n✅ Using output_dir: dbfs:/Volumes/web3_data/ethereum_mainnet/blocks/raw\n"
     ]
    },
    {
     "output_type": "stream",
     "name": "stderr",
     "output_type": "stream",
     "text": [
      "2025-10-06 03:44:40 [INFO] [EthereumStream] Streaming query started. Awaiting termination...\n"
     ]
    }
   ],
   "source": [
    "\n",
    "#import uuid\n",
    "import time\n",
    "from pyspark.sql import SparkSession\n",
    "from pyspark.sql.types import StructType, StructField, LongType, StringType, ArrayType, MapType\n",
    "from web3 import Web3\n",
    "\n",
    "\n",
    "# --- Spark session ---\n",
    "spark = SparkSession.builder.appName(\"EthereumStream\").getOrCreate()\n",
    "\n",
    "eth_schema = StructType([\n",
    "    StructField(\"block_number\", LongType(), True),\n",
    "    StructField(\"block_hash\", StringType(), True),\n",
    "    StructField(\"timestamp\", LongType(), True),\n",
    "    StructField(\"tx_count\", LongType(), True)\n",
    "])\n",
    "\n",
    "\n",
    "checkpoint_path = f\"{CHECKPOINT_VOLUME}/\"\n",
    "output_path = f\"{OUTPUT_VOLUME}/\"\n",
    "eth_provider_uri = f\"{ETH_PROVIDER_URI}\"\n",
    "start_block = f\"{START_BLOCK}\"\n",
    "poll_interval = f\"{POLL_INTERVAL}\"\n",
    "output_dir = f\"{OUTPUT_DIR}\"\n",
    "\n",
    "print(\"✅ Using checkpoint:\", checkpoint_path)\n",
    "print(\"✅ Using output:\", output_path)\n",
    "print(\"✅ Using eth_provider_uri:\", eth_provider_uri)\n",
    "print(\"✅ Using start_block:\", start_block)\n",
    "print(\"✅ Using poll_interval:\", poll_interval)\n",
    "print(\"✅ Using output_dir:\", output_dir)\n",
    "\n",
    "spark.dataSource.register(EthereumDataSource)\n",
    "\n",
    "# --- Read from custom Ethereum source ---\n",
    "df = spark.readStream \\\n",
    "    .format(\"ethereum\") \\\n",
    "    .schema(eth_schema) \\\n",
    "    .option(\"provider_uri\",eth_provider_uri) \\\n",
    "    .option(\"start_block\", start_block) \\\n",
    "    .option(\"output_dir\", output_dir) \\\n",
    "    .option(\"poll_interval\", poll_interval) \\\n",
    "    .load()\n",
    "\n",
    "# --- Write with dynamic paths ---\n",
    "query = df.writeStream \\\n",
    "    .format(\"delta\") \\\n",
    "    .outputMode(\"append\") \\\n",
    "    .option(\"checkpointLocation\", checkpoint_path) \\\n",
    "    .trigger(availableNow=True) \\\n",
    "    .start(output_path)\n",
    "\n",
    "logger.info(\"Streaming query started. Awaiting termination...\")\n",
    "\n"
   ]
  },
  {
   "cell_type": "code",
   "execution_count": 0,
   "metadata": {
    "application/vnd.databricks.v1+cell": {
     "cellMetadata": {},
     "inputWidgets": {},
     "nuid": "da08675c-415c-421d-b4cc-acf80dcf550a",
     "showTitle": false,
     "tableResultSettingsMap": {},
     "title": ""
    }
   },
   "outputs": [],
   "source": []
  }
 ],
 "metadata": {
  "application/vnd.databricks.v1+notebook": {
   "computePreferences": null,
   "dashboards": [],
   "environmentMetadata": {
    "base_environment": "",
    "environment_version": "3"
   },
   "inputWidgetPreferences": null,
   "language": "python",
   "notebookMetadata": {
    "pythonIndentUnit": 4
   },
   "notebookName": "ethereum_block_stream_init",
   "widgets": {
    "catalog_name": {
     "currentValue": "web3_data",
     "nuid": "4a49c685-6278-40a5-81b4-70a9dbaf450d",
     "typedWidgetInfo": {
      "autoCreated": false,
      "defaultValue": "web3_data",
      "label": "Catalog Name",
      "name": "catalog_name",
      "options": {
       "widgetDisplayType": "Text",
       "validationRegex": null
      },
      "parameterDataType": "String"
     },
     "widgetInfo": {
      "widgetType": "text",
      "defaultValue": "web3_data",
      "label": "Catalog Name",
      "name": "catalog_name",
      "options": {
       "widgetType": "text",
       "autoCreated": null,
       "validationRegex": null
      }
     }
    },
    "max_calls_per_second": {
     "currentValue": "0.8",
     "nuid": "d2d33246-e9b2-497f-9a94-82ae57aa1555",
     "typedWidgetInfo": {
      "autoCreated": false,
      "defaultValue": "0.8",
      "label": "Max calls/sec",
      "name": "max_calls_per_second",
      "options": {
       "widgetDisplayType": "Text",
       "validationRegex": null
      },
      "parameterDataType": "String"
     },
     "widgetInfo": {
      "widgetType": "text",
      "defaultValue": "0.8",
      "label": "Max calls/sec",
      "name": "max_calls_per_second",
      "options": {
       "widgetType": "text",
       "autoCreated": null,
       "validationRegex": null
      }
     }
    },
    "microbatch_size": {
     "currentValue": "10",
     "nuid": "31ada39e-f528-4147-9269-301de12ff445",
     "typedWidgetInfo": {
      "autoCreated": false,
      "defaultValue": "10",
      "label": "Blocks per Microbatch",
      "name": "microbatch_size",
      "options": {
       "widgetDisplayType": "Text",
       "validationRegex": null
      },
      "parameterDataType": "String"
     },
     "widgetInfo": {
      "widgetType": "text",
      "defaultValue": "10",
      "label": "Blocks per Microbatch",
      "name": "microbatch_size",
      "options": {
       "widgetType": "text",
       "autoCreated": null,
       "validationRegex": null
      }
     }
    },
    "ouput_dir": {
     "currentValue": "dbfs:/Volumes/web3_data/ethereum_mainnet/blocks/raw",
     "nuid": "29ae4129-5ec4-45e0-9d45-dc9f9b4e94ce",
     "typedWidgetInfo": {
      "autoCreated": false,
      "defaultValue": "dbfs:/Volumes/web3_data/ethereum_mainnet/blocks/raw",
      "label": "output directory",
      "name": "ouput_dir",
      "options": {
       "widgetDisplayType": "Text",
       "validationRegex": null
      },
      "parameterDataType": "String"
     },
     "widgetInfo": {
      "widgetType": "text",
      "defaultValue": "dbfs:/Volumes/web3_data/ethereum_mainnet/blocks/raw",
      "label": "output directory",
      "name": "ouput_dir",
      "options": {
       "widgetType": "text",
       "autoCreated": null,
       "validationRegex": null
      }
     }
    },
    "poll_interval": {
     "currentValue": "15",
     "nuid": "cbe8b50e-6da7-481d-9043-cfc061cc3aa7",
     "typedWidgetInfo": {
      "autoCreated": false,
      "defaultValue": "15",
      "label": "Polling Interval (seconds)",
      "name": "poll_interval",
      "options": {
       "widgetDisplayType": "Text",
       "validationRegex": null
      },
      "parameterDataType": "String"
     },
     "widgetInfo": {
      "widgetType": "text",
      "defaultValue": "15",
      "label": "Polling Interval (seconds)",
      "name": "poll_interval",
      "options": {
       "widgetType": "text",
       "autoCreated": null,
       "validationRegex": null
      }
     }
    },
    "s3_managed_bucket": {
     "currentValue": "eth-stream-ingestion",
     "nuid": "cfb2c1c8-7782-4b62-af61-e92444b7d512",
     "typedWidgetInfo": {
      "autoCreated": false,
      "defaultValue": "eth-stream-ingestion",
      "label": "S3 Managed Bucket",
      "name": "s3_managed_bucket",
      "options": {
       "widgetDisplayType": "Text",
       "validationRegex": null
      },
      "parameterDataType": "String"
     },
     "widgetInfo": {
      "widgetType": "text",
      "defaultValue": "eth-stream-ingestion",
      "label": "S3 Managed Bucket",
      "name": "s3_managed_bucket",
      "options": {
       "widgetType": "text",
       "autoCreated": null,
       "validationRegex": null
      }
     }
    },
    "schema_name": {
     "currentValue": "ethereum_mainnet",
     "nuid": "eb52e132-dbb6-4639-ae41-3c2851726850",
     "typedWidgetInfo": {
      "autoCreated": false,
      "defaultValue": "ethereum_mainnet",
      "label": "Schema Name",
      "name": "schema_name",
      "options": {
       "widgetDisplayType": "Text",
       "validationRegex": null
      },
      "parameterDataType": "String"
     },
     "widgetInfo": {
      "widgetType": "text",
      "defaultValue": "ethereum_mainnet",
      "label": "Schema Name",
      "name": "schema_name",
      "options": {
       "widgetType": "text",
       "autoCreated": null,
       "validationRegex": null
      }
     }
    },
    "start_block": {
     "currentValue": "23515909",
     "nuid": "84a1ce4b-a7b7-432b-9db1-18fd18f5d5f2",
     "typedWidgetInfo": {
      "autoCreated": false,
      "defaultValue": "23515923",
      "label": "Ethereum Start Block",
      "name": "start_block",
      "options": {
       "widgetDisplayType": "Text",
       "validationRegex": null
      },
      "parameterDataType": "String"
     },
     "widgetInfo": {
      "widgetType": "text",
      "defaultValue": "23515923",
      "label": "Ethereum Start Block",
      "name": "start_block",
      "options": {
       "widgetType": "text",
       "autoCreated": null,
       "validationRegex": null
      }
     }
    }
   }
  },
  "language_info": {
   "name": "python"
  }
 },
 "nbformat": 4,
 "nbformat_minor": 0
}