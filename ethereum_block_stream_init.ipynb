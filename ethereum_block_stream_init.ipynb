{
 "cells": [
  {
   "cell_type": "code",
   "execution_count": 0,
   "metadata": {
    "application/vnd.databricks.v1+cell": {
     "cellMetadata": {
      "byteLimit": 2048000,
      "rowLimit": 10000
     },
     "inputWidgets": {},
     "nuid": "7adff6a6-e1ed-4c8a-a639-cf71423a9de3",
     "showTitle": false,
     "tableResultSettingsMap": {},
     "title": ""
    }
   },
   "outputs": [
    {
     "output_type": "stream",
     "name": "stdout",
     "output_type": "stream",
     "text": [
      "Collecting web3\n  Downloading web3-7.13.0-py3-none-any.whl.metadata (5.6 kB)\nCollecting eth-abi>=5.0.1 (from web3)\n  Downloading eth_abi-5.2.0-py3-none-any.whl.metadata (3.8 kB)\nCollecting eth-account>=0.13.6 (from web3)\n  Downloading eth_account-0.13.7-py3-none-any.whl.metadata (3.7 kB)\nCollecting eth-hash>=0.5.1 (from eth-hash[pycryptodome]>=0.5.1->web3)\n  Downloading eth_hash-0.7.1-py3-none-any.whl.metadata (4.2 kB)\nCollecting eth-typing>=5.0.0 (from web3)\n  Downloading eth_typing-5.2.1-py3-none-any.whl.metadata (3.2 kB)\nCollecting eth-utils>=5.0.0 (from web3)\n  Downloading eth_utils-5.3.1-py3-none-any.whl.metadata (5.7 kB)\nCollecting hexbytes>=1.2.0 (from web3)\n  Downloading hexbytes-1.3.1-py3-none-any.whl.metadata (3.3 kB)\nCollecting aiohttp>=3.7.4.post0 (from web3)\n  Downloading aiohttp-3.13.0-cp312-cp312-manylinux2014_x86_64.manylinux_2_17_x86_64.manylinux_2_28_x86_64.whl.metadata (8.1 kB)\nRequirement already satisfied: pydantic>=2.4.0 in /databricks/python3/lib/python3.12/site-packages (from web3) (2.10.6)\nRequirement already satisfied: requests>=2.23.0 in /databricks/python3/lib/python3.12/site-packages (from web3) (2.32.3)\nRequirement already satisfied: typing-extensions>=4.0.1 in /databricks/python3/lib/python3.12/site-packages (from web3) (4.12.2)\nCollecting types-requests>=2.0.0 (from web3)\n  Downloading types_requests-2.32.4.20250913-py3-none-any.whl.metadata (2.0 kB)\nCollecting websockets<16.0.0,>=10.0.0 (from web3)\n  Downloading websockets-15.0.1-cp312-cp312-manylinux_2_5_x86_64.manylinux1_x86_64.manylinux_2_17_x86_64.manylinux2014_x86_64.whl.metadata (6.8 kB)\nCollecting pyunormalize>=15.0.0 (from web3)\n  Downloading pyunormalize-17.0.0-py3-none-any.whl.metadata (5.7 kB)\nCollecting aiohappyeyeballs>=2.5.0 (from aiohttp>=3.7.4.post0->web3)\n  Downloading aiohappyeyeballs-2.6.1-py3-none-any.whl.metadata (5.9 kB)\nCollecting aiosignal>=1.4.0 (from aiohttp>=3.7.4.post0->web3)\n  Downloading aiosignal-1.4.0-py3-none-any.whl.metadata (3.7 kB)\nRequirement already satisfied: attrs>=17.3.0 in /databricks/python3/lib/python3.12/site-packages (from aiohttp>=3.7.4.post0->web3) (24.3.0)\nCollecting frozenlist>=1.1.1 (from aiohttp>=3.7.4.post0->web3)\n  Downloading frozenlist-1.8.0-cp312-cp312-manylinux1_x86_64.manylinux_2_28_x86_64.manylinux_2_5_x86_64.whl.metadata (20 kB)\nCollecting multidict<7.0,>=4.5 (from aiohttp>=3.7.4.post0->web3)\n  Downloading multidict-6.7.0-cp312-cp312-manylinux2014_x86_64.manylinux_2_17_x86_64.manylinux_2_28_x86_64.whl.metadata (5.3 kB)\nCollecting propcache>=0.2.0 (from aiohttp>=3.7.4.post0->web3)\n  Downloading propcache-0.4.0-cp312-cp312-manylinux2014_x86_64.manylinux_2_17_x86_64.manylinux_2_28_x86_64.whl.metadata (13 kB)\nCollecting yarl<2.0,>=1.17.0 (from aiohttp>=3.7.4.post0->web3)\n  Downloading yarl-1.22.0-cp312-cp312-manylinux2014_x86_64.manylinux_2_17_x86_64.manylinux_2_28_x86_64.whl.metadata (75 kB)\nCollecting parsimonious<0.11.0,>=0.10.0 (from eth-abi>=5.0.1->web3)\n  Downloading parsimonious-0.10.0-py3-none-any.whl.metadata (25 kB)\nCollecting bitarray>=2.4.0 (from eth-account>=0.13.6->web3)\n  Downloading bitarray-3.7.1-cp312-cp312-manylinux_2_17_x86_64.manylinux2014_x86_64.whl.metadata (34 kB)\nCollecting eth-keyfile<0.9.0,>=0.7.0 (from eth-account>=0.13.6->web3)\n  Downloading eth_keyfile-0.8.1-py3-none-any.whl.metadata (8.5 kB)\nCollecting eth-keys>=0.4.0 (from eth-account>=0.13.6->web3)\n  Downloading eth_keys-0.7.0-py3-none-any.whl.metadata (13 kB)\nCollecting eth-rlp>=2.1.0 (from eth-account>=0.13.6->web3)\n  Downloading eth_rlp-2.2.0-py3-none-any.whl.metadata (3.3 kB)\nCollecting rlp>=1.0.0 (from eth-account>=0.13.6->web3)\n  Downloading rlp-4.1.0-py3-none-any.whl.metadata (3.2 kB)\nCollecting ckzg>=2.0.0 (from eth-account>=0.13.6->web3)\n  Downloading ckzg-2.1.5-cp312-cp312-manylinux_2_17_x86_64.manylinux2014_x86_64.whl.metadata (887 bytes)\nCollecting pycryptodome<4,>=3.6.6 (from eth-hash[pycryptodome]>=0.5.1->web3)\n  Downloading pycryptodome-3.23.0-cp37-abi3-manylinux_2_17_x86_64.manylinux2014_x86_64.whl.metadata (3.4 kB)\nCollecting cytoolz>=0.10.1 (from eth-utils>=5.0.0->web3)\n  Downloading cytoolz-1.0.1-cp312-cp312-manylinux_2_17_x86_64.manylinux2014_x86_64.whl.metadata (4.6 kB)\nRequirement already satisfied: annotated-types>=0.6.0 in /databricks/python3/lib/python3.12/site-packages (from pydantic>=2.4.0->web3) (0.7.0)\nRequirement already satisfied: pydantic-core==2.27.2 in /databricks/python3/lib/python3.12/site-packages (from pydantic>=2.4.0->web3) (2.27.2)\nRequirement already satisfied: charset-normalizer<4,>=2 in /databricks/python3/lib/python3.12/site-packages (from requests>=2.23.0->web3) (3.3.2)\nRequirement already satisfied: idna<4,>=2.5 in /databricks/python3/lib/python3.12/site-packages (from requests>=2.23.0->web3) (3.7)\nRequirement already satisfied: urllib3<3,>=1.21.1 in /databricks/python3/lib/python3.12/site-packages (from requests>=2.23.0->web3) (2.3.0)\nRequirement already satisfied: certifi>=2017.4.17 in /databricks/python3/lib/python3.12/site-packages (from requests>=2.23.0->web3) (2025.1.31)\nCollecting toolz>=0.8.0 (from cytoolz>=0.10.1->eth-utils>=5.0.0->web3)\n  Downloading toolz-1.0.0-py3-none-any.whl.metadata (5.1 kB)\nCollecting regex>=2022.3.15 (from parsimonious<0.11.0,>=0.10.0->eth-abi>=5.0.1->web3)\n  Downloading regex-2025.9.18-cp312-cp312-manylinux2014_x86_64.manylinux_2_17_x86_64.manylinux_2_28_x86_64.whl.metadata (40 kB)\nDownloading web3-7.13.0-py3-none-any.whl (1.4 MB)\n\u001B[?25l   \u001B[90m━━━━━━━━━━━━━━━━━━━━━━━━━━━━━━━━━━━━━━━━\u001B[0m \u001B[32m0.0/1.4 MB\u001B[0m \u001B[31m?\u001B[0m eta \u001B[36m-:--:--\u001B[0m\r\u001B[2K   \u001B[90m━━━━━━━━━━━━━━━━━━━━━━━━━━━━━━━━━━━━━━━━\u001B[0m \u001B[32m1.4/1.4 MB\u001B[0m \u001B[31m32.5 MB/s\u001B[0m eta \u001B[36m0:00:00\u001B[0m\n\u001B[?25hDownloading aiohttp-3.13.0-cp312-cp312-manylinux2014_x86_64.manylinux_2_17_x86_64.manylinux_2_28_x86_64.whl (1.8 MB)\n\u001B[?25l   \u001B[90m━━━━━━━━━━━━━━━━━━━━━━━━━━━━━━━━━━━━━━━━\u001B[0m \u001B[32m0.0/1.8 MB\u001B[0m \u001B[31m?\u001B[0m eta \u001B[36m-:--:--\u001B[0m\r\u001B[2K   \u001B[90m━━━━━━━━━━━━━━━━━━━━━━━━━━━━━━━━━━━━━━━━\u001B[0m \u001B[32m1.8/1.8 MB\u001B[0m \u001B[31m50.4 MB/s\u001B[0m eta \u001B[36m0:00:00\u001B[0m\n\u001B[?25hDownloading eth_abi-5.2.0-py3-none-any.whl (28 kB)\nDownloading eth_account-0.13.7-py3-none-any.whl (587 kB)\n\u001B[?25l   \u001B[90m━━━━━━━━━━━━━━━━━━━━━━━━━━━━━━━━━━━━━━━━\u001B[0m \u001B[32m0.0/587.5 kB\u001B[0m \u001B[31m?\u001B[0m eta \u001B[36m-:--:--\u001B[0m\r\u001B[2K   \u001B[90m━━━━━━━━━━━━━━━━━━━━━━━━━━━━━━━━━━━━━━━━\u001B[0m \u001B[32m587.5/587.5 kB\u001B[0m \u001B[31m28.4 MB/s\u001B[0m eta \u001B[36m0:00:00\u001B[0m\n\u001B[?25hDownloading eth_hash-0.7.1-py3-none-any.whl (8.0 kB)\nDownloading eth_typing-5.2.1-py3-none-any.whl (19 kB)\nDownloading eth_utils-5.3.1-py3-none-any.whl (102 kB)\nDownloading hexbytes-1.3.1-py3-none-any.whl (5.1 kB)\nDownloading pyunormalize-17.0.0-py3-none-any.whl (51 kB)\nDownloading types_requests-2.32.4.20250913-py3-none-any.whl (20 kB)\nDownloading websockets-15.0.1-cp312-cp312-manylinux_2_5_x86_64.manylinux1_x86_64.manylinux_2_17_x86_64.manylinux2014_x86_64.whl (182 kB)\nDownloading aiohappyeyeballs-2.6.1-py3-none-any.whl (15 kB)\nDownloading aiosignal-1.4.0-py3-none-any.whl (7.5 kB)\nDownloading bitarray-3.7.1-cp312-cp312-manylinux_2_17_x86_64.manylinux2014_x86_64.whl (332 kB)\nDownloading ckzg-2.1.5-cp312-cp312-manylinux_2_17_x86_64.manylinux2014_x86_64.whl (171 kB)\nDownloading cytoolz-1.0.1-cp312-cp312-manylinux_2_17_x86_64.manylinux2014_x86_64.whl (2.1 MB)\n\u001B[?25l   \u001B[90m━━━━━━━━━━━━━━━━━━━━━━━━━━━━━━━━━━━━━━━━\u001B[0m \u001B[32m0.0/2.1 MB\u001B[0m \u001B[31m?\u001B[0m eta \u001B[36m-:--:--\u001B[0m\r\u001B[2K   \u001B[90m━━━━━━━━━━━━━━━━━━━━━━━━━━━━━━━━━━━━━━━━\u001B[0m \u001B[32m2.1/2.1 MB\u001B[0m \u001B[31m45.4 MB/s\u001B[0m eta \u001B[36m0:00:00\u001B[0m\n\u001B[?25hDownloading eth_keyfile-0.8.1-py3-none-any.whl (7.5 kB)\nDownloading eth_keys-0.7.0-py3-none-any.whl (20 kB)\nDownloading eth_rlp-2.2.0-py3-none-any.whl (4.4 kB)\nDownloading frozenlist-1.8.0-cp312-cp312-manylinux1_x86_64.manylinux_2_28_x86_64.manylinux_2_5_x86_64.whl (242 kB)\nDownloading multidict-6.7.0-cp312-cp312-manylinux2014_x86_64.manylinux_2_17_x86_64.manylinux_2_28_x86_64.whl (256 kB)\nDownloading parsimonious-0.10.0-py3-none-any.whl (48 kB)\nDownloading propcache-0.4.0-cp312-cp312-manylinux2014_x86_64.manylinux_2_17_x86_64.manylinux_2_28_x86_64.whl (221 kB)\nDownloading pycryptodome-3.23.0-cp37-abi3-manylinux_2_17_x86_64.manylinux2014_x86_64.whl (2.3 MB)\n\u001B[?25l   \u001B[90m━━━━━━━━━━━━━━━━━━━━━━━━━━━━━━━━━━━━━━━━\u001B[0m \u001B[32m0.0/2.3 MB\u001B[0m \u001B[31m?\u001B[0m eta \u001B[36m-:--:--\u001B[0m\r\u001B[2K   \u001B[90m━━━━━━━━━━━━━━━━━━━━━━━━━━━━━━━━━━━━━━━━\u001B[0m \u001B[32m2.3/2.3 MB\u001B[0m \u001B[31m47.0 MB/s\u001B[0m eta \u001B[36m0:00:00\u001B[0m\n\u001B[?25hDownloading rlp-4.1.0-py3-none-any.whl (19 kB)\nDownloading yarl-1.22.0-cp312-cp312-manylinux2014_x86_64.manylinux_2_17_x86_64.manylinux_2_28_x86_64.whl (377 kB)\nDownloading regex-2025.9.18-cp312-cp312-manylinux2014_x86_64.manylinux_2_17_x86_64.manylinux_2_28_x86_64.whl (802 kB)\n\u001B[?25l   \u001B[90m━━━━━━━━━━━━━━━━━━━━━━━━━━━━━━━━━━━━━━━━\u001B[0m \u001B[32m0.0/802.0 kB\u001B[0m \u001B[31m?\u001B[0m eta \u001B[36m-:--:--\u001B[0m\r\u001B[2K   \u001B[90m━━━━━━━━━━━━━━━━━━━━━━━━━━━━━━━━━━━━━━━━\u001B[0m \u001B[32m802.0/802.0 kB\u001B[0m \u001B[31m24.0 MB/s\u001B[0m eta \u001B[36m0:00:00\u001B[0m\n\u001B[?25hDownloading toolz-1.0.0-py3-none-any.whl (56 kB)\nInstalling collected packages: ckzg, bitarray, websockets, types-requests, toolz, regex, pyunormalize, pycryptodome, propcache, multidict, hexbytes, frozenlist, eth-typing, eth-hash, aiohappyeyeballs, yarl, parsimonious, cytoolz, aiosignal, eth-utils, aiohttp, rlp, eth-keys, eth-abi, eth-rlp, eth-keyfile, eth-account, web3\nSuccessfully installed aiohappyeyeballs-2.6.1 aiohttp-3.13.0 aiosignal-1.4.0 bitarray-3.7.1 ckzg-2.1.5 cytoolz-1.0.1 eth-abi-5.2.0 eth-account-0.13.7 eth-hash-0.7.1 eth-keyfile-0.8.1 eth-keys-0.7.0 eth-rlp-2.2.0 eth-typing-5.2.1 eth-utils-5.3.1 frozenlist-1.8.0 hexbytes-1.3.1 multidict-6.7.0 parsimonious-0.10.0 propcache-0.4.0 pycryptodome-3.23.0 pyunormalize-17.0.0 regex-2025.9.18 rlp-4.1.0 toolz-1.0.0 types-requests-2.32.4.20250913 web3-7.13.0 websockets-15.0.1 yarl-1.22.0\n\u001B[43mNote: you may need to restart the kernel using %restart_python or dbutils.library.restartPython() to use updated packages.\u001B[0m\n"
     ]
    }
   ],
   "source": [
    "%pip install web3"
   ]
  },
  {
   "cell_type": "code",
   "execution_count": 0,
   "metadata": {
    "application/vnd.databricks.v1+cell": {
     "cellMetadata": {
      "byteLimit": 2048000,
      "rowLimit": 10000
     },
     "inputWidgets": {},
     "nuid": "d6e2e72c-c53e-4a4b-a8e5-25d617b4901b",
     "showTitle": false,
     "tableResultSettingsMap": {},
     "title": ""
    }
   },
   "outputs": [
    {
     "output_type": "stream",
     "name": "stdout",
     "output_type": "stream",
     "text": [
      "\uD83D\uDD27 Using Catalog: web3_data, Schema: ethereum_mainnet\n⏱ Poll Interval: 15s\n\uD83D\uDCE6 Microbatch Size: 10 blocks per batch\n\uD83D\uDCC1 Data: /Volumes/web3_data/ethereum_mainnet/ethereum_blocks\n\uD83D\uDCC1 Checkpoints: /Volumes/web3_data/ethereum_mainnet/ethereum_checkpoints\n\uD83D\uDCC1 Schemas: /Volumes/web3_data/ethereum_mainnet/ethereum_schemas\n[1/6] CREATE CATALOG IF NOT EXISTS web3_data MANAGED LOCATION 's3://eth-stream-ingestion/'\n  ✅ Success\n[2/6] CREATE SCHEMA IF NOT EXISTS web3_data.ethereum_mainnet\n  ✅ Success\n[3/6] CREATE VOLUME IF NOT EXISTS web3_data.ethereum_mainnet.ethereum_blocks\n  ✅ Success\n[4/6] CREATE VOLUME IF NOT EXISTS web3_data.ethereum_mainnet.ethereum_checkpoints\n  ✅ Success\n[5/6] CREATE VOLUME IF NOT EXISTS web3_data.ethereum_mainnet.ethereum_schemas\n  ✅ Success\n[6/6] CREATE VOLUME IF NOT EXISTS web3_data.ethereum_mainnet.ethereum_output\n  ✅ Success\n"
     ]
    }
   ],
   "source": [
    "from web3 import Web3\n",
    "\n",
    "\n",
    "\n",
    "# === SIMPLE PARAMETERIZATION (VARIABLES FOR REUSABILITY) ===\n",
    "dbutils.widgets.text(\"catalog_name\", \"web3_data\", \"Catalog Name\")\n",
    "dbutils.widgets.text(\"schema_name\", \"ethereum_mainnet\", \"Schema Name\")\n",
    "dbutils.widgets.text(\"poll_interval\", \"15\", \"Polling Interval (seconds)\")\n",
    "dbutils.widgets.text(\"microbatch_size\", \"10\", \"Blocks per Microbatch\")\n",
    "dbutils.widgets.text(\"s3_managed_bucket\",\"eth-stream-ingestion\",\"S3 Managed Bucket\")\n",
    "dbutils.widgets.text(\"max_calls_per_second\",\"0.8\",\"Max calls/sec\")\n",
    "\n",
    "# === CONFIGURATION ===\n",
    "CATALOG = dbutils.widgets.get(\"catalog_name\")\n",
    "SCHEMA = dbutils.widgets.get(\"schema_name\")\n",
    "S3_MANAGED_BUCKET = dbutils.widgets.get('s3_managed_bucket')\n",
    "POLL_INTERVAL = int(dbutils.widgets.get(\"poll_interval\"))\n",
    "MICROBATCH_SIZE = int(dbutils.widgets.get(\"microbatch_size\"))\n",
    "MAX_CALLS_PER_SECOND = dbutils.widgets.get(\"max_calls_per_second\")\n",
    "\n",
    "\n",
    "# Unity Catalog volume paths\n",
    "DATA_VOLUME = f\"/Volumes/{CATALOG}/{SCHEMA}/ethereum_blocks\"\n",
    "CHECKPOINT_VOLUME = f\"/Volumes/{CATALOG}/{SCHEMA}/ethereum_checkpoints\"\n",
    "SCHEMA_VOLUME = f\"/Volumes/{CATALOG}/{SCHEMA}/ethereum_schemas\"\n",
    "OUTPUT_VOLUME = f\"/Volumes/{CATALOG}/{SCHEMA}/ethereum_output\"\n",
    "\n",
    "print(f\"\uD83D\uDD27 Using Catalog: {CATALOG}, Schema: {SCHEMA}\")\n",
    "print(f\"⏱ Poll Interval: {POLL_INTERVAL}s\")\n",
    "print(f\"\uD83D\uDCE6 Microbatch Size: {MICROBATCH_SIZE} blocks per batch\")\n",
    "print(f\"\uD83D\uDCC1 Data: {DATA_VOLUME}\")\n",
    "print(f\"\uD83D\uDCC1 Checkpoints: {CHECKPOINT_VOLUME}\")\n",
    "print(f\"\uD83D\uDCC1 Schemas: {SCHEMA_VOLUME}\")\n",
    "\n",
    "# === UNITY CATALOG SETUP ===\n",
    "stmts = [\n",
    "    f\"CREATE CATALOG IF NOT EXISTS {CATALOG} MANAGED LOCATION 's3://{S3_MANAGED_BUCKET}/'\",\n",
    "    f\"CREATE SCHEMA IF NOT EXISTS {CATALOG}.{SCHEMA}\",\n",
    "    f\"CREATE VOLUME IF NOT EXISTS {CATALOG}.{SCHEMA}.ethereum_blocks\",\n",
    "    f\"CREATE VOLUME IF NOT EXISTS {CATALOG}.{SCHEMA}.ethereum_checkpoints\",\n",
    "    f\"CREATE VOLUME IF NOT EXISTS {CATALOG}.{SCHEMA}.ethereum_schemas\",\n",
    "    f\"CREATE VOLUME IF NOT EXISTS {CATALOG}.{SCHEMA}.ethereum_output\",\n",
    "]\n",
    "\n",
    "for i, s in enumerate(stmts, 1):\n",
    "    print(f\"[{i}/{len(stmts)}] {s}\")\n",
    "    try:\n",
    "        spark.sql(s)\n",
    "        print(\"  ✅ Success\")\n",
    "    except Exception as e:\n",
    "        print(f\"  ❌ Error: {e}\")\n"
   ]
  },
  {
   "cell_type": "code",
   "execution_count": 0,
   "metadata": {
    "application/vnd.databricks.v1+cell": {
     "cellMetadata": {
      "byteLimit": 2048000,
      "rowLimit": 10000
     },
     "inputWidgets": {},
     "nuid": "008ee83b-92b6-4f15-9a41-821ea59b4ac3",
     "showTitle": false,
     "tableResultSettingsMap": {},
     "title": ""
    }
   },
   "outputs": [],
   "source": [
    "\n",
    "import os, json, time, logging\n",
    "from pyspark.sql.datasource import DataSource, DataSourceStreamReader, InputPartition\n",
    "from pyspark.sql.types import StructType, StructField, LongType, StringType\n",
    "from pyspark.sql import Row\n",
    "from web3 import Web3\n",
    "\n",
    "            \n",
    "\n",
    "# -----------------------------\n",
    "# Logging setup\n",
    "# -----------------------------\n",
    "logging.basicConfig(\n",
    "    level=logging.INFO, \n",
    "    format=\"%(asctime)s [%(levelname)s] [%(name)s] %(message)s\",\n",
    "    datefmt=\"%Y-%m-%d %H:%M:%S\"\n",
    ")\n",
    "logger = logging.getLogger(\"EthereumStream\")\n",
    "\n",
    "# -----------------------------\n",
    "# Partition class\n",
    "# -----------------------------\n",
    "class BlockRangePartition(InputPartition):\n",
    "    def __init__(self, start, end):\n",
    "        self.start = start\n",
    "        self.end = end\n",
    "        logger.debug(f\"Created partition: blocks {start} to {end}\")\n",
    "\n",
    "# -----------------------------\n",
    "# StreamReader\n",
    "# -----------------------------\n",
    "class EthereumStreamReader(DataSourceStreamReader):\n",
    "    def __init__(self, schema, options):\n",
    "        logger.info(\"=\" * 60)\n",
    "        logger.info(\"Initializing EthereumStreamReader\")\n",
    "        logger.info(\"=\" * 60)\n",
    "        \n",
    "        self.schema = schema\n",
    "        self.options = options\n",
    "        self.provider_uri = options.get(\"provider_uri\")\n",
    "        self.start_block = int(options.get(\"start_block\", 1))\n",
    "        self.output_dir = options.get(\"output_dir\", \"dbfs:/Volumes/web3_data/ethereum_mainnet/ethereum_blocks/raw\")\n",
    "        self.current_block = self.start_block\n",
    "        self.max_calls_per_second = float(options.get(\"max_calls_per_second\", 0.8))\n",
    "\n",
    "        logger.info(f\"Configuration:\")\n",
    "        logger.info(f\"  - Provider URI: {self.provider_uri}\")\n",
    "        logger.info(f\"  - Start block: {self.start_block}\")\n",
    "        logger.info(f\"  - Output directory: {self.output_dir}\")\n",
    "        logger.info(f\"  - Max calls/sec: {self.max_calls_per_second}\")\n",
    "        logger.info(\"=\" * 60)\n",
    "        print(f\"start Block at , {self.start_block}\")\n",
    "    # -------------------------\n",
    "    # Offset handling (dict-based)\n",
    "    # -------------------------\n",
    "    def initialOffset(self):\n",
    "        offset = {\"offset\": self.current_block}\n",
    "        logger.info(f\"initialOffset() called -> Returning: {offset}\")\n",
    "        return offset\n",
    "\n",
    "    def latestOffset(self):\n",
    "        logger.info(\"latestOffset() called -> Connecting to Ethereum provider...\")\n",
    "        try:\n",
    "            w3 = Web3(Web3.HTTPProvider(self.provider_uri))\n",
    "            if not w3.is_connected():\n",
    "                logger.error(\"Failed to connect to Ethereum provider in latestOffset()\")\n",
    "                raise RuntimeError(\"Failed to connect to Ethereum provider\")\n",
    "            \n",
    "            latest = w3.eth.block_number\n",
    "            offset = {\"offset\": latest}\n",
    "            logger.info(f\"latestOffset() -> Latest block from chain: {latest}\")\n",
    "            logger.info(f\"latestOffset() -> Returning: {offset}\")\n",
    "            print(f\"latestOffset() -> Returning: {offset}\")\n",
    "            return offset\n",
    "        except Exception as e:\n",
    "            logger.error(f\"Error in latestOffset(): {e}\", exc_info=True)\n",
    "            raise\n",
    "\n",
    "    # -------------------------\n",
    "    # Partition planning\n",
    "    # -------------------------\n",
    "    def partitions(self, start_offset, end_offset):\n",
    "        \"\"\"Legacy method name - calls planPartitions internally\"\"\"\n",
    "        return self.planPartitions(start_offset, end_offset)\n",
    "    \n",
    "    def planPartitions(self, start_offset, end_offset):\n",
    "        logger.info(\"-\" * 60)\n",
    "        logger.info(\"planPartitions() called\")\n",
    "        logger.info(f\"  - start_offset: {start_offset}\")\n",
    "        logger.info(f\"  - end_offset: {end_offset}\")\n",
    "        \n",
    "        start = start_offset.get(\"offset\", self.start_block) if start_offset else self.start_block\n",
    "        end = end_offset.get(\"offset\", start + 1000) if end_offset else start + 1000\n",
    "        step = int(self.options.get(\"batch_size\", 10))\n",
    "        \n",
    "        logger.info(f\"  - Computed start: {start}\")\n",
    "        print(f\"  - Computed start: {start}\")\n",
    "\n",
    "        logger.info(f\"  - Computed end: {end}\")\n",
    "        print(f\"  - Computed end: {end}\")\n",
    "\n",
    "        logger.info(f\"  - Batch size: {step}\")\n",
    "        print(f\"  - Batch size: {step}\")\n",
    "\n",
    "\n",
    "\n",
    "\n",
    "        \n",
    "        partitions = []\n",
    "        for i in range(start, end + 1, step):\n",
    "            partition_end = min(i + step - 1, end)\n",
    "            partitions.append(BlockRangePartition(i, partition_end))\n",
    "        \n",
    "        logger.info(f\"  - Created {len(partitions)} partition(s)\")\n",
    "        for idx, p in enumerate(partitions):\n",
    "            logger.info(f\"    Partition {idx}: blocks {p.start} to {p.end} ({p.end - p.start + 1} blocks)\")\n",
    "        logger.info(\"-\" * 60)\n",
    "        \n",
    "        return partitions\n",
    "\n",
    "    # -------------------------\n",
    "    # Reader\n",
    "    # -------------------------\n",
    "    def read(self, partition):\n",
    "        logger.info(\"*\" * 60)\n",
    "        logger.info(f\"read() called for partition: blocks {partition.start} to {partition.end}\")\n",
    "        logger.info(\"*\" * 60)\n",
    "        \n",
    "        try:\n",
    "            w3 = Web3(Web3.HTTPProvider(self.provider_uri))\n",
    "            if not w3.is_connected():\n",
    "                logger.error(\"Failed to connect to Ethereum provider in read()\")\n",
    "                raise RuntimeError(\"Failed to connect to Ethereum provider\")\n",
    "            \n",
    "            logger.info(\"Successfully connected to Ethereum provider\")\n",
    "        except Exception as e:\n",
    "            logger.error(f\"Connection error in read(): {e}\", exc_info=True)\n",
    "            raise\n",
    "\n",
    "        last_call_time = 0\n",
    "        blocks_processed = 0\n",
    "        blocks_failed = 0\n",
    "        \n",
    "        for blk_num in range(partition.start, partition.end + 1):\n",
    "            try:\n",
    "                # Rate limiting\n",
    "                now = time.time()\n",
    "                sleep_time = (1 / self.max_calls_per_second) - (now - last_call_time)\n",
    "                if sleep_time > 0:\n",
    "                    logger.debug(f\"Rate limiting: sleeping for {sleep_time:.3f}s\")\n",
    "                    time.sleep(sleep_time)\n",
    "                last_call_time = time.time()\n",
    "\n",
    "                logger.info(f\"Fetching block {blk_num}...\")\n",
    "                block = w3.eth.get_block(blk_num, full_transactions=False)\n",
    "\n",
    "                blk_dict = {\n",
    "                    \"block_number\": block.number,\n",
    "                    \"block_hash\": block.hash.hex(),\n",
    "                    \"timestamp\": block.timestamp,\n",
    "                    \"tx_count\": len(block.transactions)\n",
    "                }\n",
    "\n",
    "                # Save JSON locally (optional)\n",
    "                file_path = os.path.join(self.output_dir, f\"block_{blk_num}.json\")\n",
    "                with open(file_path, \"w\") as f:\n",
    "                    json.dump(blk_dict, f, indent=2)\n",
    "                logger.debug(f\"Saved block data to {file_path}\")\n",
    "\n",
    "                logger.info(f\"✓ Block {blk_num}: hash={block.hash.hex()[:10]}..., \"\n",
    "                           f\"timestamp={block.timestamp}, tx_count={len(block.transactions)}\")\n",
    "\n",
    "                yield Row(\n",
    "                    block_number=block.number,\n",
    "                    block_hash=block.hash.hex(),\n",
    "                    timestamp=block.timestamp,\n",
    "                    tx_count=len(block.transactions)\n",
    "                )\n",
    "                \n",
    "                self.current_block = blk_num + 1\n",
    "                blocks_processed += 1\n",
    "\n",
    "            except Exception as e:\n",
    "                blocks_failed += 1\n",
    "                logger.error(f\"✗ Error fetching block {blk_num}: {e}\", exc_info=True)\n",
    "                continue\n",
    "        \n",
    "        logger.info(\"*\" * 60)\n",
    "        logger.info(f\"read() completed for partition {partition.start}-{partition.end}\")\n",
    "        logger.info(f\"  - Blocks processed: {blocks_processed}\")\n",
    "        logger.info(f\"  - Blocks failed: {blocks_failed}\")\n",
    "        logger.info(\"*\" * 60)\n",
    "\n",
    "    # -------------------------\n",
    "    # Commit method for checkpointing\n",
    "    # -------------------------\n",
    "    def commit(self, end_offset):\n",
    "        logger.info(\"=\" * 60)\n",
    "        logger.info(f\"commit() called with end_offset: {end_offset}\")\n",
    "        logger.info(f\"Successfully committed up to block: {end_offset.get('offset')}\")\n",
    "        logger.info(\"=\" * 60)\n",
    "\n",
    "    # -------------------------\n",
    "    # Pickle support\n",
    "    # -------------------------\n",
    "    def __getstate__(self):\n",
    "        logger.debug(\"__getstate__() called for serialization\")\n",
    "        state = self.__dict__.copy()\n",
    "        return state\n",
    "\n",
    "    def __setstate__(self, state):\n",
    "        logger.debug(\"__setstate__() called for deserialization\")\n",
    "        self.__dict__.update(state)\n",
    "\n",
    "# -----------------------------\n",
    "# DataSource wrapper\n",
    "# -----------------------------\n",
    "class EthereumDataSource(DataSource):\n",
    "    def __init__(self, options):\n",
    "        logger.info(\"=\" * 60)\n",
    "        logger.info(\"EthereumDataSource.__init__() called\")\n",
    "        logger.info(f\"Options: {options}\")\n",
    "        logger.info(\"=\" * 60)\n",
    "        self.options = options\n",
    "\n",
    "    @classmethod\n",
    "    def name(cls):\n",
    "        logger.debug(\"name() called -> returning 'ethereum'\")\n",
    "        return \"ethereum\"\n",
    "\n",
    "    def schema(self):\n",
    "        schema = StructType([\n",
    "            StructField(\"block_number\", LongType()),\n",
    "            StructField(\"block_hash\", StringType()),\n",
    "            StructField(\"timestamp\", LongType()),\n",
    "            StructField(\"tx_count\", LongType())\n",
    "        ])\n",
    "        logger.info(\"schema() called -> returning schema with 4 fields\")\n",
    "        logger.debug(f\"Schema: {schema}\")\n",
    "        return schema\n",
    "\n",
    "    def streamReader(self, schema):\n",
    "        logger.info(\"streamReader() called -> creating EthereumStreamReader\")\n",
    "        return EthereumStreamReader(schema, self.options)\n",
    "\n"
   ]
  },
  {
   "cell_type": "code",
   "execution_count": 0,
   "metadata": {
    "application/vnd.databricks.v1+cell": {
     "cellMetadata": {
      "byteLimit": 2048000,
      "rowLimit": 10000
     },
     "inputWidgets": {},
     "nuid": "8a3c57f7-48ba-4a64-8a77-7735a53f9a90",
     "showTitle": false,
     "tableResultSettingsMap": {},
     "title": ""
    }
   },
   "outputs": [
    {
     "output_type": "stream",
     "name": "stdout",
     "output_type": "stream",
     "text": [
      "Latest Ethereum block number: 23522635\n✅ Using checkpoint: /Volumes/web3_data/ethereum_mainnet/ethereum_checkpoints/\n✅ Using output: /Volumes/web3_data/ethereum_mainnet/ethereum_output/\n✅ Using eth_provider_uri: https://mainnet.infura.io/v3/6504e6a7883c4b49ac1cf17099e2ea3a\n✅ Using start_block: 23522635\n✅ Using poll_interval: 15\n"
     ]
    },
    {
     "output_type": "stream",
     "name": "stderr",
     "output_type": "stream",
     "text": [
      "2025-10-07 01:35:19 [INFO] [EthereumStream] Streaming query started. Awaiting termination...\n"
     ]
    }
   ],
   "source": [
    "\n",
    "#import uuid\n",
    "import time\n",
    "from pyspark.sql import SparkSession\n",
    "from pyspark.sql.types import StructType, StructField, LongType, StringType, ArrayType, MapType\n",
    "from web3 import Web3\n",
    "\n",
    "\n",
    "# Hard-coded constants\n",
    "ETH_PROVIDER_URI = \"https://mainnet.infura.io/v3/6504e6a7883c4b49ac1cf17099e2ea3a\"\n",
    "\n",
    "# Connect to an Ethereum node (Infura, Alchemy, etc.)\n",
    "w3 = Web3(Web3.HTTPProvider(ETH_PROVIDER_URI))\n",
    "\n",
    "# Get latest block number\n",
    "start_block = w3.eth.block_number\n",
    "print(\"Latest Ethereum block number:\", start_block)\n",
    "\n",
    "# --- Spark session ---\n",
    "spark = SparkSession.builder.appName(\"EthereumStream\").getOrCreate()\n",
    "\n",
    "eth_schema = StructType([\n",
    "    StructField(\"block_number\", LongType(), True),\n",
    "    StructField(\"block_hash\", StringType(), True),\n",
    "    StructField(\"timestamp\", LongType(), True),\n",
    "    StructField(\"tx_count\", LongType(), True)\n",
    "])\n",
    "\n",
    "\n",
    "checkpoint_path = f\"{CHECKPOINT_VOLUME}/\"\n",
    "output_path = f\"{OUTPUT_VOLUME}/\"\n",
    "eth_provider_uri = f\"{ETH_PROVIDER_URI}\"\n",
    "start_block = f\"{start_block}\"\n",
    "poll_interval = f\"{POLL_INTERVAL}\"\n",
    "\n",
    "print(\"✅ Using checkpoint:\", checkpoint_path)\n",
    "print(\"✅ Using output:\", output_path)\n",
    "print(\"✅ Using eth_provider_uri:\", eth_provider_uri)\n",
    "print(\"✅ Using start_block:\", start_block)\n",
    "print(\"✅ Using poll_interval:\", poll_interval)\n",
    "\n",
    "spark.dataSource.register(EthereumDataSource)\n",
    "\n",
    "# --- Read from custom Ethereum source ---\n",
    "df = spark.readStream \\\n",
    "    .format(\"ethereum\") \\\n",
    "    .schema(eth_schema) \\\n",
    "    .option(\"provider_uri\",eth_provider_uri) \\\n",
    "    .option(\"start_block\", start_block) \\\n",
    "    .option(\"poll_interval\", poll_interval) \\\n",
    "    .load()\n",
    "\n",
    "# --- Write with dynamic paths ---\n",
    "query = df.writeStream \\\n",
    "    .format(\"delta\") \\\n",
    "    .outputMode(\"append\") \\\n",
    "    .option(\"checkpointLocation\", checkpoint_path) \\\n",
    "    .trigger(availableNow=True) \\\n",
    "    .start(output_path)\n",
    "\n",
    "logger.info(\"Streaming query started. Awaiting termination...\")\n",
    "\n"
   ]
  },
  {
   "cell_type": "code",
   "execution_count": 0,
   "metadata": {
    "application/vnd.databricks.v1+cell": {
     "cellMetadata": {
      "byteLimit": 2048000,
      "rowLimit": 10000
     },
     "inputWidgets": {},
     "nuid": "2ca5c177-feaf-4f67-9795-7509f5a45e39",
     "showTitle": false,
     "tableResultSettingsMap": {},
     "title": ""
    }
   },
   "outputs": [
    {
     "output_type": "display_data",
     "data": {
      "text/html": [
       "<style scoped>\n",
       "  .table-result-container {\n",
       "    max-height: 300px;\n",
       "    overflow: auto;\n",
       "  }\n",
       "  table, th, td {\n",
       "    border: 1px solid black;\n",
       "    border-collapse: collapse;\n",
       "  }\n",
       "  th, td {\n",
       "    padding: 5px;\n",
       "  }\n",
       "  th {\n",
       "    text-align: left;\n",
       "  }\n",
       "</style><div class='table-result-container'><table class='table-result'><thead style='background-color: white'><tr><th>block_number</th><th>block_hash</th><th>timestamp</th><th>tx_count</th></tr></thead><tbody><tr><td>23522115</td><td>48962791406f2d43f9e5eb781b2abd56a3576eb58a8c610412559e397693177c</td><td>1759794635</td><td>280</td></tr><tr><td>23522116</td><td>26f8cca59c572203bae2177e6df033b84f1ce3c879309bc160426312d862dcaa</td><td>1759794647</td><td>165</td></tr><tr><td>23522117</td><td>c3e5b919aaa9ac063f0cced47d0217c583ba890694a31d38f2be5e4ff5344ce1</td><td>1759794659</td><td>152</td></tr><tr><td>23522118</td><td>44ab9dd502a52acc6847122a19d538cd87d821979aee86412ae04bdc3d9d4ee1</td><td>1759794671</td><td>204</td></tr><tr><td>23522119</td><td>241de434fa347f5f1c98c4f48436e50ca26d598dcc68d791f9c4ca7e6acb0903</td><td>1759794683</td><td>576</td></tr><tr><td>23522120</td><td>e83f2128d34653848353a1a7d5822da171fd566ed72adbc60665987ebca9d17a</td><td>1759794695</td><td>268</td></tr><tr><td>23522121</td><td>45b2c37a83dd78cda3ad538e223721ff7501f5ded8ca5d7a423834d735fea102</td><td>1759794707</td><td>145</td></tr><tr><td>23522122</td><td>670c312ba9d891567bd65cb5962069976a9181990cde8262aa574c54eb36ca4d</td><td>1759794719</td><td>131</td></tr><tr><td>23522123</td><td>2f441f426c5f53bfd43e69bfbfbe65cbcaeeb535b68e4db1c31b58c1e4422930</td><td>1759794731</td><td>137</td></tr><tr><td>23522124</td><td>84b2b2b4990273c9c0a20dad97db14676a8267a1f0c950a6cf207cffe0a85c66</td><td>1759794743</td><td>211</td></tr><tr><td>23522137</td><td>3901204e24ddd803b4b972551b29511eb67c4eb56b6dc352f6d20d760e06d415</td><td>1759794899</td><td>191</td></tr><tr><td>23522138</td><td>e6bc1e799b53dcd9950031a06c30293d378bee27c284ad1615f3644201674514</td><td>1759794911</td><td>297</td></tr><tr><td>23522139</td><td>8d965cf12bbb3d52a7a6bcd77c297327baf3572a4e31137d9d6837a30ac4ef2f</td><td>1759794923</td><td>346</td></tr><tr><td>23522140</td><td>adee212b35306536bf9c07698d2bf8c2e9cba07b0240454fad7e99d6b9763763</td><td>1759794935</td><td>173</td></tr><tr><td>23522141</td><td>3b87fa02abbcb3a88f34e6e75eae0e6f910ae32051a9eecc30f2096dbbea7b81</td><td>1759794947</td><td>281</td></tr><tr><td>23522142</td><td>b732b824271882d0770d7a1b3a362bc63db88ca03afe623c250062a491b02d55</td><td>1759794959</td><td>211</td></tr><tr><td>23522143</td><td>56f95a92c332e685acc36e5a3271c03a121cd553c0952eb626a693677c32ee6d</td><td>1759794971</td><td>175</td></tr><tr><td>23522144</td><td>6dc4b7e49fe1e541438687aa44c0c4b56997d24b9d24884c5ab99eeb0cd1c053</td><td>1759794983</td><td>150</td></tr><tr><td>23522145</td><td>ccf3b601a257ef96b0464790f029b4c9dab445541292906b94f1f8cc18050b4d</td><td>1759794995</td><td>180</td></tr><tr><td>23522146</td><td>2bdab1defd841db21a487e764cbc50a31df6eae14bb4361686efc2afa0955f00</td><td>1759795007</td><td>162</td></tr><tr><td>23522157</td><td>fd9849c389f2811d836fa1c89cf8cbc6df6e2b0a9225f5bf91ff33fbc84af830</td><td>1759795139</td><td>242</td></tr><tr><td>23522158</td><td>98e8eff15c4e9544d0f43300a747bfdb732ab965fe14004b39b039107010ab0b</td><td>1759795151</td><td>266</td></tr><tr><td>23522159</td><td>e990a42d840d146c31c7dd64be9591e30e65f72b000c6810cec89ae5ac4049ce</td><td>1759795163</td><td>230</td></tr><tr><td>23522160</td><td>2fdc8a6d7eb8cacf59a1fbf05eb2e26903bbd88187a3b59489eadf4bea1bfa7e</td><td>1759795175</td><td>200</td></tr><tr><td>23522161</td><td>270be634d1ae0658fab02833941adaf0a4c6930bd9241b34971cd28967375648</td><td>1759795187</td><td>81</td></tr><tr><td>23522162</td><td>1028b7e1c2f5f7337fa892612705842b426de9b3806d44c4072cda35a19c8f0d</td><td>1759795199</td><td>275</td></tr><tr><td>23522163</td><td>2eaf4e62ba28a4f71a21341574a022173fa2b125ff248bf75b89747409b2edb2</td><td>1759795211</td><td>161</td></tr><tr><td>23522164</td><td>ccd8c20a99820e1287cae12ffd4f8f1ba30e8c45fd6ee0169775abd5dd0ed738</td><td>1759795223</td><td>217</td></tr><tr><td>23522165</td><td>e43040908b31408070d256e7c3d361856ffd09cdeffa73c70cbdc3e6cf87fe9a</td><td>1759795235</td><td>385</td></tr><tr><td>23522166</td><td>6a391f95f2d6cea456191bf3bb03c633e7898f41ca6a61b9929794cdc93303b7</td><td>1759795247</td><td>119</td></tr><tr><td>23522167</td><td>638932a6fd61d72fe8d525eac28cf5cce6168c51e78534e836e1178643fe7c1c</td><td>1759795259</td><td>336</td></tr><tr><td>23522168</td><td>43a1bc37a086140a8038e0593292dec2435e4274fec920a7b8dc16b6b274822d</td><td>1759795271</td><td>294</td></tr><tr><td>23522169</td><td>f544e7b8fde75a04a234aef719a59a4c257efbb7e5eaeed3d74f64001f0f441b</td><td>1759795283</td><td>175</td></tr><tr><td>23522170</td><td>f110667328cfd2ae954ae9b932a004f58d840a1499c623b68190548dc25f243d</td><td>1759795295</td><td>88</td></tr><tr><td>23522171</td><td>81e1d1d8b04934abaed2378771f4b5e45bc8fc865d2bb5d31cef96fc288f0b97</td><td>1759795307</td><td>214</td></tr><tr><td>23522172</td><td>b66f0b60bb423d46ede5040548c1ee627509bbb9db9c373061ace4c7e093a700</td><td>1759795319</td><td>272</td></tr><tr><td>23522173</td><td>24ea484faab2dede06f9a84ab2b8784f62fc62358ded8a460b28c199f916b441</td><td>1759795331</td><td>244</td></tr><tr><td>23522174</td><td>5078ae6726789ba9843f0c9c2ad04ad546be0eee0384239dee02962b5ca635d4</td><td>1759795343</td><td>198</td></tr><tr><td>23522175</td><td>fd4802ca7e25dc11e31f57e5318c71094fa66d46cc8da95bdbec300d161cc99c</td><td>1759795355</td><td>210</td></tr><tr><td>23522176</td><td>8472334d5aa711f17cb576728bf1e3779d7c429bce0d2d37979ed33de8757565</td><td>1759795367</td><td>196</td></tr><tr><td>23522237</td><td>dc86ac390498356fc95622262ec8055eadb7d0ac12d3732725a7a1d7191646e7</td><td>1759796099</td><td>121</td></tr><tr><td>23522238</td><td>7b9591ac0c62b65e2ff2644e0735b63ace5c4201c5f158f06b2e3744194aef16</td><td>1759796111</td><td>130</td></tr><tr><td>23522239</td><td>8c5114628b55d1d0352b0c8f46057457531041ccda39850ef8e6794737899b83</td><td>1759796123</td><td>181</td></tr><tr><td>23522240</td><td>c8fbea1d0158b746a084565a7fa268864290baa0e401d8f46401ee730cc3873a</td><td>1759796135</td><td>240</td></tr><tr><td>23522241</td><td>2c5a801b258b72d44a583533bf4825a254418b1eaab05e4451814802abaa271d</td><td>1759796147</td><td>286</td></tr><tr><td>23522242</td><td>f4ceee4e1c6c1e81ed092deef86cf51a0b15b4965854305aa80994815a304369</td><td>1759796159</td><td>193</td></tr><tr><td>23522243</td><td>2788a258beb7fda062c592d283a3abc9bed3233c3cf6833f1ad015602fc33702</td><td>1759796171</td><td>211</td></tr><tr><td>23522244</td><td>cef7418e302393c862b7aa03101a4718b08508e2f728c0585d3217bdeabc16b9</td><td>1759796183</td><td>159</td></tr><tr><td>23522245</td><td>485ef45d20cbcd0a3790668efbe7436a666cea5dd2d1fb687827b24323c65de4</td><td>1759796195</td><td>61</td></tr><tr><td>23522246</td><td>173e7b84641b8763c68bc14ccf0b8cb82807db145606546462ab365026e535ec</td><td>1759796207</td><td>186</td></tr><tr><td>23522187</td><td>d0d552ef53f43c0c4f93538526406c274193940c9fcc5c3851b34b9c293b08aa</td><td>1759795499</td><td>93</td></tr><tr><td>23522188</td><td>be0e8a87673c1f25f3e51fb86ec95ce3ac2704fcd68c6872787afc868663d0e2</td><td>1759795511</td><td>180</td></tr><tr><td>23522189</td><td>05477d07d333202ec3cda68b8ba26c67cf0315aa3fb051b31adf72e49e388fbb</td><td>1759795523</td><td>404</td></tr><tr><td>23522190</td><td>7368976556e1d130b4dbb92c2492e5a014c68aab3fdb6720fda768d034e7a146</td><td>1759795535</td><td>156</td></tr><tr><td>23522191</td><td>63dd72ab32f999c29d7de9872aca21bc90ce95636031085cc594a86832bce365</td><td>1759795547</td><td>186</td></tr><tr><td>23522192</td><td>8e57555bdff73e137b0fcbfadda77aa49d1b4ab919c92a97ec48452dfb52305e</td><td>1759795559</td><td>146</td></tr><tr><td>23522193</td><td>01dada17c19c180b16151ff5525258044eb637f2a62c5c3c32c5f2b66483ad29</td><td>1759795571</td><td>201</td></tr><tr><td>23522194</td><td>40a3e06719195808a4ef5aa275be23735ac7c17b0c549847e1c2d4b751a3fb08</td><td>1759795583</td><td>378</td></tr><tr><td>23522195</td><td>8f26271f096b9f12bffad1191434640bb416ad53be56161271346aa18683fe03</td><td>1759795595</td><td>178</td></tr><tr><td>23522196</td><td>b41c28de00f1f22b01698ca50ab20aa128036ce55b7dd527144da988d4719ae1</td><td>1759795607</td><td>218</td></tr><tr><td>23522197</td><td>2d6601baf104e07dd20e753cb90509120504b5efc6b8990fa0207230d3d334de</td><td>1759795619</td><td>178</td></tr><tr><td>23522198</td><td>4f6b3995d40501fabca33ebe2931e82e490ec7a7a44c0057cb9c64debdd8c0c4</td><td>1759795631</td><td>178</td></tr><tr><td>23522199</td><td>85dd1e2b422723c4dc48c3883c5ad4492d106564b189c0f7a0e57cb35b946e66</td><td>1759795643</td><td>120</td></tr><tr><td>23522200</td><td>b00d513371c50ea1ee7ae18de1dc21721e45b42dce3ca8fc5b1812427f9cc096</td><td>1759795655</td><td>119</td></tr><tr><td>23522201</td><td>f9d755d90873a89b8302cbc21f452500556251e03f8516a3a7140108b4a7ef3b</td><td>1759795667</td><td>322</td></tr><tr><td>23522202</td><td>8fe58a5fbecf19b56a13d795a9d7e4e0f50f47c97be185476eeb85c3ab73a5ba</td><td>1759795679</td><td>168</td></tr><tr><td>23522203</td><td>48cfc1e4747116ccb56224b68131c8cf21c820574715488705e31bea9f6aa35f</td><td>1759795691</td><td>224</td></tr><tr><td>23522204</td><td>a9482f67863c1bd3cc0516b9b369886b3e82163739b4a5ec1e45950a5a14c73a</td><td>1759795703</td><td>183</td></tr><tr><td>23522205</td><td>c30643f0079eeaeab3b6ab17528d893a890bf245f33ec52666b2300bf9433188</td><td>1759795715</td><td>181</td></tr><tr><td>23522206</td><td>fe8f34bf63008e7f05eec438e8492eb587d808e851113058a19532f9bd9ca000</td><td>1759795727</td><td>193</td></tr><tr><td>23522217</td><td>a5ba866f5d9067d35b0e83eafa46ca2164ea4495b7022df476f89f74369a5960</td><td>1759795859</td><td>138</td></tr><tr><td>23522218</td><td>d504361788017a1b4cf043caad66d4c8755ae2eec4790c9e8de6abff18730669</td><td>1759795871</td><td>72</td></tr><tr><td>23522219</td><td>dd9df74599373cfd71c1b613efeff60d0c6eba813a1700c752709d2806e9e736</td><td>1759795883</td><td>271</td></tr><tr><td>23522220</td><td>6cd25ae5ecc718fb2c9cb2ed0e1e13d560c31badc4b52843dbe8f6f61a89b075</td><td>1759795895</td><td>89</td></tr><tr><td>23522221</td><td>6d02343b4fa2ea98772d17040257c0f635e6548b9acfa121273a1e9c730aedc5</td><td>1759795907</td><td>209</td></tr><tr><td>23522222</td><td>336e2f2b858fc92e1375f896f9d4a7bf08317bf6c697ad3323826caa59287244</td><td>1759795919</td><td>213</td></tr><tr><td>23522223</td><td>a1daf8d4f18880062fec562dc475f636930a70a802625194430ae93cb365a4d2</td><td>1759795931</td><td>163</td></tr><tr><td>23522224</td><td>8b8381e160eb91ad1dc48325fa57143b5e5f0473d13d516f8cfb3efb8c10725b</td><td>1759795943</td><td>179</td></tr><tr><td>23522225</td><td>e5ef7bae0b3397957967781bcda803e7a51402fdb7581f35b6275e9b4f5c91fb</td><td>1759795955</td><td>175</td></tr><tr><td>23522226</td><td>22ae43a7b61a8c6288b653a95804a168bf6fbe8fe320a162925464e1d1f74c1f</td><td>1759795967</td><td>257</td></tr><tr><td>23522247</td><td>5063ca7670ef8d8c13e0dc5138c7584afe0e7b0ad9817ecbe45d2a137f2f6ce7</td><td>1759796219</td><td>74</td></tr><tr><td>23522248</td><td>e3f71a18f6caace874bd653fa81f3a46ee08ede36a15a534134915dadabc41dc</td><td>1759796231</td><td>328</td></tr><tr><td>23522249</td><td>767a28fb5b8ab351fbc599db0f0986c01ebb9ae9bd081050dc6fa6ea23722068</td><td>1759796243</td><td>274</td></tr><tr><td>23522250</td><td>9c73a924cdb7408d19a6863427fdc4268d5cbf343fbead4002895e7fd24ea69a</td><td>1759796255</td><td>203</td></tr><tr><td>23522251</td><td>e06e8b44f82143fa5a73712669244adb49d0f365f046e48be87eff63ce6701bd</td><td>1759796267</td><td>220</td></tr><tr><td>23522252</td><td>a659604a13a4bdc637785e8d348511357e96fbe82d73ab33301f2e573c23574f</td><td>1759796279</td><td>161</td></tr><tr><td>23522253</td><td>04acb3a8efa769d9af2b294fec2f6e0f0ef3a014905cd2bab25c3e26e59208a4</td><td>1759796291</td><td>215</td></tr><tr><td>23522254</td><td>d3cfb750002c4f178a70f06d8042bbd3f3d9def31285cdd8c00e90fe413b7ebb</td><td>1759796303</td><td>174</td></tr><tr><td>23522255</td><td>cc7f9cf61a74ae8b1f62385b2e05a6abb4cf8a4ea5da14ace66bf9ca2f37044d</td><td>1759796315</td><td>193</td></tr><tr><td>23522256</td><td>ba35ff4d618617bf57e7f44afe0caced2fd64519c1fa3dd1f5e0334eee8b9f16</td><td>1759796327</td><td>191</td></tr><tr><td>23522177</td><td>125de442ab814049867cc4a2af428b73cb4907c1bc94511986d84688939d7016</td><td>1759795379</td><td>214</td></tr><tr><td>23522178</td><td>0893d694fac156b3d4573de3c4524afeb4404d3fc15c1f32b01130b44c77e828</td><td>1759795391</td><td>88</td></tr><tr><td>23522179</td><td>9ea18494438b57a9d656edcfe8d0fd142b083ab505a090e0c42c82392a4a3fd5</td><td>1759795403</td><td>316</td></tr><tr><td>23522180</td><td>60a4dfa9cdaa580f3a6dc2bc7270b362cd709f7e1f7eb7981c6a91d16138f9ed</td><td>1759795415</td><td>190</td></tr><tr><td>23522181</td><td>8fe2e1f8ff371a0ceaa8266d4653b65981b87569282938a554f476e216f10e1c</td><td>1759795427</td><td>169</td></tr><tr><td>23522182</td><td>bda74f2932d8a0f828096737891a6d17688d1c932509d55fa0d864c20809042b</td><td>1759795439</td><td>169</td></tr><tr><td>23522183</td><td>b4da3d9b640f9dec26c37ab76d5b0001b8466a2bd99dfc1f0fc92e5f1ec81ed6</td><td>1759795451</td><td>238</td></tr><tr><td>23522184</td><td>aa542129b8be34d9e9ef32c93869bc6e002cd49cb8475d98057ad90460918eef</td><td>1759795463</td><td>267</td></tr><tr><td>23522185</td><td>50f04ec91b6030292638ddeb9b48b5517f2707b090343397296f306feed5845f</td><td>1759795475</td><td>200</td></tr><tr><td>23522186</td><td>e2387523c3bbc667b09b584d3ea9faa650e6c1cb9a4f61ca850b349c8b3da29b</td><td>1759795487</td><td>223</td></tr><tr><td>23522207</td><td>7897a7f9b329960d7927e41e85d55c2e91b997d293dd9677988d5333d9d62f35</td><td>1759795739</td><td>179</td></tr><tr><td>23522208</td><td>319851703a5b07aa7c22fa97ecd21572b9d452b2f3f2442694d2fe7132356802</td><td>1759795751</td><td>245</td></tr><tr><td>23522209</td><td>7cb17606a95029c909c0679f232972b3b1823397d0f15d65622df8477aa8757b</td><td>1759795763</td><td>181</td></tr><tr><td>23522210</td><td>784aa12e0657cd0807e0d3a95a206a0b3f0d3ce2dbce719eb3a89bfd02925b81</td><td>1759795775</td><td>172</td></tr><tr><td>23522211</td><td>1fd4c90f393e3ecb5fe51c4c5b2b579d02003db4f99dfed03b1d81d3d7d5cc42</td><td>1759795787</td><td>215</td></tr><tr><td>23522212</td><td>6b57d8d92802b1960af15f189be4ef60537febff0320edc46701a44c2567826c</td><td>1759795799</td><td>116</td></tr><tr><td>23522213</td><td>518a1a61f98c4b7a2172258aea9183b03f3731a4ef27974230ce254d4cd546b9</td><td>1759795811</td><td>161</td></tr><tr><td>23522214</td><td>3e240c97a9b15c5f975cdcef24c835b7f046a3945aa203dd5846dea1618d6d6f</td><td>1759795823</td><td>223</td></tr><tr><td>23522215</td><td>610c4c6c15c06d091a02ec2973b96c6fb6e4ae97a2628acf88da751c2b04e18e</td><td>1759795835</td><td>216</td></tr><tr><td>23522216</td><td>ea7f29e735548f270f27acbf96d289943ff7a922cedaf93dc4e98fe5065c68ba</td><td>1759795847</td><td>178</td></tr><tr><td>23522257</td><td>26a78b60bebbd9c5f538b2d96bffd70f85b521835a72fe9c2c2f93c6e36bf2a8</td><td>1759796339</td><td>199</td></tr><tr><td>23522258</td><td>e94dd45123225fd59febf4d6695f89c06183cef715f0c40662524012eee32ac7</td><td>1759796351</td><td>207</td></tr><tr><td>23522259</td><td>2411c04215e0930d376d8735ba1c657e2978a4d6286032e0c971975b50fda1c1</td><td>1759796363</td><td>214</td></tr><tr><td>23522260</td><td>adbb37f8a93dfce0e1acd521ce21d817f8e31f21c12596d3b4dd7d0b4b3e0b62</td><td>1759796375</td><td>210</td></tr><tr><td>23522261</td><td>0ce00763a858de64ada0202a9121689ad9fb6f7f24540109399d26bcb36906ae</td><td>1759796387</td><td>159</td></tr><tr><td>23522262</td><td>971e81e4db5b84fddce33616349feadf88e1d1177029540b7a842ee07b7e9b60</td><td>1759796399</td><td>170</td></tr><tr><td>23522263</td><td>e4f99720e16f44b50e43c23346fa69a748cab78a6250c22639302dbeb95abfa7</td><td>1759796411</td><td>227</td></tr><tr><td>23522264</td><td>f202bd9fa4a16aa3f33756545f978dd5387c8be21d101f1fe1dba28495ceb37a</td><td>1759796423</td><td>155</td></tr><tr><td>23522265</td><td>822e97a5c82bcf7faf6000d83f7eeb4bf4c1b4b84d002e077a86319abccf524f</td><td>1759796435</td><td>266</td></tr><tr><td>23522266</td><td>80816eb3347af8c90fad10b1492ecc5a117dac4f93969a6c02f9f6540e830a97</td><td>1759796447</td><td>178</td></tr><tr><td>23522227</td><td>460bfd2e6a81dcf102c965d4e575e64632f71f9e2f2f2b4f9848c27f06fe37de</td><td>1759795979</td><td>215</td></tr><tr><td>23522228</td><td>6c734cdc4193ba1848733c61f88453bcc70764618c5e912f68b464349644b034</td><td>1759795991</td><td>219</td></tr><tr><td>23522229</td><td>4070660704b920aabf09fe2abfe5f2b031f47ba2a4c29d119a58bc30180ee6ce</td><td>1759796003</td><td>207</td></tr><tr><td>23522230</td><td>5cc28cd979b472809cde3502653cb8b11ded648ce6369735c46b21cc48215fe8</td><td>1759796015</td><td>155</td></tr><tr><td>23522231</td><td>efa7a0f46476727c311ea0d23805fb5d20e92d82d8aeed180d4aaf1a4fffeec1</td><td>1759796027</td><td>174</td></tr><tr><td>23522232</td><td>19bb8c46c91ebe8c492c47234bb18a00aedded15bfa83dc308aac34ad788bddc</td><td>1759796039</td><td>214</td></tr><tr><td>23522233</td><td>e4da3520a6ea967d49b3e27e628a6f5496bf9c5ce7c005013fbf0a3e51603107</td><td>1759796051</td><td>165</td></tr><tr><td>23522234</td><td>948ddeae4eb3a9596f84f23f695cfa71413773626062c56115e231ad80e75850</td><td>1759796063</td><td>96</td></tr><tr><td>23522235</td><td>33b815ece2c5a0b74721aea8cf71ea22ba88e39540a594c91684cdee5f1867b4</td><td>1759796075</td><td>239</td></tr><tr><td>23522236</td><td>664039e38d90878d7bac9533f25f1da27481dd3f8b39640bdad2e4b8f04ca14c</td><td>1759796087</td><td>188</td></tr><tr><td>23522125</td><td>371d6dadc5968f617c138e5a5245eaad482c8af04407ab691e8837695ecaaac4</td><td>1759794755</td><td>140</td></tr><tr><td>23522126</td><td>d898dd4ddc0350f8baf574446d5e4a43ac1e7b7b86577614e4f501f44d49ad81</td><td>1759794767</td><td>206</td></tr><tr><td>23522127</td><td>ce1179c62c4a14d1119ef20e7186c75b4d02758cccecac5af83eec6577ba4caa</td><td>1759794779</td><td>143</td></tr><tr><td>23522128</td><td>7583aa7ebffa3716adf4d4ae753b8e654edf00e1879433c3efc7119d5d55fbbf</td><td>1759794791</td><td>168</td></tr><tr><td>23522129</td><td>2364feeeeed73bb8c627333e92cd4220f659cf9c6a994a2c7473744561e26a3a</td><td>1759794803</td><td>166</td></tr><tr><td>23522130</td><td>84c58b3ac670263896977109d0c69190b353d1a321b5e3285552bf643ebd82b0</td><td>1759794815</td><td>230</td></tr><tr><td>23522131</td><td>53a2a893dbc2e10082da088fe211e99b3bc2d1773f5809594ea58969c1d27ce3</td><td>1759794827</td><td>140</td></tr><tr><td>23522132</td><td>d5858ddcbf618e77bd1ae217ddd8ccfecc1e3beccce921861aba3c118e562886</td><td>1759794839</td><td>158</td></tr><tr><td>23522133</td><td>d5201b7ea826a3c6472a6575a667078712779125a1576ae65faeb9f755eb7deb</td><td>1759794851</td><td>203</td></tr><tr><td>23522134</td><td>48e83427888a2c250556544d76cf7c70f61a53c49e6f8bbdc6d3e10dce338cbe</td><td>1759794863</td><td>145</td></tr><tr><td>23522147</td><td>323664f9bf50650212cf2cbb448d65a22c1dbce79184cbef79bdba8d245d8388</td><td>1759795019</td><td>194</td></tr><tr><td>23522148</td><td>769383dd0cf764e32dc6be31199d2e68e58d9f40b6dc733e22ac96296713dcab</td><td>1759795031</td><td>153</td></tr><tr><td>23522149</td><td>68953aa1670f82e636acf68511e1d22f27a640bca25bd1e2bc6987f6b68ee0c3</td><td>1759795043</td><td>54</td></tr><tr><td>23522150</td><td>315d46129831c3a704cc294cf2d3e3b9e02c5dd38c80d2520e972c6ec0d165a1</td><td>1759795055</td><td>163</td></tr><tr><td>23522151</td><td>4fb2f9d9a58c0206498b400873fb3f3703b9bcf2d0009ac156f442c17409bf91</td><td>1759795067</td><td>376</td></tr><tr><td>23522152</td><td>450a76f135e58d7c103396e55acc056ebe337d6eeb1c1d74917dbc0fc7addc4f</td><td>1759795079</td><td>131</td></tr><tr><td>23522153</td><td>f909a1c0250cc15223e4a5d13ef32dbd347f96c02f3da17267d9937adabfc11f</td><td>1759795091</td><td>254</td></tr><tr><td>23522154</td><td>6ecc995a7d63e3414200a522ff83b27accd2ed6d76954f30a509b5148cbdc7a5</td><td>1759795103</td><td>195</td></tr><tr><td>23522155</td><td>6839303cb2fbc5e8fdc72a25c1dd58cc664d1f1dca147e910b6a03385bf3effe</td><td>1759795115</td><td>195</td></tr><tr><td>23522156</td><td>a8df1803dd618ec92d3606af91249f68beedd0dc4daf6a618764cc199907e786</td><td>1759795127</td><td>147</td></tr><tr><td>23522267</td><td>76c6446513c23d9beadae2f7c0a8631c012a7eb521f89754a945138bf124d2e7</td><td>1759796459</td><td>298</td></tr><tr><td>23522268</td><td>baa14d04726359264b831efbcd32134595a71ca74afc4584f0e2b86a3a37a5cd</td><td>1759796471</td><td>241</td></tr><tr><td>23522269</td><td>598a5038a23aaf43c00d909a8ddb0ccf49ecd1e40556e32addac77efc8cfb803</td><td>1759796483</td><td>198</td></tr><tr><td>23522270</td><td>b63adf7df4dce440b3aa4226494ef1dfd87772eb11dced6b826c623bac87eb69</td><td>1759796495</td><td>107</td></tr><tr><td>23522271</td><td>a3297c3e28808a4693409b8adc6703d41c5856d333c44fc5fe44aa010464d9e0</td><td>1759796507</td><td>290</td></tr><tr><td>23522272</td><td>7a56097bbec2e5464bc2556f3c53ea5e0110cbc7b2ebe5106dbda4c8f4752c64</td><td>1759796519</td><td>162</td></tr><tr><td>23522273</td><td>6598ffef2e7865f8058caafec2aacc0789b5fb0d186bface92466ead7b1c6197</td><td>1759796531</td><td>191</td></tr><tr><td>23522274</td><td>1fcdd24867d2c26a8bbe9d198b177456402880c3b3aa7a489c6016474d988787</td><td>1759796543</td><td>56</td></tr><tr><td>23522135</td><td>872be32b37ac207876d259da564f9d0f151355f7f64e1dcf75d8f1290bdf18a5</td><td>1759794875</td><td>338</td></tr><tr><td>23522136</td><td>e5c07a8e499d2d5946e6b6724336d4b9fe1de231fded7282c7bd50b2e3ba16c5</td><td>1759794887</td><td>216</td></tr><tr><td>23522137</td><td>3901204e24ddd803b4b972551b29511eb67c4eb56b6dc352f6d20d760e06d415</td><td>1759794899</td><td>191</td></tr></tbody></table></div>"
      ]
     },
     "metadata": {
      "application/vnd.databricks.v1+output": {
       "addedWidgets": {},
       "aggData": [],
       "aggError": "",
       "aggOverflow": false,
       "aggSchema": [],
       "aggSeriesLimitReached": false,
       "aggType": "",
       "arguments": {},
       "columnCustomDisplayInfos": {},
       "data": [
        [
         23522115,
         "48962791406f2d43f9e5eb781b2abd56a3576eb58a8c610412559e397693177c",
         1759794635,
         280
        ],
        [
         23522116,
         "26f8cca59c572203bae2177e6df033b84f1ce3c879309bc160426312d862dcaa",
         1759794647,
         165
        ],
        [
         23522117,
         "c3e5b919aaa9ac063f0cced47d0217c583ba890694a31d38f2be5e4ff5344ce1",
         1759794659,
         152
        ],
        [
         23522118,
         "44ab9dd502a52acc6847122a19d538cd87d821979aee86412ae04bdc3d9d4ee1",
         1759794671,
         204
        ],
        [
         23522119,
         "241de434fa347f5f1c98c4f48436e50ca26d598dcc68d791f9c4ca7e6acb0903",
         1759794683,
         576
        ],
        [
         23522120,
         "e83f2128d34653848353a1a7d5822da171fd566ed72adbc60665987ebca9d17a",
         1759794695,
         268
        ],
        [
         23522121,
         "45b2c37a83dd78cda3ad538e223721ff7501f5ded8ca5d7a423834d735fea102",
         1759794707,
         145
        ],
        [
         23522122,
         "670c312ba9d891567bd65cb5962069976a9181990cde8262aa574c54eb36ca4d",
         1759794719,
         131
        ],
        [
         23522123,
         "2f441f426c5f53bfd43e69bfbfbe65cbcaeeb535b68e4db1c31b58c1e4422930",
         1759794731,
         137
        ],
        [
         23522124,
         "84b2b2b4990273c9c0a20dad97db14676a8267a1f0c950a6cf207cffe0a85c66",
         1759794743,
         211
        ],
        [
         23522137,
         "3901204e24ddd803b4b972551b29511eb67c4eb56b6dc352f6d20d760e06d415",
         1759794899,
         191
        ],
        [
         23522138,
         "e6bc1e799b53dcd9950031a06c30293d378bee27c284ad1615f3644201674514",
         1759794911,
         297
        ],
        [
         23522139,
         "8d965cf12bbb3d52a7a6bcd77c297327baf3572a4e31137d9d6837a30ac4ef2f",
         1759794923,
         346
        ],
        [
         23522140,
         "adee212b35306536bf9c07698d2bf8c2e9cba07b0240454fad7e99d6b9763763",
         1759794935,
         173
        ],
        [
         23522141,
         "3b87fa02abbcb3a88f34e6e75eae0e6f910ae32051a9eecc30f2096dbbea7b81",
         1759794947,
         281
        ],
        [
         23522142,
         "b732b824271882d0770d7a1b3a362bc63db88ca03afe623c250062a491b02d55",
         1759794959,
         211
        ],
        [
         23522143,
         "56f95a92c332e685acc36e5a3271c03a121cd553c0952eb626a693677c32ee6d",
         1759794971,
         175
        ],
        [
         23522144,
         "6dc4b7e49fe1e541438687aa44c0c4b56997d24b9d24884c5ab99eeb0cd1c053",
         1759794983,
         150
        ],
        [
         23522145,
         "ccf3b601a257ef96b0464790f029b4c9dab445541292906b94f1f8cc18050b4d",
         1759794995,
         180
        ],
        [
         23522146,
         "2bdab1defd841db21a487e764cbc50a31df6eae14bb4361686efc2afa0955f00",
         1759795007,
         162
        ],
        [
         23522157,
         "fd9849c389f2811d836fa1c89cf8cbc6df6e2b0a9225f5bf91ff33fbc84af830",
         1759795139,
         242
        ],
        [
         23522158,
         "98e8eff15c4e9544d0f43300a747bfdb732ab965fe14004b39b039107010ab0b",
         1759795151,
         266
        ],
        [
         23522159,
         "e990a42d840d146c31c7dd64be9591e30e65f72b000c6810cec89ae5ac4049ce",
         1759795163,
         230
        ],
        [
         23522160,
         "2fdc8a6d7eb8cacf59a1fbf05eb2e26903bbd88187a3b59489eadf4bea1bfa7e",
         1759795175,
         200
        ],
        [
         23522161,
         "270be634d1ae0658fab02833941adaf0a4c6930bd9241b34971cd28967375648",
         1759795187,
         81
        ],
        [
         23522162,
         "1028b7e1c2f5f7337fa892612705842b426de9b3806d44c4072cda35a19c8f0d",
         1759795199,
         275
        ],
        [
         23522163,
         "2eaf4e62ba28a4f71a21341574a022173fa2b125ff248bf75b89747409b2edb2",
         1759795211,
         161
        ],
        [
         23522164,
         "ccd8c20a99820e1287cae12ffd4f8f1ba30e8c45fd6ee0169775abd5dd0ed738",
         1759795223,
         217
        ],
        [
         23522165,
         "e43040908b31408070d256e7c3d361856ffd09cdeffa73c70cbdc3e6cf87fe9a",
         1759795235,
         385
        ],
        [
         23522166,
         "6a391f95f2d6cea456191bf3bb03c633e7898f41ca6a61b9929794cdc93303b7",
         1759795247,
         119
        ],
        [
         23522167,
         "638932a6fd61d72fe8d525eac28cf5cce6168c51e78534e836e1178643fe7c1c",
         1759795259,
         336
        ],
        [
         23522168,
         "43a1bc37a086140a8038e0593292dec2435e4274fec920a7b8dc16b6b274822d",
         1759795271,
         294
        ],
        [
         23522169,
         "f544e7b8fde75a04a234aef719a59a4c257efbb7e5eaeed3d74f64001f0f441b",
         1759795283,
         175
        ],
        [
         23522170,
         "f110667328cfd2ae954ae9b932a004f58d840a1499c623b68190548dc25f243d",
         1759795295,
         88
        ],
        [
         23522171,
         "81e1d1d8b04934abaed2378771f4b5e45bc8fc865d2bb5d31cef96fc288f0b97",
         1759795307,
         214
        ],
        [
         23522172,
         "b66f0b60bb423d46ede5040548c1ee627509bbb9db9c373061ace4c7e093a700",
         1759795319,
         272
        ],
        [
         23522173,
         "24ea484faab2dede06f9a84ab2b8784f62fc62358ded8a460b28c199f916b441",
         1759795331,
         244
        ],
        [
         23522174,
         "5078ae6726789ba9843f0c9c2ad04ad546be0eee0384239dee02962b5ca635d4",
         1759795343,
         198
        ],
        [
         23522175,
         "fd4802ca7e25dc11e31f57e5318c71094fa66d46cc8da95bdbec300d161cc99c",
         1759795355,
         210
        ],
        [
         23522176,
         "8472334d5aa711f17cb576728bf1e3779d7c429bce0d2d37979ed33de8757565",
         1759795367,
         196
        ],
        [
         23522237,
         "dc86ac390498356fc95622262ec8055eadb7d0ac12d3732725a7a1d7191646e7",
         1759796099,
         121
        ],
        [
         23522238,
         "7b9591ac0c62b65e2ff2644e0735b63ace5c4201c5f158f06b2e3744194aef16",
         1759796111,
         130
        ],
        [
         23522239,
         "8c5114628b55d1d0352b0c8f46057457531041ccda39850ef8e6794737899b83",
         1759796123,
         181
        ],
        [
         23522240,
         "c8fbea1d0158b746a084565a7fa268864290baa0e401d8f46401ee730cc3873a",
         1759796135,
         240
        ],
        [
         23522241,
         "2c5a801b258b72d44a583533bf4825a254418b1eaab05e4451814802abaa271d",
         1759796147,
         286
        ],
        [
         23522242,
         "f4ceee4e1c6c1e81ed092deef86cf51a0b15b4965854305aa80994815a304369",
         1759796159,
         193
        ],
        [
         23522243,
         "2788a258beb7fda062c592d283a3abc9bed3233c3cf6833f1ad015602fc33702",
         1759796171,
         211
        ],
        [
         23522244,
         "cef7418e302393c862b7aa03101a4718b08508e2f728c0585d3217bdeabc16b9",
         1759796183,
         159
        ],
        [
         23522245,
         "485ef45d20cbcd0a3790668efbe7436a666cea5dd2d1fb687827b24323c65de4",
         1759796195,
         61
        ],
        [
         23522246,
         "173e7b84641b8763c68bc14ccf0b8cb82807db145606546462ab365026e535ec",
         1759796207,
         186
        ],
        [
         23522187,
         "d0d552ef53f43c0c4f93538526406c274193940c9fcc5c3851b34b9c293b08aa",
         1759795499,
         93
        ],
        [
         23522188,
         "be0e8a87673c1f25f3e51fb86ec95ce3ac2704fcd68c6872787afc868663d0e2",
         1759795511,
         180
        ],
        [
         23522189,
         "05477d07d333202ec3cda68b8ba26c67cf0315aa3fb051b31adf72e49e388fbb",
         1759795523,
         404
        ],
        [
         23522190,
         "7368976556e1d130b4dbb92c2492e5a014c68aab3fdb6720fda768d034e7a146",
         1759795535,
         156
        ],
        [
         23522191,
         "63dd72ab32f999c29d7de9872aca21bc90ce95636031085cc594a86832bce365",
         1759795547,
         186
        ],
        [
         23522192,
         "8e57555bdff73e137b0fcbfadda77aa49d1b4ab919c92a97ec48452dfb52305e",
         1759795559,
         146
        ],
        [
         23522193,
         "01dada17c19c180b16151ff5525258044eb637f2a62c5c3c32c5f2b66483ad29",
         1759795571,
         201
        ],
        [
         23522194,
         "40a3e06719195808a4ef5aa275be23735ac7c17b0c549847e1c2d4b751a3fb08",
         1759795583,
         378
        ],
        [
         23522195,
         "8f26271f096b9f12bffad1191434640bb416ad53be56161271346aa18683fe03",
         1759795595,
         178
        ],
        [
         23522196,
         "b41c28de00f1f22b01698ca50ab20aa128036ce55b7dd527144da988d4719ae1",
         1759795607,
         218
        ],
        [
         23522197,
         "2d6601baf104e07dd20e753cb90509120504b5efc6b8990fa0207230d3d334de",
         1759795619,
         178
        ],
        [
         23522198,
         "4f6b3995d40501fabca33ebe2931e82e490ec7a7a44c0057cb9c64debdd8c0c4",
         1759795631,
         178
        ],
        [
         23522199,
         "85dd1e2b422723c4dc48c3883c5ad4492d106564b189c0f7a0e57cb35b946e66",
         1759795643,
         120
        ],
        [
         23522200,
         "b00d513371c50ea1ee7ae18de1dc21721e45b42dce3ca8fc5b1812427f9cc096",
         1759795655,
         119
        ],
        [
         23522201,
         "f9d755d90873a89b8302cbc21f452500556251e03f8516a3a7140108b4a7ef3b",
         1759795667,
         322
        ],
        [
         23522202,
         "8fe58a5fbecf19b56a13d795a9d7e4e0f50f47c97be185476eeb85c3ab73a5ba",
         1759795679,
         168
        ],
        [
         23522203,
         "48cfc1e4747116ccb56224b68131c8cf21c820574715488705e31bea9f6aa35f",
         1759795691,
         224
        ],
        [
         23522204,
         "a9482f67863c1bd3cc0516b9b369886b3e82163739b4a5ec1e45950a5a14c73a",
         1759795703,
         183
        ],
        [
         23522205,
         "c30643f0079eeaeab3b6ab17528d893a890bf245f33ec52666b2300bf9433188",
         1759795715,
         181
        ],
        [
         23522206,
         "fe8f34bf63008e7f05eec438e8492eb587d808e851113058a19532f9bd9ca000",
         1759795727,
         193
        ],
        [
         23522217,
         "a5ba866f5d9067d35b0e83eafa46ca2164ea4495b7022df476f89f74369a5960",
         1759795859,
         138
        ],
        [
         23522218,
         "d504361788017a1b4cf043caad66d4c8755ae2eec4790c9e8de6abff18730669",
         1759795871,
         72
        ],
        [
         23522219,
         "dd9df74599373cfd71c1b613efeff60d0c6eba813a1700c752709d2806e9e736",
         1759795883,
         271
        ],
        [
         23522220,
         "6cd25ae5ecc718fb2c9cb2ed0e1e13d560c31badc4b52843dbe8f6f61a89b075",
         1759795895,
         89
        ],
        [
         23522221,
         "6d02343b4fa2ea98772d17040257c0f635e6548b9acfa121273a1e9c730aedc5",
         1759795907,
         209
        ],
        [
         23522222,
         "336e2f2b858fc92e1375f896f9d4a7bf08317bf6c697ad3323826caa59287244",
         1759795919,
         213
        ],
        [
         23522223,
         "a1daf8d4f18880062fec562dc475f636930a70a802625194430ae93cb365a4d2",
         1759795931,
         163
        ],
        [
         23522224,
         "8b8381e160eb91ad1dc48325fa57143b5e5f0473d13d516f8cfb3efb8c10725b",
         1759795943,
         179
        ],
        [
         23522225,
         "e5ef7bae0b3397957967781bcda803e7a51402fdb7581f35b6275e9b4f5c91fb",
         1759795955,
         175
        ],
        [
         23522226,
         "22ae43a7b61a8c6288b653a95804a168bf6fbe8fe320a162925464e1d1f74c1f",
         1759795967,
         257
        ],
        [
         23522247,
         "5063ca7670ef8d8c13e0dc5138c7584afe0e7b0ad9817ecbe45d2a137f2f6ce7",
         1759796219,
         74
        ],
        [
         23522248,
         "e3f71a18f6caace874bd653fa81f3a46ee08ede36a15a534134915dadabc41dc",
         1759796231,
         328
        ],
        [
         23522249,
         "767a28fb5b8ab351fbc599db0f0986c01ebb9ae9bd081050dc6fa6ea23722068",
         1759796243,
         274
        ],
        [
         23522250,
         "9c73a924cdb7408d19a6863427fdc4268d5cbf343fbead4002895e7fd24ea69a",
         1759796255,
         203
        ],
        [
         23522251,
         "e06e8b44f82143fa5a73712669244adb49d0f365f046e48be87eff63ce6701bd",
         1759796267,
         220
        ],
        [
         23522252,
         "a659604a13a4bdc637785e8d348511357e96fbe82d73ab33301f2e573c23574f",
         1759796279,
         161
        ],
        [
         23522253,
         "04acb3a8efa769d9af2b294fec2f6e0f0ef3a014905cd2bab25c3e26e59208a4",
         1759796291,
         215
        ],
        [
         23522254,
         "d3cfb750002c4f178a70f06d8042bbd3f3d9def31285cdd8c00e90fe413b7ebb",
         1759796303,
         174
        ],
        [
         23522255,
         "cc7f9cf61a74ae8b1f62385b2e05a6abb4cf8a4ea5da14ace66bf9ca2f37044d",
         1759796315,
         193
        ],
        [
         23522256,
         "ba35ff4d618617bf57e7f44afe0caced2fd64519c1fa3dd1f5e0334eee8b9f16",
         1759796327,
         191
        ],
        [
         23522177,
         "125de442ab814049867cc4a2af428b73cb4907c1bc94511986d84688939d7016",
         1759795379,
         214
        ],
        [
         23522178,
         "0893d694fac156b3d4573de3c4524afeb4404d3fc15c1f32b01130b44c77e828",
         1759795391,
         88
        ],
        [
         23522179,
         "9ea18494438b57a9d656edcfe8d0fd142b083ab505a090e0c42c82392a4a3fd5",
         1759795403,
         316
        ],
        [
         23522180,
         "60a4dfa9cdaa580f3a6dc2bc7270b362cd709f7e1f7eb7981c6a91d16138f9ed",
         1759795415,
         190
        ],
        [
         23522181,
         "8fe2e1f8ff371a0ceaa8266d4653b65981b87569282938a554f476e216f10e1c",
         1759795427,
         169
        ],
        [
         23522182,
         "bda74f2932d8a0f828096737891a6d17688d1c932509d55fa0d864c20809042b",
         1759795439,
         169
        ],
        [
         23522183,
         "b4da3d9b640f9dec26c37ab76d5b0001b8466a2bd99dfc1f0fc92e5f1ec81ed6",
         1759795451,
         238
        ],
        [
         23522184,
         "aa542129b8be34d9e9ef32c93869bc6e002cd49cb8475d98057ad90460918eef",
         1759795463,
         267
        ],
        [
         23522185,
         "50f04ec91b6030292638ddeb9b48b5517f2707b090343397296f306feed5845f",
         1759795475,
         200
        ],
        [
         23522186,
         "e2387523c3bbc667b09b584d3ea9faa650e6c1cb9a4f61ca850b349c8b3da29b",
         1759795487,
         223
        ],
        [
         23522207,
         "7897a7f9b329960d7927e41e85d55c2e91b997d293dd9677988d5333d9d62f35",
         1759795739,
         179
        ],
        [
         23522208,
         "319851703a5b07aa7c22fa97ecd21572b9d452b2f3f2442694d2fe7132356802",
         1759795751,
         245
        ],
        [
         23522209,
         "7cb17606a95029c909c0679f232972b3b1823397d0f15d65622df8477aa8757b",
         1759795763,
         181
        ],
        [
         23522210,
         "784aa12e0657cd0807e0d3a95a206a0b3f0d3ce2dbce719eb3a89bfd02925b81",
         1759795775,
         172
        ],
        [
         23522211,
         "1fd4c90f393e3ecb5fe51c4c5b2b579d02003db4f99dfed03b1d81d3d7d5cc42",
         1759795787,
         215
        ],
        [
         23522212,
         "6b57d8d92802b1960af15f189be4ef60537febff0320edc46701a44c2567826c",
         1759795799,
         116
        ],
        [
         23522213,
         "518a1a61f98c4b7a2172258aea9183b03f3731a4ef27974230ce254d4cd546b9",
         1759795811,
         161
        ],
        [
         23522214,
         "3e240c97a9b15c5f975cdcef24c835b7f046a3945aa203dd5846dea1618d6d6f",
         1759795823,
         223
        ],
        [
         23522215,
         "610c4c6c15c06d091a02ec2973b96c6fb6e4ae97a2628acf88da751c2b04e18e",
         1759795835,
         216
        ],
        [
         23522216,
         "ea7f29e735548f270f27acbf96d289943ff7a922cedaf93dc4e98fe5065c68ba",
         1759795847,
         178
        ],
        [
         23522257,
         "26a78b60bebbd9c5f538b2d96bffd70f85b521835a72fe9c2c2f93c6e36bf2a8",
         1759796339,
         199
        ],
        [
         23522258,
         "e94dd45123225fd59febf4d6695f89c06183cef715f0c40662524012eee32ac7",
         1759796351,
         207
        ],
        [
         23522259,
         "2411c04215e0930d376d8735ba1c657e2978a4d6286032e0c971975b50fda1c1",
         1759796363,
         214
        ],
        [
         23522260,
         "adbb37f8a93dfce0e1acd521ce21d817f8e31f21c12596d3b4dd7d0b4b3e0b62",
         1759796375,
         210
        ],
        [
         23522261,
         "0ce00763a858de64ada0202a9121689ad9fb6f7f24540109399d26bcb36906ae",
         1759796387,
         159
        ],
        [
         23522262,
         "971e81e4db5b84fddce33616349feadf88e1d1177029540b7a842ee07b7e9b60",
         1759796399,
         170
        ],
        [
         23522263,
         "e4f99720e16f44b50e43c23346fa69a748cab78a6250c22639302dbeb95abfa7",
         1759796411,
         227
        ],
        [
         23522264,
         "f202bd9fa4a16aa3f33756545f978dd5387c8be21d101f1fe1dba28495ceb37a",
         1759796423,
         155
        ],
        [
         23522265,
         "822e97a5c82bcf7faf6000d83f7eeb4bf4c1b4b84d002e077a86319abccf524f",
         1759796435,
         266
        ],
        [
         23522266,
         "80816eb3347af8c90fad10b1492ecc5a117dac4f93969a6c02f9f6540e830a97",
         1759796447,
         178
        ],
        [
         23522227,
         "460bfd2e6a81dcf102c965d4e575e64632f71f9e2f2f2b4f9848c27f06fe37de",
         1759795979,
         215
        ],
        [
         23522228,
         "6c734cdc4193ba1848733c61f88453bcc70764618c5e912f68b464349644b034",
         1759795991,
         219
        ],
        [
         23522229,
         "4070660704b920aabf09fe2abfe5f2b031f47ba2a4c29d119a58bc30180ee6ce",
         1759796003,
         207
        ],
        [
         23522230,
         "5cc28cd979b472809cde3502653cb8b11ded648ce6369735c46b21cc48215fe8",
         1759796015,
         155
        ],
        [
         23522231,
         "efa7a0f46476727c311ea0d23805fb5d20e92d82d8aeed180d4aaf1a4fffeec1",
         1759796027,
         174
        ],
        [
         23522232,
         "19bb8c46c91ebe8c492c47234bb18a00aedded15bfa83dc308aac34ad788bddc",
         1759796039,
         214
        ],
        [
         23522233,
         "e4da3520a6ea967d49b3e27e628a6f5496bf9c5ce7c005013fbf0a3e51603107",
         1759796051,
         165
        ],
        [
         23522234,
         "948ddeae4eb3a9596f84f23f695cfa71413773626062c56115e231ad80e75850",
         1759796063,
         96
        ],
        [
         23522235,
         "33b815ece2c5a0b74721aea8cf71ea22ba88e39540a594c91684cdee5f1867b4",
         1759796075,
         239
        ],
        [
         23522236,
         "664039e38d90878d7bac9533f25f1da27481dd3f8b39640bdad2e4b8f04ca14c",
         1759796087,
         188
        ],
        [
         23522125,
         "371d6dadc5968f617c138e5a5245eaad482c8af04407ab691e8837695ecaaac4",
         1759794755,
         140
        ],
        [
         23522126,
         "d898dd4ddc0350f8baf574446d5e4a43ac1e7b7b86577614e4f501f44d49ad81",
         1759794767,
         206
        ],
        [
         23522127,
         "ce1179c62c4a14d1119ef20e7186c75b4d02758cccecac5af83eec6577ba4caa",
         1759794779,
         143
        ],
        [
         23522128,
         "7583aa7ebffa3716adf4d4ae753b8e654edf00e1879433c3efc7119d5d55fbbf",
         1759794791,
         168
        ],
        [
         23522129,
         "2364feeeeed73bb8c627333e92cd4220f659cf9c6a994a2c7473744561e26a3a",
         1759794803,
         166
        ],
        [
         23522130,
         "84c58b3ac670263896977109d0c69190b353d1a321b5e3285552bf643ebd82b0",
         1759794815,
         230
        ],
        [
         23522131,
         "53a2a893dbc2e10082da088fe211e99b3bc2d1773f5809594ea58969c1d27ce3",
         1759794827,
         140
        ],
        [
         23522132,
         "d5858ddcbf618e77bd1ae217ddd8ccfecc1e3beccce921861aba3c118e562886",
         1759794839,
         158
        ],
        [
         23522133,
         "d5201b7ea826a3c6472a6575a667078712779125a1576ae65faeb9f755eb7deb",
         1759794851,
         203
        ],
        [
         23522134,
         "48e83427888a2c250556544d76cf7c70f61a53c49e6f8bbdc6d3e10dce338cbe",
         1759794863,
         145
        ],
        [
         23522147,
         "323664f9bf50650212cf2cbb448d65a22c1dbce79184cbef79bdba8d245d8388",
         1759795019,
         194
        ],
        [
         23522148,
         "769383dd0cf764e32dc6be31199d2e68e58d9f40b6dc733e22ac96296713dcab",
         1759795031,
         153
        ],
        [
         23522149,
         "68953aa1670f82e636acf68511e1d22f27a640bca25bd1e2bc6987f6b68ee0c3",
         1759795043,
         54
        ],
        [
         23522150,
         "315d46129831c3a704cc294cf2d3e3b9e02c5dd38c80d2520e972c6ec0d165a1",
         1759795055,
         163
        ],
        [
         23522151,
         "4fb2f9d9a58c0206498b400873fb3f3703b9bcf2d0009ac156f442c17409bf91",
         1759795067,
         376
        ],
        [
         23522152,
         "450a76f135e58d7c103396e55acc056ebe337d6eeb1c1d74917dbc0fc7addc4f",
         1759795079,
         131
        ],
        [
         23522153,
         "f909a1c0250cc15223e4a5d13ef32dbd347f96c02f3da17267d9937adabfc11f",
         1759795091,
         254
        ],
        [
         23522154,
         "6ecc995a7d63e3414200a522ff83b27accd2ed6d76954f30a509b5148cbdc7a5",
         1759795103,
         195
        ],
        [
         23522155,
         "6839303cb2fbc5e8fdc72a25c1dd58cc664d1f1dca147e910b6a03385bf3effe",
         1759795115,
         195
        ],
        [
         23522156,
         "a8df1803dd618ec92d3606af91249f68beedd0dc4daf6a618764cc199907e786",
         1759795127,
         147
        ],
        [
         23522267,
         "76c6446513c23d9beadae2f7c0a8631c012a7eb521f89754a945138bf124d2e7",
         1759796459,
         298
        ],
        [
         23522268,
         "baa14d04726359264b831efbcd32134595a71ca74afc4584f0e2b86a3a37a5cd",
         1759796471,
         241
        ],
        [
         23522269,
         "598a5038a23aaf43c00d909a8ddb0ccf49ecd1e40556e32addac77efc8cfb803",
         1759796483,
         198
        ],
        [
         23522270,
         "b63adf7df4dce440b3aa4226494ef1dfd87772eb11dced6b826c623bac87eb69",
         1759796495,
         107
        ],
        [
         23522271,
         "a3297c3e28808a4693409b8adc6703d41c5856d333c44fc5fe44aa010464d9e0",
         1759796507,
         290
        ],
        [
         23522272,
         "7a56097bbec2e5464bc2556f3c53ea5e0110cbc7b2ebe5106dbda4c8f4752c64",
         1759796519,
         162
        ],
        [
         23522273,
         "6598ffef2e7865f8058caafec2aacc0789b5fb0d186bface92466ead7b1c6197",
         1759796531,
         191
        ],
        [
         23522274,
         "1fcdd24867d2c26a8bbe9d198b177456402880c3b3aa7a489c6016474d988787",
         1759796543,
         56
        ],
        [
         23522135,
         "872be32b37ac207876d259da564f9d0f151355f7f64e1dcf75d8f1290bdf18a5",
         1759794875,
         338
        ],
        [
         23522136,
         "e5c07a8e499d2d5946e6b6724336d4b9fe1de231fded7282c7bd50b2e3ba16c5",
         1759794887,
         216
        ],
        [
         23522137,
         "3901204e24ddd803b4b972551b29511eb67c4eb56b6dc352f6d20d760e06d415",
         1759794899,
         191
        ]
       ],
       "datasetInfos": [],
       "dbfsResultPath": null,
       "isJsonSchema": true,
       "metadata": {},
       "overflow": false,
       "plotOptions": {
        "customPlotOptions": {},
        "displayType": "table",
        "pivotAggregation": null,
        "pivotColumns": null,
        "xColumns": null,
        "yColumns": null
       },
       "removedWidgets": [],
       "schema": [
        {
         "metadata": "{}",
         "name": "block_number",
         "type": "\"long\""
        },
        {
         "metadata": "{}",
         "name": "block_hash",
         "type": "\"string\""
        },
        {
         "metadata": "{}",
         "name": "timestamp",
         "type": "\"long\""
        },
        {
         "metadata": "{}",
         "name": "tx_count",
         "type": "\"long\""
        }
       ],
       "type": "table"
      }
     },
     "output_type": "display_data"
    }
   ],
   "source": [
    "df = spark.read.format(\"delta\").load(\"/Volumes/web3_data/ethereum_mainnet/ethereum_output\")\n",
    "\n",
    "display(df)\n"
   ]
  },
  {
   "cell_type": "code",
   "execution_count": 0,
   "metadata": {
    "application/vnd.databricks.v1+cell": {
     "cellMetadata": {},
     "inputWidgets": {},
     "nuid": "283f7504-e46a-4106-85bf-1db817695032",
     "showTitle": false,
     "tableResultSettingsMap": {},
     "title": ""
    }
   },
   "outputs": [],
   "source": []
  }
 ],
 "metadata": {
  "application/vnd.databricks.v1+notebook": {
   "computePreferences": null,
   "dashboards": [],
   "environmentMetadata": {
    "base_environment": "",
    "environment_version": "3"
   },
   "inputWidgetPreferences": null,
   "language": "python",
   "notebookMetadata": {
    "mostRecentlyExecutedCommandWithImplicitDF": {
     "commandId": 7131174526926033,
     "dataframes": [
      "_sqldf"
     ]
    },
    "pythonIndentUnit": 4
   },
   "notebookName": "ethereum_block_stream_init",
   "widgets": {
    "catalog_name": {
     "currentValue": "web3_data",
     "nuid": "4a49c685-6278-40a5-81b4-70a9dbaf450d",
     "typedWidgetInfo": {
      "autoCreated": false,
      "defaultValue": "web3_data",
      "label": "Catalog Name",
      "name": "catalog_name",
      "options": {
       "widgetDisplayType": "Text",
       "validationRegex": null
      },
      "parameterDataType": "String"
     },
     "widgetInfo": {
      "widgetType": "text",
      "defaultValue": "web3_data",
      "label": "Catalog Name",
      "name": "catalog_name",
      "options": {
       "widgetType": "text",
       "autoCreated": null,
       "validationRegex": null
      }
     }
    },
    "max_calls_per_second": {
     "currentValue": "0.8",
     "nuid": "d2d33246-e9b2-497f-9a94-82ae57aa1555",
     "typedWidgetInfo": {
      "autoCreated": false,
      "defaultValue": "0.8",
      "label": "Max calls/sec",
      "name": "max_calls_per_second",
      "options": {
       "widgetDisplayType": "Text",
       "validationRegex": null
      },
      "parameterDataType": "String"
     },
     "widgetInfo": {
      "widgetType": "text",
      "defaultValue": "0.8",
      "label": "Max calls/sec",
      "name": "max_calls_per_second",
      "options": {
       "widgetType": "text",
       "autoCreated": null,
       "validationRegex": null
      }
     }
    },
    "microbatch_size": {
     "currentValue": "10",
     "nuid": "31ada39e-f528-4147-9269-301de12ff445",
     "typedWidgetInfo": {
      "autoCreated": false,
      "defaultValue": "10",
      "label": "Blocks per Microbatch",
      "name": "microbatch_size",
      "options": {
       "widgetDisplayType": "Text",
       "validationRegex": null
      },
      "parameterDataType": "String"
     },
     "widgetInfo": {
      "widgetType": "text",
      "defaultValue": "10",
      "label": "Blocks per Microbatch",
      "name": "microbatch_size",
      "options": {
       "widgetType": "text",
       "autoCreated": null,
       "validationRegex": null
      }
     }
    },
    "poll_interval": {
     "currentValue": "15",
     "nuid": "cbe8b50e-6da7-481d-9043-cfc061cc3aa7",
     "typedWidgetInfo": {
      "autoCreated": false,
      "defaultValue": "15",
      "label": "Polling Interval (seconds)",
      "name": "poll_interval",
      "options": {
       "widgetDisplayType": "Text",
       "validationRegex": null
      },
      "parameterDataType": "String"
     },
     "widgetInfo": {
      "widgetType": "text",
      "defaultValue": "15",
      "label": "Polling Interval (seconds)",
      "name": "poll_interval",
      "options": {
       "widgetType": "text",
       "autoCreated": null,
       "validationRegex": null
      }
     }
    },
    "s3_managed_bucket": {
     "currentValue": "eth-stream-ingestion",
     "nuid": "cfb2c1c8-7782-4b62-af61-e92444b7d512",
     "typedWidgetInfo": {
      "autoCreated": false,
      "defaultValue": "eth-stream-ingestion",
      "label": "S3 Managed Bucket",
      "name": "s3_managed_bucket",
      "options": {
       "widgetDisplayType": "Text",
       "validationRegex": null
      },
      "parameterDataType": "String"
     },
     "widgetInfo": {
      "widgetType": "text",
      "defaultValue": "eth-stream-ingestion",
      "label": "S3 Managed Bucket",
      "name": "s3_managed_bucket",
      "options": {
       "widgetType": "text",
       "autoCreated": null,
       "validationRegex": null
      }
     }
    },
    "schema_name": {
     "currentValue": "ethereum_mainnet",
     "nuid": "eb52e132-dbb6-4639-ae41-3c2851726850",
     "typedWidgetInfo": {
      "autoCreated": false,
      "defaultValue": "ethereum_mainnet",
      "label": "Schema Name",
      "name": "schema_name",
      "options": {
       "widgetDisplayType": "Text",
       "validationRegex": null
      },
      "parameterDataType": "String"
     },
     "widgetInfo": {
      "widgetType": "text",
      "defaultValue": "ethereum_mainnet",
      "label": "Schema Name",
      "name": "schema_name",
      "options": {
       "widgetType": "text",
       "autoCreated": null,
       "validationRegex": null
      }
     }
    }
   }
  },
  "language_info": {
   "name": "python"
  }
 },
 "nbformat": 4,
 "nbformat_minor": 0
}