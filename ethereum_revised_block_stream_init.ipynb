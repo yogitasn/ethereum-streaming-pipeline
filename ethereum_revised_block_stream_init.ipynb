{
 "cells": [
  {
   "cell_type": "code",
   "execution_count": 0,
   "metadata": {
    "application/vnd.databricks.v1+cell": {
     "cellMetadata": {
      "byteLimit": 2048000,
      "rowLimit": 10000
     },
     "inputWidgets": {},
     "nuid": "7adff6a6-e1ed-4c8a-a639-cf71423a9de3",
     "showTitle": false,
     "tableResultSettingsMap": {},
     "title": ""
    }
   },
   "outputs": [
    {
     "output_type": "stream",
     "name": "stdout",
     "output_type": "stream",
     "text": [
      "Requirement already satisfied: web3 in /local_disk0/.ephemeral_nfs/envs/pythonEnv-d102dc0e-b494-47cf-9745-644a6f9379aa/lib/python3.12/site-packages (7.13.0)\nRequirement already satisfied: eth-abi>=5.0.1 in /local_disk0/.ephemeral_nfs/envs/pythonEnv-d102dc0e-b494-47cf-9745-644a6f9379aa/lib/python3.12/site-packages (from web3) (5.2.0)\nRequirement already satisfied: eth-account>=0.13.6 in /local_disk0/.ephemeral_nfs/envs/pythonEnv-d102dc0e-b494-47cf-9745-644a6f9379aa/lib/python3.12/site-packages (from web3) (0.13.7)\nRequirement already satisfied: eth-hash>=0.5.1 in /local_disk0/.ephemeral_nfs/envs/pythonEnv-d102dc0e-b494-47cf-9745-644a6f9379aa/lib/python3.12/site-packages (from eth-hash[pycryptodome]>=0.5.1->web3) (0.7.1)\nRequirement already satisfied: eth-typing>=5.0.0 in /local_disk0/.ephemeral_nfs/envs/pythonEnv-d102dc0e-b494-47cf-9745-644a6f9379aa/lib/python3.12/site-packages (from web3) (5.2.1)\nRequirement already satisfied: eth-utils>=5.0.0 in /local_disk0/.ephemeral_nfs/envs/pythonEnv-d102dc0e-b494-47cf-9745-644a6f9379aa/lib/python3.12/site-packages (from web3) (5.3.1)\nRequirement already satisfied: hexbytes>=1.2.0 in /local_disk0/.ephemeral_nfs/envs/pythonEnv-d102dc0e-b494-47cf-9745-644a6f9379aa/lib/python3.12/site-packages (from web3) (1.3.1)\nRequirement already satisfied: aiohttp>=3.7.4.post0 in /local_disk0/.ephemeral_nfs/envs/pythonEnv-d102dc0e-b494-47cf-9745-644a6f9379aa/lib/python3.12/site-packages (from web3) (3.13.0)\nRequirement already satisfied: pydantic>=2.4.0 in /databricks/python3/lib/python3.12/site-packages (from web3) (2.10.6)\nRequirement already satisfied: requests>=2.23.0 in /databricks/python3/lib/python3.12/site-packages (from web3) (2.32.3)\nRequirement already satisfied: typing-extensions>=4.0.1 in /databricks/python3/lib/python3.12/site-packages (from web3) (4.12.2)\nRequirement already satisfied: types-requests>=2.0.0 in /local_disk0/.ephemeral_nfs/envs/pythonEnv-d102dc0e-b494-47cf-9745-644a6f9379aa/lib/python3.12/site-packages (from web3) (2.32.4.20250913)\nRequirement already satisfied: websockets<16.0.0,>=10.0.0 in /local_disk0/.ephemeral_nfs/envs/pythonEnv-d102dc0e-b494-47cf-9745-644a6f9379aa/lib/python3.12/site-packages (from web3) (15.0.1)\nRequirement already satisfied: pyunormalize>=15.0.0 in /local_disk0/.ephemeral_nfs/envs/pythonEnv-d102dc0e-b494-47cf-9745-644a6f9379aa/lib/python3.12/site-packages (from web3) (17.0.0)\nRequirement already satisfied: aiohappyeyeballs>=2.5.0 in /local_disk0/.ephemeral_nfs/envs/pythonEnv-d102dc0e-b494-47cf-9745-644a6f9379aa/lib/python3.12/site-packages (from aiohttp>=3.7.4.post0->web3) (2.6.1)\nRequirement already satisfied: aiosignal>=1.4.0 in /local_disk0/.ephemeral_nfs/envs/pythonEnv-d102dc0e-b494-47cf-9745-644a6f9379aa/lib/python3.12/site-packages (from aiohttp>=3.7.4.post0->web3) (1.4.0)\nRequirement already satisfied: attrs>=17.3.0 in /databricks/python3/lib/python3.12/site-packages (from aiohttp>=3.7.4.post0->web3) (24.3.0)\nRequirement already satisfied: frozenlist>=1.1.1 in /local_disk0/.ephemeral_nfs/envs/pythonEnv-d102dc0e-b494-47cf-9745-644a6f9379aa/lib/python3.12/site-packages (from aiohttp>=3.7.4.post0->web3) (1.8.0)\nRequirement already satisfied: multidict<7.0,>=4.5 in /local_disk0/.ephemeral_nfs/envs/pythonEnv-d102dc0e-b494-47cf-9745-644a6f9379aa/lib/python3.12/site-packages (from aiohttp>=3.7.4.post0->web3) (6.7.0)\nRequirement already satisfied: propcache>=0.2.0 in /local_disk0/.ephemeral_nfs/envs/pythonEnv-d102dc0e-b494-47cf-9745-644a6f9379aa/lib/python3.12/site-packages (from aiohttp>=3.7.4.post0->web3) (0.4.1)\nRequirement already satisfied: yarl<2.0,>=1.17.0 in /local_disk0/.ephemeral_nfs/envs/pythonEnv-d102dc0e-b494-47cf-9745-644a6f9379aa/lib/python3.12/site-packages (from aiohttp>=3.7.4.post0->web3) (1.22.0)\nRequirement already satisfied: parsimonious<0.11.0,>=0.10.0 in /local_disk0/.ephemeral_nfs/envs/pythonEnv-d102dc0e-b494-47cf-9745-644a6f9379aa/lib/python3.12/site-packages (from eth-abi>=5.0.1->web3) (0.10.0)\nRequirement already satisfied: bitarray>=2.4.0 in /local_disk0/.ephemeral_nfs/envs/pythonEnv-d102dc0e-b494-47cf-9745-644a6f9379aa/lib/python3.12/site-packages (from eth-account>=0.13.6->web3) (3.7.2)\nRequirement already satisfied: eth-keyfile<0.9.0,>=0.7.0 in /local_disk0/.ephemeral_nfs/envs/pythonEnv-d102dc0e-b494-47cf-9745-644a6f9379aa/lib/python3.12/site-packages (from eth-account>=0.13.6->web3) (0.8.1)\nRequirement already satisfied: eth-keys>=0.4.0 in /local_disk0/.ephemeral_nfs/envs/pythonEnv-d102dc0e-b494-47cf-9745-644a6f9379aa/lib/python3.12/site-packages (from eth-account>=0.13.6->web3) (0.7.0)\nRequirement already satisfied: eth-rlp>=2.1.0 in /local_disk0/.ephemeral_nfs/envs/pythonEnv-d102dc0e-b494-47cf-9745-644a6f9379aa/lib/python3.12/site-packages (from eth-account>=0.13.6->web3) (2.2.0)\nRequirement already satisfied: rlp>=1.0.0 in /local_disk0/.ephemeral_nfs/envs/pythonEnv-d102dc0e-b494-47cf-9745-644a6f9379aa/lib/python3.12/site-packages (from eth-account>=0.13.6->web3) (4.1.0)\nRequirement already satisfied: ckzg>=2.0.0 in /local_disk0/.ephemeral_nfs/envs/pythonEnv-d102dc0e-b494-47cf-9745-644a6f9379aa/lib/python3.12/site-packages (from eth-account>=0.13.6->web3) (2.1.5)\nRequirement already satisfied: pycryptodome<4,>=3.6.6 in /local_disk0/.ephemeral_nfs/envs/pythonEnv-d102dc0e-b494-47cf-9745-644a6f9379aa/lib/python3.12/site-packages (from eth-hash[pycryptodome]>=0.5.1->web3) (3.23.0)\nRequirement already satisfied: cytoolz>=0.10.1 in /local_disk0/.ephemeral_nfs/envs/pythonEnv-d102dc0e-b494-47cf-9745-644a6f9379aa/lib/python3.12/site-packages (from eth-utils>=5.0.0->web3) (1.0.1)\nRequirement already satisfied: annotated-types>=0.6.0 in /databricks/python3/lib/python3.12/site-packages (from pydantic>=2.4.0->web3) (0.7.0)\nRequirement already satisfied: pydantic-core==2.27.2 in /databricks/python3/lib/python3.12/site-packages (from pydantic>=2.4.0->web3) (2.27.2)\nRequirement already satisfied: charset-normalizer<4,>=2 in /databricks/python3/lib/python3.12/site-packages (from requests>=2.23.0->web3) (3.3.2)\nRequirement already satisfied: idna<4,>=2.5 in /databricks/python3/lib/python3.12/site-packages (from requests>=2.23.0->web3) (3.7)\nRequirement already satisfied: urllib3<3,>=1.21.1 in /databricks/python3/lib/python3.12/site-packages (from requests>=2.23.0->web3) (2.3.0)\nRequirement already satisfied: certifi>=2017.4.17 in /databricks/python3/lib/python3.12/site-packages (from requests>=2.23.0->web3) (2025.1.31)\nRequirement already satisfied: toolz>=0.8.0 in /local_disk0/.ephemeral_nfs/envs/pythonEnv-d102dc0e-b494-47cf-9745-644a6f9379aa/lib/python3.12/site-packages (from cytoolz>=0.10.1->eth-utils>=5.0.0->web3) (1.0.0)\nRequirement already satisfied: regex>=2022.3.15 in /local_disk0/.ephemeral_nfs/envs/pythonEnv-d102dc0e-b494-47cf-9745-644a6f9379aa/lib/python3.12/site-packages (from parsimonious<0.11.0,>=0.10.0->eth-abi>=5.0.1->web3) (2025.9.18)\n\u001B[43mNote: you may need to restart the kernel using %restart_python or dbutils.library.restartPython() to use updated packages.\u001B[0m\n"
     ]
    }
   ],
   "source": [
    "%pip install web3"
   ]
  },
  {
   "cell_type": "code",
   "execution_count": 0,
   "metadata": {
    "application/vnd.databricks.v1+cell": {
     "cellMetadata": {
      "byteLimit": 2048000,
      "rowLimit": 10000
     },
     "inputWidgets": {},
     "nuid": "d6e2e72c-c53e-4a4b-a8e5-25d617b4901b",
     "showTitle": false,
     "tableResultSettingsMap": {},
     "title": ""
    }
   },
   "outputs": [
    {
     "output_type": "stream",
     "name": "stdout",
     "output_type": "stream",
     "text": [
      "\uD83D\uDD27 Using Catalog: web3_data, Schema: ethereum_mainnet\n⏱ Poll Interval: 15s\n\uD83D\uDCE6 Microbatch Size: 10 blocks per batch\n\uD83D\uDCC1 Data: /Volumes/web3_data/ethereum_mainnet/ethereum_blocks\n\uD83D\uDCC1 Checkpoints: /Volumes/web3_data/ethereum_mainnet/ethereum_checkpoints\n\uD83D\uDCC1 Schemas: /Volumes/web3_data/ethereum_mainnet/ethereum_schemas\n\uD83D\uDD27 Using Output Catalog: ethereum, Output Schema: bronze\n[1/8] CREATE CATALOG IF NOT EXISTS web3_data MANAGED LOCATION 's3://eth-stream-ingestion/'\n  ✅ Success\n[2/8] CREATE SCHEMA IF NOT EXISTS web3_data.ethereum_mainnet\n  ✅ Success\n[3/8] CREATE VOLUME IF NOT EXISTS web3_data.ethereum_mainnet.ethereum_blocks\n  ✅ Success\n[4/8] CREATE VOLUME IF NOT EXISTS web3_data.ethereum_mainnet.ethereum_checkpoints\n  ✅ Success\n[5/8] CREATE VOLUME IF NOT EXISTS web3_data.ethereum_mainnet.ethereum_schemas\n  ✅ Success\n[6/8] CREATE VOLUME IF NOT EXISTS web3_data.ethereum_mainnet.ethereum_output\n  ✅ Success\n[7/8] CREATE CATALOG IF NOT EXISTS ethereum MANAGED LOCATION 's3://eth-stream-ingestion/'\n  ✅ Success\n[8/8] CREATE SCHEMA IF NOT EXISTS ethereum.bronze\n  ✅ Success\n"
     ]
    }
   ],
   "source": [
    "from web3 import Web3\n",
    "\n",
    "\n",
    "\n",
    "# === SIMPLE PARAMETERIZATION (VARIABLES FOR REUSABILITY) ===\n",
    "dbutils.widgets.text(\"catalog_name\", \"web3_data\", \"Catalog Name\")\n",
    "dbutils.widgets.text(\"schema_name\", \"ethereum_mainnet\", \"Schema Name\")\n",
    "dbutils.widgets.text(\"poll_interval\", \"15\", \"Polling Interval (seconds)\")\n",
    "dbutils.widgets.text(\"microbatch_size\", \"10\", \"Blocks per Microbatch\")\n",
    "dbutils.widgets.text(\"s3_managed_bucket\",\"eth-stream-ingestion\",\"S3 Managed Bucket\")\n",
    "dbutils.widgets.text(\"max_calls_per_second\",\"0.8\",\"Max calls/sec\")\n",
    "\n",
    "dbutils.widgets.text(\"output_catalog_name\", \"ethereum\", \"Output Catalog Name\")\n",
    "dbutils.widgets.text(\"output_schema_name\", \"bronze\", \"Output Schema Name\")\n",
    "\n",
    "# === CONFIGURATION ===\n",
    "CATALOG = dbutils.widgets.get(\"catalog_name\")\n",
    "SCHEMA = dbutils.widgets.get(\"schema_name\")\n",
    "S3_MANAGED_BUCKET = dbutils.widgets.get('s3_managed_bucket')\n",
    "POLL_INTERVAL = int(dbutils.widgets.get(\"poll_interval\"))\n",
    "MICROBATCH_SIZE = int(dbutils.widgets.get(\"microbatch_size\"))\n",
    "MAX_CALLS_PER_SECOND = dbutils.widgets.get(\"max_calls_per_second\")\n",
    "\n",
    "OUTPUT_CATALOG = dbutils.widgets.get(\"output_catalog_name\")\n",
    "OUTPUT_SCHEMA = dbutils.widgets.get(\"output_schema_name\")\n",
    "\n",
    "\n",
    "# Unity Catalog volume paths\n",
    "DATA_VOLUME = f\"/Volumes/{CATALOG}/{SCHEMA}/ethereum_blocks\"\n",
    "CHECKPOINT_VOLUME = f\"/Volumes/{CATALOG}/{SCHEMA}/ethereum_checkpoints\"\n",
    "SCHEMA_VOLUME = f\"/Volumes/{CATALOG}/{SCHEMA}/ethereum_schemas\"\n",
    "OUTPUT_VOLUME = f\"/Volumes/{CATALOG}/{SCHEMA}/ethereum_output\"\n",
    "\n",
    "OUTPUT_DATA_VOLUME = f\"/Volumes/{OUTPUT_CATALOG}/{OUTPUT_SCHEMA}/ethereum_blocks\"\n",
    "\n",
    "\n",
    "print(f\"\uD83D\uDD27 Using Catalog: {CATALOG}, Schema: {SCHEMA}\")\n",
    "print(f\"⏱ Poll Interval: {POLL_INTERVAL}s\")\n",
    "print(f\"\uD83D\uDCE6 Microbatch Size: {MICROBATCH_SIZE} blocks per batch\")\n",
    "print(f\"\uD83D\uDCC1 Data: {DATA_VOLUME}\")\n",
    "print(f\"\uD83D\uDCC1 Checkpoints: {CHECKPOINT_VOLUME}\")\n",
    "print(f\"\uD83D\uDCC1 Schemas: {SCHEMA_VOLUME}\")\n",
    "print(f\"\uD83D\uDD27 Using Output Catalog: {OUTPUT_CATALOG}, Output Schema: {OUTPUT_SCHEMA}\")\n",
    "\n",
    "\n",
    "# === UNITY CATALOG SETUP ===\n",
    "stmts = [\n",
    "    f\"CREATE CATALOG IF NOT EXISTS {CATALOG} MANAGED LOCATION 's3://{S3_MANAGED_BUCKET}/'\",\n",
    "    f\"CREATE SCHEMA IF NOT EXISTS {CATALOG}.{SCHEMA}\",\n",
    "    f\"CREATE VOLUME IF NOT EXISTS {CATALOG}.{SCHEMA}.ethereum_blocks\",\n",
    "    f\"CREATE VOLUME IF NOT EXISTS {CATALOG}.{SCHEMA}.ethereum_checkpoints\",\n",
    "    f\"CREATE VOLUME IF NOT EXISTS {CATALOG}.{SCHEMA}.ethereum_schemas\",\n",
    "    f\"CREATE VOLUME IF NOT EXISTS {CATALOG}.{SCHEMA}.ethereum_output\",\n",
    "    f\"CREATE CATALOG IF NOT EXISTS {OUTPUT_CATALOG} MANAGED LOCATION 's3://{S3_MANAGED_BUCKET}/'\",\n",
    "    f\"CREATE SCHEMA IF NOT EXISTS {OUTPUT_CATALOG}.{OUTPUT_SCHEMA}\",\n",
    "  \n",
    "]\n",
    "\n",
    "for i, s in enumerate(stmts, 1):\n",
    "    print(f\"[{i}/{len(stmts)}] {s}\")\n",
    "    try:\n",
    "        spark.sql(s)\n",
    "        print(\"  ✅ Success\")\n",
    "    except Exception as e:\n",
    "        print(f\"  ❌ Error: {e}\")\n"
   ]
  },
  {
   "cell_type": "code",
   "execution_count": 0,
   "metadata": {
    "application/vnd.databricks.v1+cell": {
     "cellMetadata": {
      "byteLimit": 2048000,
      "rowLimit": 10000
     },
     "inputWidgets": {},
     "nuid": "008ee83b-92b6-4f15-9a41-821ea59b4ac3",
     "showTitle": false,
     "tableResultSettingsMap": {},
     "title": ""
    }
   },
   "outputs": [],
   "source": [
    "import os, json, time, asyncio, aiohttp, logging\n",
    "from pyspark.sql.datasource import DataSource, DataSourceStreamReader, InputPartition\n",
    "from pyspark.sql.types import StructType, StructField, LongType, StringType\n",
    "from pyspark.sql import Row\n",
    "from web3 import AsyncWeb3, AsyncHTTPProvider\n",
    "import sys\n",
    "\n",
    "# -----------------------------\n",
    "# Logging setup\n",
    "# -----------------------------\n",
    "logging.basicConfig(\n",
    "    level=logging.INFO,\n",
    "    format=\"%(asctime)s [%(levelname)s] [%(name)s] %(message)s\",\n",
    "    datefmt=\"%Y-%m-%d %H:%M:%S\",\n",
    "    handlers=[\n",
    "        logging.StreamHandler(sys.stdout)  # \uD83D\uDC48 Send logs to notebook output\n",
    "    ]\n",
    ")\n",
    "logger = logging.getLogger(\"EthereumStream\")\n",
    "\n",
    "# -----------------------------\n",
    "# Partition class\n",
    "# -----------------------------\n",
    "class BlockRangePartition(InputPartition):\n",
    "    def __init__(self, start, end):\n",
    "        self.start = start\n",
    "        self.end = end\n",
    "        logger.debug(f\"Created partition: blocks {start} to {end}\")\n",
    "\n",
    "# -----------------------------\n",
    "# Async Block Fetcher\n",
    "# -----------------------------\n",
    "async def fetch_block(aweb3, blk_num):\n",
    "    \"\"\"Fetch a single block asynchronously.\"\"\"\n",
    "    block = await aweb3.eth.get_block(blk_num, full_transactions=False)\n",
    "    return {\n",
    "        \"block_number\": block.number,\n",
    "        \"block_hash\": block.hash.hex(),\n",
    "        \"timestamp\": block.timestamp,\n",
    "        \"tx_count\": len(block.transactions)\n",
    "    }\n",
    "\n",
    "async def fetch_blocks_concurrent(provider_uri, start, end, max_conc):\n",
    "    \"\"\"Fetch blocks in parallel with bounded concurrency.\"\"\"\n",
    "    async with aiohttp.ClientSession() as session:\n",
    "        aweb3 = AsyncWeb3(AsyncHTTPProvider(provider_uri))  # remove session param\n",
    "        sem = asyncio.Semaphore(max_conc)\n",
    "\n",
    "        async def guarded(n):\n",
    "            async with sem:\n",
    "                return await fetch_block(aweb3, n)\n",
    "\n",
    "        return await asyncio.gather(*(guarded(n) for n in range(start, end + 1)))\n",
    "\n",
    "# -----------------------------\n",
    "# StreamReader\n",
    "# -----------------------------\n",
    "class EthereumStreamReader(DataSourceStreamReader):\n",
    "    def __init__(self, schema, options):\n",
    "        logger.info(\"=\" * 60)\n",
    "        logger.info(\"Initializing EthereumStreamReader\")\n",
    "        logger.info(\"=\" * 60)\n",
    "\n",
    "        self.schema = schema\n",
    "        self.options = options\n",
    "        self.provider_uri = options.get(\"provider_uri\")\n",
    "        self.start_block = int(options.get(\"start_block\", 1))\n",
    "        self.output_dir = options.get(\"output_dir\", \"dbfs:/Volumes/web3_data/ethereum_mainnet/ethereum_blocks/raw\")\n",
    "        self.enable_local_write = options.get(\"enable_local_write\", \"false\").lower() == \"true\"\n",
    "        self.max_concurrency = int(options.get(\"max_concurrency\", 8))\n",
    "        self.current_block = self.start_block\n",
    "\n",
    "        logger.info(\"Configuration:\")\n",
    "        logger.info(f\"  - Provider URI: {self.provider_uri}\")\n",
    "        logger.info(f\"  - Start block: {self.start_block}\")\n",
    "        logger.info(f\"  - Output directory: {self.output_dir}\")\n",
    "        logger.info(f\"  - Enable local write: {self.enable_local_write}\")\n",
    "        logger.info(f\"  - Max concurrency: {self.max_concurrency}\")\n",
    "        logger.info(\"=\" * 60)\n",
    "\n",
    "    # -------------------------\n",
    "    # Offsets\n",
    "    # -------------------------\n",
    "    def initialOffset(self):\n",
    "        offset = {\"offset\": self.start_block}\n",
    "        logger.info(f\"initialOffset() -> {offset}\")\n",
    "        return offset\n",
    "\n",
    "    def latestOffset(self):\n",
    "        from web3 import Web3\n",
    "        try:\n",
    "            w3 = Web3(Web3.HTTPProvider(self.provider_uri))\n",
    "            if not w3.is_connected():\n",
    "                raise RuntimeError(\"Failed to connect to Ethereum provider\")\n",
    "            latest = w3.eth.block_number\n",
    "            offset = {\"offset\": latest}\n",
    "            logger.info(f\"latestOffset() -> {offset}\")\n",
    "            return offset\n",
    "        except Exception as e:\n",
    "            logger.error(f\"Error in latestOffset(): {e}\", exc_info=True)\n",
    "            raise\n",
    "\n",
    "    # -------------------------\n",
    "    # Partition Planning\n",
    "    # -------------------------\n",
    "    def partitions(self, start_offset, end_offset):\n",
    "        \"\"\"Legacy method name - calls planPartitions internally\"\"\"\n",
    "        return self.planPartitions(start_offset, end_offset)\n",
    "    \n",
    "    def planPartitions(self, start_offset, end_offset):\n",
    "        start = start_offset.get(\"offset\", self.start_block) if start_offset else self.start_block\n",
    "        end = end_offset.get(\"offset\", start + 1000) if end_offset else start + 1000\n",
    "        step = int(self.options.get(\"batch_size\", 10))\n",
    "\n",
    "        partitions = [\n",
    "            BlockRangePartition(i, min(i + step - 1, end))\n",
    "            for i in range(start, end + 1, step)\n",
    "        ]\n",
    "\n",
    "        logger.info(f\"Planned {len(partitions)} partitions: {start}-{end}, batch={step}\")\n",
    "        return partitions\n",
    "\n",
    "    # -------------------------\n",
    "    # Read Partition (Async)\n",
    "    # -------------------------\n",
    "    def read(self, partition):\n",
    "        logger.info(f\"Reading partition: {partition.start}-{partition.end}\")\n",
    "        blocks = asyncio.run(fetch_blocks_concurrent(\n",
    "            self.provider_uri, partition.start, partition.end, self.max_concurrency\n",
    "        ))\n",
    "\n",
    "        for blk in blocks:\n",
    "            if self.enable_local_write:\n",
    "                # Atomic write: temp → rename\n",
    "                tmp_path = os.path.join(self.output_dir, f\"block_{blk['block_number']}.json.tmp\")\n",
    "                final_path = os.path.join(self.output_dir, f\"block_{blk['block_number']}.json\")\n",
    "                with open(tmp_path, \"w\") as f:\n",
    "                    json.dump(blk, f, indent=2)\n",
    "                os.replace(tmp_path, final_path)\n",
    "                logger.debug(f\"Wrote {final_path}\")\n",
    "\n",
    "            yield Row(**blk)\n",
    "        logger.info(f\"Completed reading partition {partition.start}-{partition.end}\")\n",
    "\n",
    "    # -------------------------\n",
    "    # Commit Checkpoint\n",
    "    # -------------------------\n",
    "    def commit(self, end_offset):\n",
    "        logger.info(f\"Committing offset: {end_offset}\")\n",
    "        logger.info(f\"✓ Committed up to block {end_offset.get('offset')}\")\n",
    "\n",
    "# -----------------------------\n",
    "# DataSource Wrapper\n",
    "# -----------------------------\n",
    "class EthereumDataSource(DataSource):\n",
    "    @classmethod\n",
    "    def name(cls):\n",
    "        return \"ethereum\"\n",
    "\n",
    "    def schema(self):\n",
    "        return StructType([\n",
    "            StructField(\"block_number\", LongType()),\n",
    "            StructField(\"block_hash\", StringType()),\n",
    "            StructField(\"timestamp\", LongType()),\n",
    "            StructField(\"tx_count\", LongType())\n",
    "        ])\n",
    "\n",
    "    def streamReader(self, schema):\n",
    "        return EthereumStreamReader(schema, self.options)\n"
   ]
  },
  {
   "cell_type": "code",
   "execution_count": 0,
   "metadata": {
    "application/vnd.databricks.v1+cell": {
     "cellMetadata": {
      "byteLimit": 2048000,
      "rowLimit": 10000
     },
     "inputWidgets": {},
     "nuid": "8a3c57f7-48ba-4a64-8a77-7735a53f9a90",
     "showTitle": false,
     "tableResultSettingsMap": {},
     "title": ""
    }
   },
   "outputs": [
    {
     "output_type": "stream",
     "name": "stdout",
     "output_type": "stream",
     "text": [
      "Latest Ethereum block number: 23536998\n✅ Using checkpoint: /Volumes/web3_data/ethereum_mainnet/ethereum_checkpoints/\n✅ Using output: /Volumes/web3_data/ethereum_mainnet/ethereum_output/\n✅ Using eth_provider_uri: https://mainnet.infura.io/v3/6504e6a7883c4b49ac1cf17099e2ea3a\n✅ Using start_block: 23536998\n✅ Using poll_interval: 15\n"
     ]
    },
    {
     "output_type": "stream",
     "name": "stderr",
     "output_type": "stream",
     "text": [
      "2025-10-09 01:47:56 [INFO] [EthereumStream] Streaming query started. Awaiting termination...\n"
     ]
    }
   ],
   "source": [
    "\n",
    "#import uuid\n",
    "import time\n",
    "from pyspark.sql import SparkSession\n",
    "from pyspark.sql.types import StructType, StructField, LongType, StringType, ArrayType, MapType\n",
    "from web3 import Web3\n",
    "\n",
    "\n",
    "# Hard-coded constants\n",
    "ETH_PROVIDER_URI = \"https://mainnet.infura.io/v3/6504e6a7883c4b49ac1cf17099e2ea3a\"\n",
    "\n",
    "# Connect to an Ethereum node (Infura, Alchemy, etc.)\n",
    "w3 = Web3(Web3.HTTPProvider(ETH_PROVIDER_URI))\n",
    "\n",
    "# Get latest block number\n",
    "start_block = w3.eth.block_number\n",
    "print(\"Latest Ethereum block number:\", start_block)\n",
    "\n",
    "# --- Spark session ---\n",
    "spark = SparkSession.builder.appName(\"EthereumStream\").getOrCreate()\n",
    "\n",
    "eth_schema = StructType([\n",
    "    StructField(\"block_number\", LongType(), True),\n",
    "    StructField(\"block_hash\", StringType(), True),\n",
    "    StructField(\"timestamp\", LongType(), True),\n",
    "    StructField(\"tx_count\", LongType(), True)\n",
    "])\n",
    "\n",
    "\n",
    "checkpoint_path = f\"{CHECKPOINT_VOLUME}/\"\n",
    "output_path = f\"{OUTPUT_VOLUME}/\"\n",
    "eth_provider_uri = f\"{ETH_PROVIDER_URI}\"\n",
    "start_block = f\"{start_block}\"\n",
    "poll_interval = f\"{POLL_INTERVAL}\"\n",
    "\n",
    "print(\"✅ Using checkpoint:\", checkpoint_path)\n",
    "print(\"✅ Using output:\", output_path)\n",
    "print(\"✅ Using eth_provider_uri:\", eth_provider_uri)\n",
    "print(\"✅ Using start_block:\", start_block)\n",
    "print(\"✅ Using poll_interval:\", poll_interval)\n",
    "\n",
    "spark.dataSource.register(EthereumDataSource)\n",
    "\n",
    "# --- Read from custom Ethereum source ---\n",
    "df = spark.readStream \\\n",
    "    .format(\"ethereum\") \\\n",
    "    .schema(eth_schema) \\\n",
    "    .option(\"provider_uri\",eth_provider_uri) \\\n",
    "    .option(\"start_block\", start_block) \\\n",
    "    .option(\"poll_interval\", poll_interval) \\\n",
    "    .load()\n",
    "\n",
    "# --- Write with dynamic paths ---\n",
    "query = df.writeStream \\\n",
    "    .format(\"delta\") \\\n",
    "    .outputMode(\"append\") \\\n",
    "    .option(\"checkpointLocation\", checkpoint_path) \\\n",
    "    .trigger(availableNow=True) \\\n",
    "    .toTable(\"ethereum.bronze.blocks_json\")\n",
    "\n",
    "logger.info(\"Streaming query started. Awaiting termination...\")\n",
    "\n"
   ]
  },
  {
   "cell_type": "code",
   "execution_count": 0,
   "metadata": {
    "application/vnd.databricks.v1+cell": {
     "cellMetadata": {
      "byteLimit": 2048000,
      "implicitDf": true,
      "rowLimit": 10000
     },
     "inputWidgets": {},
     "nuid": "2ca5c177-feaf-4f67-9795-7509f5a45e39",
     "showTitle": false,
     "tableResultSettingsMap": {},
     "title": ""
    }
   },
   "outputs": [
    {
     "output_type": "display_data",
     "data": {
      "text/html": [
       "<style scoped>\n",
       "  .table-result-container {\n",
       "    max-height: 300px;\n",
       "    overflow: auto;\n",
       "  }\n",
       "  table, th, td {\n",
       "    border: 1px solid black;\n",
       "    border-collapse: collapse;\n",
       "  }\n",
       "  th, td {\n",
       "    padding: 5px;\n",
       "  }\n",
       "  th {\n",
       "    text-align: left;\n",
       "  }\n",
       "</style><div class='table-result-container'><table class='table-result'><thead style='background-color: white'><tr><th>block_number</th><th>block_hash</th><th>timestamp</th><th>tx_count</th></tr></thead><tbody><tr><td>23536861</td><td>42934da04481d8a272fac6ae90607e10e0c13a38f4f9cfb26c3d6aa4eaa97566</td><td>1759972811</td><td>253</td></tr><tr><td>23536862</td><td>f9606d689beaf5ad74846aad0fae7cab42e1481d82bc01472b752bb9f957bc05</td><td>1759972823</td><td>272</td></tr><tr><td>23536863</td><td>9e43663e0b26bf3a717d03b646dc24567df346f4940f04b697bb32ac3c137ee6</td><td>1759972835</td><td>180</td></tr><tr><td>23536864</td><td>9b5de85685ae90348cd8b23605440c1b348f72150ea3a1a5c42c37ed5b140376</td><td>1759972847</td><td>168</td></tr><tr><td>23536865</td><td>9200c239e0861a99a5c500c42bb37b88b4365c73bdd02ed7c3fa77ae1e37b4c0</td><td>1759972859</td><td>258</td></tr><tr><td>23536866</td><td>961a6247eb594688bfbce308ba8d7ed479252c3e69f4aba89bb52d165530d2c0</td><td>1759972871</td><td>175</td></tr><tr><td>23536867</td><td>790c56567910c798f533251f69d8b02763be763235e19eb66dc16c6481ee8e42</td><td>1759972883</td><td>175</td></tr><tr><td>23536868</td><td>01872c45f01342a3ed7fb078fd1b4792f6a6003bceebd12edaec6b5e783470a7</td><td>1759972895</td><td>171</td></tr><tr><td>23536869</td><td>b310cbd558ba51feaab23f004b97374e8489cbef5dbbe6ed97609abdac2e7294</td><td>1759972907</td><td>258</td></tr><tr><td>23536870</td><td>cbb29f9b4c4aafab8c2d5792631b2bb101ccdd3f6a27cef3359100423e2054ee</td><td>1759972919</td><td>146</td></tr><tr><td>23536829</td><td>c418c296d20581d5f6c453fc80af87903a88a1f8440d2a4b6fbf1b398f33b83a</td><td>1759972427</td><td>371</td></tr><tr><td>23536830</td><td>0998c44def0fafbcea6dc7682b2bbcd402af813254c74f7d71961d868475a9cc</td><td>1759972439</td><td>188</td></tr><tr><td>23536831</td><td>7a7eb2fe494e5d904518b205f8c4fc8f110008f2f9e3ba290209488a9b22ff03</td><td>1759972451</td><td>159</td></tr><tr><td>23536832</td><td>5b9046abc9f560177d58038abced5f6d119364a454dac3f3541d4bb23a2a19ff</td><td>1759972463</td><td>229</td></tr><tr><td>23536833</td><td>299a9f473c4993ff3b8dd88adaafb39c4347591103162a7c75b31a6c4fe4c44d</td><td>1759972475</td><td>122</td></tr><tr><td>23536834</td><td>a52f3ef3e188bc8022f773cc26f8de3cd4af03ef2a737d400b6e2f600aeb84c3</td><td>1759972487</td><td>208</td></tr><tr><td>23536835</td><td>08d3efc753383df8c3c754de1742e28f47a9f657050a4275c3bb15ae169151a9</td><td>1759972499</td><td>237</td></tr><tr><td>23536836</td><td>5efc394f882b857f3ff49dab5a1b99f931a0896d485d5560f9a9b2f10e7a350c</td><td>1759972511</td><td>238</td></tr><tr><td>23536837</td><td>29e36f67d61928882b868d6b0d56e79aace88a7b17e3e1a6f2899689cb8d377e</td><td>1759972523</td><td>148</td></tr><tr><td>23536838</td><td>bad973711c5a1f5e5f02f04a98fe8247619a8de3d22fe5d80f36872255ba9b2d</td><td>1759972535</td><td>231</td></tr><tr><td>23536839</td><td>7b51484acda4deea6abe4927bbbf374584b9c520920f502f699406be6201cc66</td><td>1759972547</td><td>27</td></tr><tr><td>23536840</td><td>089866c9050b008716fc5091274f5605fbf87dd7205a747143dc67f84a130a6e</td><td>1759972559</td><td>27</td></tr><tr><td>23536841</td><td>fd5cffbb49a7470bd36ee6f4d75f461a46553d83070dd3ffd859796628fcfe3f</td><td>1759972571</td><td>214</td></tr><tr><td>23536842</td><td>8ff3ce99d8e9a5e1af3b29fd38f9dfe1f5d18729fc1208d9009c03a650ba0794</td><td>1759972583</td><td>35</td></tr><tr><td>23536843</td><td>9c53f25054336a8590ec8321729b0c411888fcedf4b1d029df4a1878005dc6b2</td><td>1759972595</td><td>364</td></tr><tr><td>23536844</td><td>7201bc0873533d45b11f86a3f2d004fd855b8d5d9e303ce383ce24b5bcc66fbb</td><td>1759972607</td><td>373</td></tr><tr><td>23536845</td><td>a41d30d18177a2d3671e1e3f7da96bc2f32877667262fd39bc4e2ada6d348b87</td><td>1759972619</td><td>167</td></tr><tr><td>23536846</td><td>362b48078108a53e67a8ef143a5e177ec200481095a3e6bbe4daba66d53e5c0e</td><td>1759972631</td><td>273</td></tr><tr><td>23536847</td><td>594e90c4875aa0cf4d09f5fc3d12a61496b07318bf885384ffac6e5ac8088acf</td><td>1759972643</td><td>188</td></tr><tr><td>23536848</td><td>b3e0133611fb9adfa7bbba90ac75abf7977b9530ca8687a8eb3abd3267f34ee0</td><td>1759972655</td><td>347</td></tr><tr><td>23536849</td><td>a6eee89a38cce7a7d0c7c5b847174c876c16d6fef41896e42b245562f22ac15c</td><td>1759972667</td><td>215</td></tr><tr><td>23536850</td><td>1a4d5493a545ab12855c7403f2425a7f812fbae288ccab1c26ab29bf567deb9f</td><td>1759972679</td><td>231</td></tr><tr><td>23536851</td><td>e114b4d61651919be3c7ab3e361f8cd00104cb51983636c983525a094670eeae</td><td>1759972691</td><td>191</td></tr><tr><td>23536852</td><td>eac9b2d56c1f1001c2bef0b8c999dc54896630c261e6c96ce48669a5d5911a61</td><td>1759972703</td><td>141</td></tr><tr><td>23536853</td><td>b5c31db4843132f4bde4a0177584d98ee57072e56dcd9c50a8fc2bc198712ed3</td><td>1759972715</td><td>136</td></tr><tr><td>23536854</td><td>696433824df384e9ca15be2c09e550306b01871f756265aafef0db0ce8e6d7f8</td><td>1759972727</td><td>318</td></tr><tr><td>23536855</td><td>47e546716fcae7e5ee7cf5ec3fd638d4f7e3ba2516424ce744d12d3fa9fade09</td><td>1759972739</td><td>142</td></tr><tr><td>23536856</td><td>753c9099561f0ab15d1c3f781a027e39ee0930c4198254f0157cf2b4ac507c42</td><td>1759972751</td><td>269</td></tr><tr><td>23536857</td><td>5d98e51a0c2067b83840ada2fd3306df6a3cf51682ab517a6829b2d32f61d471</td><td>1759972763</td><td>93</td></tr><tr><td>23536858</td><td>e323d37275075bd0829d3495f19f93a17d34384812e96520053ab47393977887</td><td>1759972775</td><td>223</td></tr><tr><td>23536871</td><td>3999a7f4508722a59cd4538756cd6761673bf3ee3b5175c6befa464e085a2b25</td><td>1759972931</td><td>170</td></tr><tr><td>23536872</td><td>ae3be57a3e8654e5ac2086a06d6cef3e149bc4ee096b91016a110516eef76e8a</td><td>1759972943</td><td>216</td></tr><tr><td>23536873</td><td>e9075f90ba63177b5b7d0e683812ae28aa40dec8680945109bf66fb6c96ab793</td><td>1759972955</td><td>190</td></tr><tr><td>23536874</td><td>1d3d114d172692e2d9cb5940189670b3347aa9dfb60d677393102dcf888ecb3c</td><td>1759972967</td><td>115</td></tr><tr><td>23536875</td><td>148ea6bdb3efb00202887fa9a715e193efdf6ae46b6ad93618d9210a4578b1ab</td><td>1759972979</td><td>105</td></tr><tr><td>23536876</td><td>d8610d7c5bea95fb24e7e50979b25ea5dda2f4fbc31e839091393dd45a83823d</td><td>1759972991</td><td>337</td></tr><tr><td>23536877</td><td>0cfd7701d0e494e51c4b12ed6e874770ae62c49e8a58fb57dbb80f4abe834d44</td><td>1759973003</td><td>248</td></tr><tr><td>23536878</td><td>51e1859d8889ff7991c2165c758859ac18887ae5dcf8298efb4be3a37105a22a</td><td>1759973015</td><td>313</td></tr><tr><td>23536879</td><td>dbb19dbc80b9ff81c71e102541230fbfeccd00eaaf09111165ececcb578393a8</td><td>1759973027</td><td>230</td></tr><tr><td>23536880</td><td>34c73352846939e16fe72e6842516c42f066b2be2aeefeb84eb7c67919790dc1</td><td>1759973039</td><td>167</td></tr><tr><td>23536881</td><td>8a3037c3b9a9f4a8575b127fe42b35d12354a2bd1b67befaa9dd56c253b307fa</td><td>1759973051</td><td>189</td></tr><tr><td>23536882</td><td>93540acadd0396cc00cfa1a97fdb4c50914d7987a87f7daaf7cb64825f9e09ba</td><td>1759973063</td><td>190</td></tr><tr><td>23536883</td><td>46a6bdf4bb3222765d7539fb0da046af581cdd10efd5f1a6751e2393a61f6d29</td><td>1759973075</td><td>180</td></tr><tr><td>23536884</td><td>b0fb1edc982f4ad5ba0c3155e861b70128045a724ef4e4d0712b1d431496b7f5</td><td>1759973087</td><td>203</td></tr><tr><td>23536885</td><td>d72f9df5a28d5e726a238f8d115d9261a737fa08e36e3363bdff942949941b60</td><td>1759973099</td><td>144</td></tr><tr><td>23536886</td><td>041911acb67150f6f7c7cf901a97472a7e8976f534d57c1068f2f2c161dd8c07</td><td>1759973111</td><td>157</td></tr><tr><td>23536887</td><td>1c97a6b4e89bd25c13ab4d9c76a1f09a6b1658166477e8905ed4e0a2c7852afd</td><td>1759973123</td><td>101</td></tr><tr><td>23536888</td><td>5e086b8c507820166eafde4d24e414ace6197a1398ea1c55e97e0ef85f75b053</td><td>1759973135</td><td>158</td></tr><tr><td>23536889</td><td>98df62db3c88eccfb74e1a16efd392355110dc0cc0b4ebe40d775584f689444f</td><td>1759973147</td><td>197</td></tr><tr><td>23536890</td><td>1e63cc3c80212209cdb5cc028fee0db6e2cdefd505df6378e581906b6889dd35</td><td>1759973159</td><td>370</td></tr><tr><td>23536891</td><td>7a9dc84bdb410d527e4b9ec8f3583eb8f92d2f8915822616a1edcbd5f272adb3</td><td>1759973171</td><td>95</td></tr><tr><td>23536892</td><td>729470abfb6ce09dbbe9beefb6e5343d634762cfbc3bdb9c94f5dd9f8aaa6770</td><td>1759973183</td><td>260</td></tr><tr><td>23536893</td><td>691d11e5f00b1fecf823a95e20d1b5a29b80547afc191e0e10508e77281d57a6</td><td>1759973195</td><td>257</td></tr><tr><td>23536894</td><td>f1aeedbd84835d230a474a5def04dd18872ccecd556a4d7bbadc23dea699b154</td><td>1759973207</td><td>253</td></tr><tr><td>23536859</td><td>a39ba6d58e8b6aaf3c6977add0f1aed9051b9a0fc8cbc602567f5382cc825d20</td><td>1759972787</td><td>164</td></tr><tr><td>23536860</td><td>a51151c4ae413baf37e88fb8731127503adbbabe6dd0f3f098142f21fee4e47b</td><td>1759972799</td><td>148</td></tr><tr><td>23536861</td><td>42934da04481d8a272fac6ae90607e10e0c13a38f4f9cfb26c3d6aa4eaa97566</td><td>1759972811</td><td>253</td></tr></tbody></table></div>"
      ]
     },
     "metadata": {
      "application/vnd.databricks.v1+output": {
       "addedWidgets": {},
       "aggData": [],
       "aggError": "",
       "aggOverflow": false,
       "aggSchema": [],
       "aggSeriesLimitReached": false,
       "aggType": "",
       "arguments": {},
       "columnCustomDisplayInfos": {},
       "data": [
        [
         23536861,
         "42934da04481d8a272fac6ae90607e10e0c13a38f4f9cfb26c3d6aa4eaa97566",
         1759972811,
         253
        ],
        [
         23536862,
         "f9606d689beaf5ad74846aad0fae7cab42e1481d82bc01472b752bb9f957bc05",
         1759972823,
         272
        ],
        [
         23536863,
         "9e43663e0b26bf3a717d03b646dc24567df346f4940f04b697bb32ac3c137ee6",
         1759972835,
         180
        ],
        [
         23536864,
         "9b5de85685ae90348cd8b23605440c1b348f72150ea3a1a5c42c37ed5b140376",
         1759972847,
         168
        ],
        [
         23536865,
         "9200c239e0861a99a5c500c42bb37b88b4365c73bdd02ed7c3fa77ae1e37b4c0",
         1759972859,
         258
        ],
        [
         23536866,
         "961a6247eb594688bfbce308ba8d7ed479252c3e69f4aba89bb52d165530d2c0",
         1759972871,
         175
        ],
        [
         23536867,
         "790c56567910c798f533251f69d8b02763be763235e19eb66dc16c6481ee8e42",
         1759972883,
         175
        ],
        [
         23536868,
         "01872c45f01342a3ed7fb078fd1b4792f6a6003bceebd12edaec6b5e783470a7",
         1759972895,
         171
        ],
        [
         23536869,
         "b310cbd558ba51feaab23f004b97374e8489cbef5dbbe6ed97609abdac2e7294",
         1759972907,
         258
        ],
        [
         23536870,
         "cbb29f9b4c4aafab8c2d5792631b2bb101ccdd3f6a27cef3359100423e2054ee",
         1759972919,
         146
        ],
        [
         23536829,
         "c418c296d20581d5f6c453fc80af87903a88a1f8440d2a4b6fbf1b398f33b83a",
         1759972427,
         371
        ],
        [
         23536830,
         "0998c44def0fafbcea6dc7682b2bbcd402af813254c74f7d71961d868475a9cc",
         1759972439,
         188
        ],
        [
         23536831,
         "7a7eb2fe494e5d904518b205f8c4fc8f110008f2f9e3ba290209488a9b22ff03",
         1759972451,
         159
        ],
        [
         23536832,
         "5b9046abc9f560177d58038abced5f6d119364a454dac3f3541d4bb23a2a19ff",
         1759972463,
         229
        ],
        [
         23536833,
         "299a9f473c4993ff3b8dd88adaafb39c4347591103162a7c75b31a6c4fe4c44d",
         1759972475,
         122
        ],
        [
         23536834,
         "a52f3ef3e188bc8022f773cc26f8de3cd4af03ef2a737d400b6e2f600aeb84c3",
         1759972487,
         208
        ],
        [
         23536835,
         "08d3efc753383df8c3c754de1742e28f47a9f657050a4275c3bb15ae169151a9",
         1759972499,
         237
        ],
        [
         23536836,
         "5efc394f882b857f3ff49dab5a1b99f931a0896d485d5560f9a9b2f10e7a350c",
         1759972511,
         238
        ],
        [
         23536837,
         "29e36f67d61928882b868d6b0d56e79aace88a7b17e3e1a6f2899689cb8d377e",
         1759972523,
         148
        ],
        [
         23536838,
         "bad973711c5a1f5e5f02f04a98fe8247619a8de3d22fe5d80f36872255ba9b2d",
         1759972535,
         231
        ],
        [
         23536839,
         "7b51484acda4deea6abe4927bbbf374584b9c520920f502f699406be6201cc66",
         1759972547,
         27
        ],
        [
         23536840,
         "089866c9050b008716fc5091274f5605fbf87dd7205a747143dc67f84a130a6e",
         1759972559,
         27
        ],
        [
         23536841,
         "fd5cffbb49a7470bd36ee6f4d75f461a46553d83070dd3ffd859796628fcfe3f",
         1759972571,
         214
        ],
        [
         23536842,
         "8ff3ce99d8e9a5e1af3b29fd38f9dfe1f5d18729fc1208d9009c03a650ba0794",
         1759972583,
         35
        ],
        [
         23536843,
         "9c53f25054336a8590ec8321729b0c411888fcedf4b1d029df4a1878005dc6b2",
         1759972595,
         364
        ],
        [
         23536844,
         "7201bc0873533d45b11f86a3f2d004fd855b8d5d9e303ce383ce24b5bcc66fbb",
         1759972607,
         373
        ],
        [
         23536845,
         "a41d30d18177a2d3671e1e3f7da96bc2f32877667262fd39bc4e2ada6d348b87",
         1759972619,
         167
        ],
        [
         23536846,
         "362b48078108a53e67a8ef143a5e177ec200481095a3e6bbe4daba66d53e5c0e",
         1759972631,
         273
        ],
        [
         23536847,
         "594e90c4875aa0cf4d09f5fc3d12a61496b07318bf885384ffac6e5ac8088acf",
         1759972643,
         188
        ],
        [
         23536848,
         "b3e0133611fb9adfa7bbba90ac75abf7977b9530ca8687a8eb3abd3267f34ee0",
         1759972655,
         347
        ],
        [
         23536849,
         "a6eee89a38cce7a7d0c7c5b847174c876c16d6fef41896e42b245562f22ac15c",
         1759972667,
         215
        ],
        [
         23536850,
         "1a4d5493a545ab12855c7403f2425a7f812fbae288ccab1c26ab29bf567deb9f",
         1759972679,
         231
        ],
        [
         23536851,
         "e114b4d61651919be3c7ab3e361f8cd00104cb51983636c983525a094670eeae",
         1759972691,
         191
        ],
        [
         23536852,
         "eac9b2d56c1f1001c2bef0b8c999dc54896630c261e6c96ce48669a5d5911a61",
         1759972703,
         141
        ],
        [
         23536853,
         "b5c31db4843132f4bde4a0177584d98ee57072e56dcd9c50a8fc2bc198712ed3",
         1759972715,
         136
        ],
        [
         23536854,
         "696433824df384e9ca15be2c09e550306b01871f756265aafef0db0ce8e6d7f8",
         1759972727,
         318
        ],
        [
         23536855,
         "47e546716fcae7e5ee7cf5ec3fd638d4f7e3ba2516424ce744d12d3fa9fade09",
         1759972739,
         142
        ],
        [
         23536856,
         "753c9099561f0ab15d1c3f781a027e39ee0930c4198254f0157cf2b4ac507c42",
         1759972751,
         269
        ],
        [
         23536857,
         "5d98e51a0c2067b83840ada2fd3306df6a3cf51682ab517a6829b2d32f61d471",
         1759972763,
         93
        ],
        [
         23536858,
         "e323d37275075bd0829d3495f19f93a17d34384812e96520053ab47393977887",
         1759972775,
         223
        ],
        [
         23536871,
         "3999a7f4508722a59cd4538756cd6761673bf3ee3b5175c6befa464e085a2b25",
         1759972931,
         170
        ],
        [
         23536872,
         "ae3be57a3e8654e5ac2086a06d6cef3e149bc4ee096b91016a110516eef76e8a",
         1759972943,
         216
        ],
        [
         23536873,
         "e9075f90ba63177b5b7d0e683812ae28aa40dec8680945109bf66fb6c96ab793",
         1759972955,
         190
        ],
        [
         23536874,
         "1d3d114d172692e2d9cb5940189670b3347aa9dfb60d677393102dcf888ecb3c",
         1759972967,
         115
        ],
        [
         23536875,
         "148ea6bdb3efb00202887fa9a715e193efdf6ae46b6ad93618d9210a4578b1ab",
         1759972979,
         105
        ],
        [
         23536876,
         "d8610d7c5bea95fb24e7e50979b25ea5dda2f4fbc31e839091393dd45a83823d",
         1759972991,
         337
        ],
        [
         23536877,
         "0cfd7701d0e494e51c4b12ed6e874770ae62c49e8a58fb57dbb80f4abe834d44",
         1759973003,
         248
        ],
        [
         23536878,
         "51e1859d8889ff7991c2165c758859ac18887ae5dcf8298efb4be3a37105a22a",
         1759973015,
         313
        ],
        [
         23536879,
         "dbb19dbc80b9ff81c71e102541230fbfeccd00eaaf09111165ececcb578393a8",
         1759973027,
         230
        ],
        [
         23536880,
         "34c73352846939e16fe72e6842516c42f066b2be2aeefeb84eb7c67919790dc1",
         1759973039,
         167
        ],
        [
         23536881,
         "8a3037c3b9a9f4a8575b127fe42b35d12354a2bd1b67befaa9dd56c253b307fa",
         1759973051,
         189
        ],
        [
         23536882,
         "93540acadd0396cc00cfa1a97fdb4c50914d7987a87f7daaf7cb64825f9e09ba",
         1759973063,
         190
        ],
        [
         23536883,
         "46a6bdf4bb3222765d7539fb0da046af581cdd10efd5f1a6751e2393a61f6d29",
         1759973075,
         180
        ],
        [
         23536884,
         "b0fb1edc982f4ad5ba0c3155e861b70128045a724ef4e4d0712b1d431496b7f5",
         1759973087,
         203
        ],
        [
         23536885,
         "d72f9df5a28d5e726a238f8d115d9261a737fa08e36e3363bdff942949941b60",
         1759973099,
         144
        ],
        [
         23536886,
         "041911acb67150f6f7c7cf901a97472a7e8976f534d57c1068f2f2c161dd8c07",
         1759973111,
         157
        ],
        [
         23536887,
         "1c97a6b4e89bd25c13ab4d9c76a1f09a6b1658166477e8905ed4e0a2c7852afd",
         1759973123,
         101
        ],
        [
         23536888,
         "5e086b8c507820166eafde4d24e414ace6197a1398ea1c55e97e0ef85f75b053",
         1759973135,
         158
        ],
        [
         23536889,
         "98df62db3c88eccfb74e1a16efd392355110dc0cc0b4ebe40d775584f689444f",
         1759973147,
         197
        ],
        [
         23536890,
         "1e63cc3c80212209cdb5cc028fee0db6e2cdefd505df6378e581906b6889dd35",
         1759973159,
         370
        ],
        [
         23536891,
         "7a9dc84bdb410d527e4b9ec8f3583eb8f92d2f8915822616a1edcbd5f272adb3",
         1759973171,
         95
        ],
        [
         23536892,
         "729470abfb6ce09dbbe9beefb6e5343d634762cfbc3bdb9c94f5dd9f8aaa6770",
         1759973183,
         260
        ],
        [
         23536893,
         "691d11e5f00b1fecf823a95e20d1b5a29b80547afc191e0e10508e77281d57a6",
         1759973195,
         257
        ],
        [
         23536894,
         "f1aeedbd84835d230a474a5def04dd18872ccecd556a4d7bbadc23dea699b154",
         1759973207,
         253
        ],
        [
         23536859,
         "a39ba6d58e8b6aaf3c6977add0f1aed9051b9a0fc8cbc602567f5382cc825d20",
         1759972787,
         164
        ],
        [
         23536860,
         "a51151c4ae413baf37e88fb8731127503adbbabe6dd0f3f098142f21fee4e47b",
         1759972799,
         148
        ],
        [
         23536861,
         "42934da04481d8a272fac6ae90607e10e0c13a38f4f9cfb26c3d6aa4eaa97566",
         1759972811,
         253
        ]
       ],
       "datasetInfos": [
        {
         "name": "_sqldf",
         "schema": {
          "fields": [
           {
            "metadata": {},
            "name": "block_number",
            "nullable": true,
            "type": "long"
           },
           {
            "metadata": {},
            "name": "block_hash",
            "nullable": true,
            "type": "string"
           },
           {
            "metadata": {},
            "name": "timestamp",
            "nullable": true,
            "type": "long"
           },
           {
            "metadata": {},
            "name": "tx_count",
            "nullable": true,
            "type": "long"
           }
          ],
          "type": "struct"
         },
         "tableIdentifier": null,
         "typeStr": "pyspark.sql.connect.dataframe.DataFrame"
        }
       ],
       "dbfsResultPath": null,
       "isJsonSchema": true,
       "metadata": {
        "createTempViewForImplicitDf": true,
        "dataframeName": "_sqldf",
        "executionCount": 17
       },
       "overflow": false,
       "plotOptions": {
        "customPlotOptions": {},
        "displayType": "table",
        "pivotAggregation": null,
        "pivotColumns": null,
        "xColumns": null,
        "yColumns": null
       },
       "removedWidgets": [],
       "schema": [
        {
         "metadata": "{}",
         "name": "block_number",
         "type": "\"long\""
        },
        {
         "metadata": "{}",
         "name": "block_hash",
         "type": "\"string\""
        },
        {
         "metadata": "{}",
         "name": "timestamp",
         "type": "\"long\""
        },
        {
         "metadata": "{}",
         "name": "tx_count",
         "type": "\"long\""
        }
       ],
       "type": "table"
      }
     },
     "output_type": "display_data"
    }
   ],
   "source": [
    "%sql SELECT * FROM ethereum.bronze.blocks_json\n"
   ]
  },
  {
   "cell_type": "code",
   "execution_count": 0,
   "metadata": {
    "application/vnd.databricks.v1+cell": {
     "cellMetadata": {},
     "inputWidgets": {},
     "nuid": "4f9f7423-2d11-4df5-aa55-a931fe194cb0",
     "showTitle": false,
     "tableResultSettingsMap": {},
     "title": ""
    }
   },
   "outputs": [],
   "source": []
  }
 ],
 "metadata": {
  "application/vnd.databricks.v1+notebook": {
   "computePreferences": null,
   "dashboards": [],
   "environmentMetadata": {
    "base_environment": "",
    "environment_version": "3"
   },
   "inputWidgetPreferences": null,
   "language": "python",
   "notebookMetadata": {
    "mostRecentlyExecutedCommandWithImplicitDF": {
     "commandId": 1190000274497878,
     "dataframes": [
      "_sqldf"
     ]
    },
    "pythonIndentUnit": 4
   },
   "notebookName": "ethereum_revised_block_stream_init",
   "widgets": {
    "catalog_name": {
     "currentValue": "web3_data",
     "nuid": "4a49c685-6278-40a5-81b4-70a9dbaf450d",
     "typedWidgetInfo": {
      "autoCreated": false,
      "defaultValue": "web3_data",
      "label": "Catalog Name",
      "name": "catalog_name",
      "options": {
       "widgetDisplayType": "Text",
       "validationRegex": null
      },
      "parameterDataType": "String"
     },
     "widgetInfo": {
      "widgetType": "text",
      "defaultValue": "web3_data",
      "label": "Catalog Name",
      "name": "catalog_name",
      "options": {
       "widgetType": "text",
       "autoCreated": null,
       "validationRegex": null
      }
     }
    },
    "max_calls_per_second": {
     "currentValue": "0.8",
     "nuid": "d2d33246-e9b2-497f-9a94-82ae57aa1555",
     "typedWidgetInfo": {
      "autoCreated": false,
      "defaultValue": "0.8",
      "label": "Max calls/sec",
      "name": "max_calls_per_second",
      "options": {
       "widgetDisplayType": "Text",
       "validationRegex": null
      },
      "parameterDataType": "String"
     },
     "widgetInfo": {
      "widgetType": "text",
      "defaultValue": "0.8",
      "label": "Max calls/sec",
      "name": "max_calls_per_second",
      "options": {
       "widgetType": "text",
       "autoCreated": null,
       "validationRegex": null
      }
     }
    },
    "microbatch_size": {
     "currentValue": "10",
     "nuid": "31ada39e-f528-4147-9269-301de12ff445",
     "typedWidgetInfo": {
      "autoCreated": false,
      "defaultValue": "10",
      "label": "Blocks per Microbatch",
      "name": "microbatch_size",
      "options": {
       "widgetDisplayType": "Text",
       "validationRegex": null
      },
      "parameterDataType": "String"
     },
     "widgetInfo": {
      "widgetType": "text",
      "defaultValue": "10",
      "label": "Blocks per Microbatch",
      "name": "microbatch_size",
      "options": {
       "widgetType": "text",
       "autoCreated": null,
       "validationRegex": null
      }
     }
    },
    "output_catalog_name": {
     "currentValue": "ethereum",
     "nuid": "66834edf-65d9-4b1c-b43b-74bef2b376c7",
     "typedWidgetInfo": {
      "autoCreated": false,
      "defaultValue": "ethereum",
      "label": "Output Catalog Name",
      "name": "output_catalog_name",
      "options": {
       "widgetDisplayType": "Text",
       "validationRegex": null
      },
      "parameterDataType": "String"
     },
     "widgetInfo": {
      "widgetType": "text",
      "defaultValue": "ethereum",
      "label": "Output Catalog Name",
      "name": "output_catalog_name",
      "options": {
       "widgetType": "text",
       "autoCreated": false,
       "validationRegex": null
      }
     }
    },
    "output_schema_name": {
     "currentValue": "bronze",
     "nuid": "cd10f344-a4cf-4b53-9741-c63b9cb5e427",
     "typedWidgetInfo": {
      "autoCreated": false,
      "defaultValue": "bronze",
      "label": "Output Schema Name",
      "name": "output_schema_name",
      "options": {
       "widgetDisplayType": "Text",
       "validationRegex": null
      },
      "parameterDataType": "String"
     },
     "widgetInfo": {
      "widgetType": "text",
      "defaultValue": "bronze",
      "label": "Output Schema Name",
      "name": "output_schema_name",
      "options": {
       "widgetType": "text",
       "autoCreated": false,
       "validationRegex": null
      }
     }
    },
    "poll_interval": {
     "currentValue": "15",
     "nuid": "cbe8b50e-6da7-481d-9043-cfc061cc3aa7",
     "typedWidgetInfo": {
      "autoCreated": false,
      "defaultValue": "15",
      "label": "Polling Interval (seconds)",
      "name": "poll_interval",
      "options": {
       "widgetDisplayType": "Text",
       "validationRegex": null
      },
      "parameterDataType": "String"
     },
     "widgetInfo": {
      "widgetType": "text",
      "defaultValue": "15",
      "label": "Polling Interval (seconds)",
      "name": "poll_interval",
      "options": {
       "widgetType": "text",
       "autoCreated": null,
       "validationRegex": null
      }
     }
    },
    "s3_managed_bucket": {
     "currentValue": "eth-stream-ingestion",
     "nuid": "cfb2c1c8-7782-4b62-af61-e92444b7d512",
     "typedWidgetInfo": {
      "autoCreated": false,
      "defaultValue": "eth-stream-ingestion",
      "label": "S3 Managed Bucket",
      "name": "s3_managed_bucket",
      "options": {
       "widgetDisplayType": "Text",
       "validationRegex": null
      },
      "parameterDataType": "String"
     },
     "widgetInfo": {
      "widgetType": "text",
      "defaultValue": "eth-stream-ingestion",
      "label": "S3 Managed Bucket",
      "name": "s3_managed_bucket",
      "options": {
       "widgetType": "text",
       "autoCreated": null,
       "validationRegex": null
      }
     }
    },
    "schema_name": {
     "currentValue": "ethereum_mainnet",
     "nuid": "eb52e132-dbb6-4639-ae41-3c2851726850",
     "typedWidgetInfo": {
      "autoCreated": false,
      "defaultValue": "ethereum_mainnet",
      "label": "Schema Name",
      "name": "schema_name",
      "options": {
       "widgetDisplayType": "Text",
       "validationRegex": null
      },
      "parameterDataType": "String"
     },
     "widgetInfo": {
      "widgetType": "text",
      "defaultValue": "ethereum_mainnet",
      "label": "Schema Name",
      "name": "schema_name",
      "options": {
       "widgetType": "text",
       "autoCreated": null,
       "validationRegex": null
      }
     }
    }
   }
  },
  "language_info": {
   "name": "python"
  }
 },
 "nbformat": 4,
 "nbformat_minor": 0
}