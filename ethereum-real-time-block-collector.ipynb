{
 "cells": [
  {
   "cell_type": "code",
   "execution_count": 0,
   "metadata": {
    "application/vnd.databricks.v1+cell": {
     "cellMetadata": {
      "byteLimit": 2048000,
      "rowLimit": 10000
     },
     "inputWidgets": {},
     "nuid": "57c8ec27-464e-4568-81e2-9d63f3a98f06",
     "showTitle": false,
     "tableResultSettingsMap": {},
     "title": ""
    }
   },
   "outputs": [
    {
     "output_type": "stream",
     "name": "stdout",
     "output_type": "stream",
     "text": [
      "Collecting web3\n  Downloading web3-7.13.0-py3-none-any.whl.metadata (5.6 kB)\nCollecting eth-abi>=5.0.1 (from web3)\n  Downloading eth_abi-5.2.0-py3-none-any.whl.metadata (3.8 kB)\nCollecting eth-account>=0.13.6 (from web3)\n  Downloading eth_account-0.13.7-py3-none-any.whl.metadata (3.7 kB)\nCollecting eth-hash>=0.5.1 (from eth-hash[pycryptodome]>=0.5.1->web3)\n  Downloading eth_hash-0.7.1-py3-none-any.whl.metadata (4.2 kB)\nCollecting eth-typing>=5.0.0 (from web3)\n  Downloading eth_typing-5.2.1-py3-none-any.whl.metadata (3.2 kB)\nCollecting eth-utils>=5.0.0 (from web3)\n  Downloading eth_utils-5.3.1-py3-none-any.whl.metadata (5.7 kB)\nCollecting hexbytes>=1.2.0 (from web3)\n  Downloading hexbytes-1.3.1-py3-none-any.whl.metadata (3.3 kB)\nCollecting aiohttp>=3.7.4.post0 (from web3)\n  Downloading aiohttp-3.12.15-cp312-cp312-manylinux_2_17_aarch64.manylinux2014_aarch64.whl.metadata (7.7 kB)\nRequirement already satisfied: pydantic>=2.4.0 in /databricks/python3/lib/python3.12/site-packages (from web3) (2.8.2)\nRequirement already satisfied: requests>=2.23.0 in /databricks/python3/lib/python3.12/site-packages (from web3) (2.32.2)\nRequirement already satisfied: typing-extensions>=4.0.1 in /databricks/python3/lib/python3.12/site-packages (from web3) (4.11.0)\nCollecting types-requests>=2.0.0 (from web3)\n  Downloading types_requests-2.32.4.20250809-py3-none-any.whl.metadata (2.0 kB)\nCollecting websockets<16.0.0,>=10.0.0 (from web3)\n  Downloading websockets-15.0.1-cp312-cp312-manylinux_2_17_aarch64.manylinux2014_aarch64.whl.metadata (6.8 kB)\nCollecting pyunormalize>=15.0.0 (from web3)\n  Downloading pyunormalize-16.0.0-py3-none-any.whl.metadata (4.0 kB)\nCollecting aiohappyeyeballs>=2.5.0 (from aiohttp>=3.7.4.post0->web3)\n  Downloading aiohappyeyeballs-2.6.1-py3-none-any.whl.metadata (5.9 kB)\nCollecting aiosignal>=1.4.0 (from aiohttp>=3.7.4.post0->web3)\n  Downloading aiosignal-1.4.0-py3-none-any.whl.metadata (3.7 kB)\nCollecting attrs>=17.3.0 (from aiohttp>=3.7.4.post0->web3)\n  Downloading attrs-25.3.0-py3-none-any.whl.metadata (10 kB)\nCollecting frozenlist>=1.1.1 (from aiohttp>=3.7.4.post0->web3)\n  Downloading frozenlist-1.7.0-cp312-cp312-manylinux_2_17_aarch64.manylinux2014_aarch64.whl.metadata (18 kB)\nCollecting multidict<7.0,>=4.5 (from aiohttp>=3.7.4.post0->web3)\n  Downloading multidict-6.6.4-cp312-cp312-manylinux2014_aarch64.manylinux_2_17_aarch64.manylinux_2_28_aarch64.whl.metadata (5.3 kB)\nCollecting propcache>=0.2.0 (from aiohttp>=3.7.4.post0->web3)\n  Downloading propcache-0.3.2-cp312-cp312-manylinux_2_17_aarch64.manylinux2014_aarch64.whl.metadata (12 kB)\nCollecting yarl<2.0,>=1.17.0 (from aiohttp>=3.7.4.post0->web3)\n  Downloading yarl-1.20.1-cp312-cp312-manylinux_2_17_aarch64.manylinux2014_aarch64.whl.metadata (73 kB)\nCollecting parsimonious<0.11.0,>=0.10.0 (from eth-abi>=5.0.1->web3)\n  Downloading parsimonious-0.10.0-py3-none-any.whl.metadata (25 kB)\nCollecting bitarray>=2.4.0 (from eth-account>=0.13.6->web3)\n  Downloading bitarray-3.7.1-cp312-cp312-manylinux_2_17_aarch64.manylinux2014_aarch64.whl.metadata (34 kB)\nCollecting eth-keyfile<0.9.0,>=0.7.0 (from eth-account>=0.13.6->web3)\n  Downloading eth_keyfile-0.8.1-py3-none-any.whl.metadata (8.5 kB)\nCollecting eth-keys>=0.4.0 (from eth-account>=0.13.6->web3)\n  Downloading eth_keys-0.7.0-py3-none-any.whl.metadata (13 kB)\nCollecting eth-rlp>=2.1.0 (from eth-account>=0.13.6->web3)\n  Downloading eth_rlp-2.2.0-py3-none-any.whl.metadata (3.3 kB)\nCollecting rlp>=1.0.0 (from eth-account>=0.13.6->web3)\n  Downloading rlp-4.1.0-py3-none-any.whl.metadata (3.2 kB)\nCollecting ckzg>=2.0.0 (from eth-account>=0.13.6->web3)\n  Downloading ckzg-2.1.2-cp312-cp312-manylinux_2_17_aarch64.manylinux2014_aarch64.whl.metadata (887 bytes)\nCollecting pycryptodome<4,>=3.6.6 (from eth-hash[pycryptodome]>=0.5.1->web3)\n  Downloading pycryptodome-3.23.0-cp37-abi3-manylinux_2_17_aarch64.manylinux2014_aarch64.whl.metadata (3.4 kB)\nCollecting cytoolz>=0.10.1 (from eth-utils>=5.0.0->web3)\n  Downloading cytoolz-1.0.1-cp312-cp312-manylinux_2_17_aarch64.manylinux2014_aarch64.whl.metadata (4.6 kB)\nRequirement already satisfied: annotated-types>=0.4.0 in /databricks/python3/lib/python3.12/site-packages (from pydantic>=2.4.0->web3) (0.7.0)\nRequirement already satisfied: pydantic-core==2.20.1 in /databricks/python3/lib/python3.12/site-packages (from pydantic>=2.4.0->web3) (2.20.1)\nRequirement already satisfied: charset-normalizer<4,>=2 in /databricks/python3/lib/python3.12/site-packages (from requests>=2.23.0->web3) (2.0.4)\nRequirement already satisfied: idna<4,>=2.5 in /databricks/python3/lib/python3.12/site-packages (from requests>=2.23.0->web3) (3.7)\nRequirement already satisfied: urllib3<3,>=1.21.1 in /databricks/python3/lib/python3.12/site-packages (from requests>=2.23.0->web3) (2.2.2)\nRequirement already satisfied: certifi>=2017.4.17 in /databricks/python3/lib/python3.12/site-packages (from requests>=2.23.0->web3) (2024.6.2)\nCollecting toolz>=0.8.0 (from cytoolz>=0.10.1->eth-utils>=5.0.0->web3)\n  Downloading toolz-1.0.0-py3-none-any.whl.metadata (5.1 kB)\nCollecting regex>=2022.3.15 (from parsimonious<0.11.0,>=0.10.0->eth-abi>=5.0.1->web3)\n  Downloading regex-2025.9.1-cp312-cp312-manylinux2014_aarch64.manylinux_2_17_aarch64.manylinux_2_28_aarch64.whl.metadata (40 kB)\nDownloading web3-7.13.0-py3-none-any.whl (1.4 MB)\n\u001B[?25l   \u001B[90m━━━━━━━━━━━━━━━━━━━━━━━━━━━━━━━━━━━━━━━━\u001B[0m \u001B[32m0.0/1.4 MB\u001B[0m \u001B[31m?\u001B[0m eta \u001B[36m-:--:--\u001B[0m\r\u001B[2K   \u001B[90m━━━━━━━━━━━━━━━━━━━━━━━━━━━━━━━━━━━━━━━━\u001B[0m \u001B[32m1.4/1.4 MB\u001B[0m \u001B[31m23.7 MB/s\u001B[0m eta \u001B[36m0:00:00\u001B[0m\n\u001B[?25hDownloading aiohttp-3.12.15-cp312-cp312-manylinux_2_17_aarch64.manylinux2014_aarch64.whl (1.7 MB)\n\u001B[?25l   \u001B[90m━━━━━━━━━━━━━━━━━━━━━━━━━━━━━━━━━━━━━━━━\u001B[0m \u001B[32m0.0/1.7 MB\u001B[0m \u001B[31m?\u001B[0m eta \u001B[36m-:--:--\u001B[0m\r\u001B[2K   \u001B[90m━━━━━━━━━━━━━━━━━━━━━━━━━━━━━━━━━━━━━━━━\u001B[0m \u001B[32m1.7/1.7 MB\u001B[0m \u001B[31m56.2 MB/s\u001B[0m eta \u001B[36m0:00:00\u001B[0m\n\u001B[?25hDownloading eth_abi-5.2.0-py3-none-any.whl (28 kB)\nDownloading eth_account-0.13.7-py3-none-any.whl (587 kB)\n\u001B[?25l   \u001B[90m━━━━━━━━━━━━━━━━━━━━━━━━━━━━━━━━━━━━━━━━\u001B[0m \u001B[32m0.0/587.5 kB\u001B[0m \u001B[31m?\u001B[0m eta \u001B[36m-:--:--\u001B[0m\r\u001B[2K   \u001B[90m━━━━━━━━━━━━━━━━━━━━━━━━━━━━━━━━━━━━━━━━\u001B[0m \u001B[32m587.5/587.5 kB\u001B[0m \u001B[31m25.9 MB/s\u001B[0m eta \u001B[36m0:00:00\u001B[0m\n\u001B[?25hDownloading eth_hash-0.7.1-py3-none-any.whl (8.0 kB)\nDownloading eth_typing-5.2.1-py3-none-any.whl (19 kB)\nDownloading eth_utils-5.3.1-py3-none-any.whl (102 kB)\nDownloading hexbytes-1.3.1-py3-none-any.whl (5.1 kB)\nDownloading pyunormalize-16.0.0-py3-none-any.whl (49 kB)\nDownloading types_requests-2.32.4.20250809-py3-none-any.whl (20 kB)\nDownloading websockets-15.0.1-cp312-cp312-manylinux_2_17_aarch64.manylinux2014_aarch64.whl (183 kB)\nDownloading aiohappyeyeballs-2.6.1-py3-none-any.whl (15 kB)\nDownloading aiosignal-1.4.0-py3-none-any.whl (7.5 kB)\nDownloading attrs-25.3.0-py3-none-any.whl (63 kB)\nDownloading bitarray-3.7.1-cp312-cp312-manylinux_2_17_aarch64.manylinux2014_aarch64.whl (330 kB)\nDownloading ckzg-2.1.2-cp312-cp312-manylinux_2_17_aarch64.manylinux2014_aarch64.whl (161 kB)\nDownloading cytoolz-1.0.1-cp312-cp312-manylinux_2_17_aarch64.manylinux2014_aarch64.whl (2.1 MB)\n\u001B[?25l   \u001B[90m━━━━━━━━━━━━━━━━━━━━━━━━━━━━━━━━━━━━━━━━\u001B[0m \u001B[32m0.0/2.1 MB\u001B[0m \u001B[31m?\u001B[0m eta \u001B[36m-:--:--\u001B[0m\r\u001B[2K   \u001B[90m━━━━━━━━━━━━━━━━━━━━━━━━━━━━━━━━━━━━━━━━\u001B[0m \u001B[32m2.1/2.1 MB\u001B[0m \u001B[31m45.2 MB/s\u001B[0m eta \u001B[36m0:00:00\u001B[0m\n\u001B[?25hDownloading eth_keyfile-0.8.1-py3-none-any.whl (7.5 kB)\nDownloading eth_keys-0.7.0-py3-none-any.whl (20 kB)\nDownloading eth_rlp-2.2.0-py3-none-any.whl (4.4 kB)\nDownloading frozenlist-1.7.0-cp312-cp312-manylinux_2_17_aarch64.manylinux2014_aarch64.whl (243 kB)\nDownloading multidict-6.6.4-cp312-cp312-manylinux2014_aarch64.manylinux_2_17_aarch64.manylinux_2_28_aarch64.whl (258 kB)\nDownloading parsimonious-0.10.0-py3-none-any.whl (48 kB)\nDownloading propcache-0.3.2-cp312-cp312-manylinux_2_17_aarch64.manylinux2014_aarch64.whl (226 kB)\nDownloading pycryptodome-3.23.0-cp37-abi3-manylinux_2_17_aarch64.manylinux2014_aarch64.whl (2.2 MB)\n\u001B[?25l   \u001B[90m━━━━━━━━━━━━━━━━━━━━━━━━━━━━━━━━━━━━━━━━\u001B[0m \u001B[32m0.0/2.2 MB\u001B[0m \u001B[31m?\u001B[0m eta \u001B[36m-:--:--\u001B[0m\r\u001B[2K   \u001B[90m━━━━━━━━━━━━━━━━━━━━━━━━━━━━━━━━━━━━━━━━\u001B[0m \u001B[32m2.2/2.2 MB\u001B[0m \u001B[31m55.1 MB/s\u001B[0m eta \u001B[36m0:00:00\u001B[0m\n\u001B[?25hDownloading rlp-4.1.0-py3-none-any.whl (19 kB)\nDownloading yarl-1.20.1-cp312-cp312-manylinux_2_17_aarch64.manylinux2014_aarch64.whl (352 kB)\nDownloading regex-2025.9.1-cp312-cp312-manylinux2014_aarch64.manylinux_2_17_aarch64.manylinux_2_28_aarch64.whl (797 kB)\n\u001B[?25l   \u001B[90m━━━━━━━━━━━━━━━━━━━━━━━━━━━━━━━━━━━━━━━━\u001B[0m \u001B[32m0.0/797.4 kB\u001B[0m \u001B[31m?\u001B[0m eta \u001B[36m-:--:--\u001B[0m\r\u001B[2K   \u001B[90m━━━━━━━━━━━━━━━━━━━━━━━━━━━━━━━━━━━━━━━━\u001B[0m \u001B[32m797.4/797.4 kB\u001B[0m \u001B[31m40.1 MB/s\u001B[0m eta \u001B[36m0:00:00\u001B[0m\n\u001B[?25hDownloading toolz-1.0.0-py3-none-any.whl (56 kB)\nInstalling collected packages: ckzg, bitarray, websockets, types-requests, toolz, regex, pyunormalize, pycryptodome, propcache, multidict, hexbytes, frozenlist, eth-typing, eth-hash, attrs, aiohappyeyeballs, yarl, parsimonious, cytoolz, aiosignal, eth-utils, aiohttp, rlp, eth-keys, eth-abi, eth-rlp, eth-keyfile, eth-account, web3\nSuccessfully installed aiohappyeyeballs-2.6.1 aiohttp-3.12.15 aiosignal-1.4.0 attrs-25.3.0 bitarray-3.7.1 ckzg-2.1.2 cytoolz-1.0.1 eth-abi-5.2.0 eth-account-0.13.7 eth-hash-0.7.1 eth-keyfile-0.8.1 eth-keys-0.7.0 eth-rlp-2.2.0 eth-typing-5.2.1 eth-utils-5.3.1 frozenlist-1.7.0 hexbytes-1.3.1 multidict-6.6.4 parsimonious-0.10.0 propcache-0.3.2 pycryptodome-3.23.0 pyunormalize-16.0.0 regex-2025.9.1 rlp-4.1.0 toolz-1.0.0 types-requests-2.32.4.20250809 web3-7.13.0 websockets-15.0.1 yarl-1.20.1\n\u001B[43mNote: you may need to restart the kernel using %restart_python or dbutils.library.restartPython() to use updated packages.\u001B[0m\n"
     ]
    }
   ],
   "source": [
    "pip install web3"
   ]
  },
  {
   "cell_type": "code",
   "execution_count": 0,
   "metadata": {
    "application/vnd.databricks.v1+cell": {
     "cellMetadata": {
      "byteLimit": 2048000,
      "rowLimit": 10000
     },
     "inputWidgets": {},
     "nuid": "f7cdeda2-4960-48b7-9519-74952f3fcc09",
     "showTitle": false,
     "tableResultSettingsMap": {},
     "title": ""
    }
   },
   "outputs": [
    {
     "output_type": "stream",
     "name": "stderr",
     "output_type": "stream",
     "text": [
      "2025-09-11 01:20:02,656 - INFO - Connected to Ethereum mainnet\n2025-09-11 01:20:02,683 - INFO - Starting from block 23336499\n2025-09-11 01:20:03,937 - INFO - Waiting for new blocks...\n2025-09-11 01:20:18,965 - INFO - Processing blocks 23336500 to 23336500\n2025-09-11 01:20:20,691 - INFO - ✅ Saved block 23336500 with 253 transactions\n2025-09-11 01:20:20,693 - INFO - Waiting for new blocks...\n2025-09-11 01:20:35,724 - INFO - Processing blocks 23336501 to 23336501\n2025-09-11 01:20:37,350 - INFO - ✅ Saved block 23336501 with 328 transactions\n2025-09-11 01:20:37,351 - INFO - Waiting for new blocks...\n2025-09-11 01:20:52,377 - INFO - Processing blocks 23336502 to 23336503\n2025-09-11 01:20:54,031 - INFO - ✅ Saved block 23336502 with 190 transactions\n2025-09-11 01:20:55,144 - INFO - ✅ Saved block 23336503 with 302 transactions\n2025-09-11 01:20:55,144 - INFO - Waiting for new blocks...\n2025-09-11 01:21:10,169 - INFO - Processing blocks 23336504 to 23336504\n2025-09-11 01:21:11,702 - INFO - ✅ Saved block 23336504 with 308 transactions\n2025-09-11 01:21:11,705 - INFO - Waiting for new blocks...\n2025-09-11 01:21:26,735 - INFO - Processing blocks 23336505 to 23336506\n2025-09-11 01:21:28,239 - INFO - ✅ Saved block 23336505 with 276 transactions\n2025-09-11 01:21:30,072 - INFO - ✅ Saved block 23336506 with 247 transactions\n2025-09-11 01:21:30,073 - INFO - Waiting for new blocks...\n2025-09-11 01:21:45,100 - INFO - Processing blocks 23336507 to 23336507\n2025-09-11 01:21:46,663 - INFO - ✅ Saved block 23336507 with 341 transactions\n2025-09-11 01:21:46,664 - INFO - Waiting for new blocks...\n"
     ]
    },
    {
     "output_type": "display_data",
     "data": {
      "text/plain": [
       "com.databricks.backend.common.rpc.CommandCancelledException\n",
       "\tat com.databricks.spark.chauffeur.SequenceExecutionState.$anonfun$cancel$5(SequenceExecutionState.scala:132)\n",
       "\tat scala.Option.getOrElse(Option.scala:189)\n",
       "\tat com.databricks.spark.chauffeur.SequenceExecutionState.$anonfun$cancel$3(SequenceExecutionState.scala:132)\n",
       "\tat com.databricks.spark.chauffeur.SequenceExecutionState.$anonfun$cancel$3$adapted(SequenceExecutionState.scala:129)\n",
       "\tat scala.collection.immutable.Range.foreach(Range.scala:158)\n",
       "\tat com.databricks.spark.chauffeur.SequenceExecutionState.cancel(SequenceExecutionState.scala:129)\n",
       "\tat com.databricks.spark.chauffeur.ExecContextState.cancelRunningSequence(ExecContextState.scala:715)\n",
       "\tat com.databricks.spark.chauffeur.ExecContextState.$anonfun$cancel$1(ExecContextState.scala:435)\n",
       "\tat scala.Option.getOrElse(Option.scala:189)\n",
       "\tat com.databricks.spark.chauffeur.ExecContextState.cancel(ExecContextState.scala:435)\n",
       "\tat com.databricks.spark.chauffeur.ExecutionContextManagerV1.cancelExecution(ExecutionContextManagerV1.scala:465)\n",
       "\tat com.databricks.spark.chauffeur.ChauffeurState.$anonfun$process$1(ChauffeurState.scala:743)\n",
       "\tat com.databricks.logging.UsageLogging.$anonfun$recordOperation$1(UsageLogging.scala:510)\n",
       "\tat com.databricks.logging.UsageLogging.executeThunkAndCaptureResultTags$1(UsageLogging.scala:616)\n",
       "\tat com.databricks.logging.UsageLogging.$anonfun$recordOperationWithResultTags$4(UsageLogging.scala:643)\n",
       "\tat com.databricks.logging.AttributionContextTracing.$anonfun$withAttributionContext$1(AttributionContextTracing.scala:49)\n",
       "\tat com.databricks.logging.AttributionContext$.$anonfun$withValue$1(AttributionContext.scala:299)\n",
       "\tat scala.util.DynamicVariable.withValue(DynamicVariable.scala:62)\n",
       "\tat com.databricks.logging.AttributionContext$.withValue(AttributionContext.scala:295)\n",
       "\tat com.databricks.logging.AttributionContextTracing.withAttributionContext(AttributionContextTracing.scala:47)\n",
       "\tat com.databricks.logging.AttributionContextTracing.withAttributionContext$(AttributionContextTracing.scala:44)\n",
       "\tat com.databricks.spark.chauffeur.ChauffeurState.withAttributionContext(ChauffeurState.scala:84)\n",
       "\tat com.databricks.logging.AttributionContextTracing.withAttributionTags(AttributionContextTracing.scala:96)\n",
       "\tat com.databricks.logging.AttributionContextTracing.withAttributionTags$(AttributionContextTracing.scala:77)\n",
       "\tat com.databricks.spark.chauffeur.ChauffeurState.withAttributionTags(ChauffeurState.scala:84)\n",
       "\tat com.databricks.logging.UsageLogging.recordOperationWithResultTags(UsageLogging.scala:611)\n",
       "\tat com.databricks.logging.UsageLogging.recordOperationWithResultTags$(UsageLogging.scala:519)\n",
       "\tat com.databricks.spark.chauffeur.ChauffeurState.recordOperationWithResultTags(ChauffeurState.scala:84)\n",
       "\tat com.databricks.logging.UsageLogging.recordOperation(UsageLogging.scala:511)\n",
       "\tat com.databricks.logging.UsageLogging.recordOperation$(UsageLogging.scala:475)\n",
       "\tat com.databricks.spark.chauffeur.ChauffeurState.recordOperation(ChauffeurState.scala:84)\n",
       "\tat com.databricks.spark.chauffeur.ChauffeurState.process(ChauffeurState.scala:721)\n",
       "\tat com.databricks.spark.chauffeur.Chauffeur$$anon$1$$anonfun$com$databricks$spark$chauffeur$Chauffeur$$nestedInanon$$receiveInternal$1.handleDriverRequest$1(Chauffeur.scala:918)\n",
       "\tat com.databricks.spark.chauffeur.Chauffeur$$anon$1$$anonfun$com$databricks$spark$chauffeur$Chauffeur$$nestedInanon$$receiveInternal$1.$anonfun$applyOrElse$3(Chauffeur.scala:944)\n",
       "\tat com.databricks.logging.UsageLogging.executeThunkAndCaptureResultTags$1(UsageLogging.scala:616)\n",
       "\tat com.databricks.logging.UsageLogging.$anonfun$recordOperationWithResultTags$4(UsageLogging.scala:643)\n",
       "\tat com.databricks.logging.AttributionContextTracing.$anonfun$withAttributionContext$1(AttributionContextTracing.scala:49)\n",
       "\tat com.databricks.logging.AttributionContext$.$anonfun$withValue$1(AttributionContext.scala:299)\n",
       "\tat scala.util.DynamicVariable.withValue(DynamicVariable.scala:62)\n",
       "\tat com.databricks.logging.AttributionContext$.withValue(AttributionContext.scala:295)\n",
       "\tat com.databricks.logging.AttributionContextTracing.withAttributionContext(AttributionContextTracing.scala:47)\n",
       "\tat com.databricks.logging.AttributionContextTracing.withAttributionContext$(AttributionContextTracing.scala:44)\n",
       "\tat com.databricks.rpc.ServerBackend.withAttributionContext(ServerBackend.scala:22)\n",
       "\tat com.databricks.logging.AttributionContextTracing.withAttributionTags(AttributionContextTracing.scala:96)\n",
       "\tat com.databricks.logging.AttributionContextTracing.withAttributionTags$(AttributionContextTracing.scala:77)\n",
       "\tat com.databricks.rpc.ServerBackend.withAttributionTags(ServerBackend.scala:22)\n",
       "\tat com.databricks.logging.UsageLogging.recordOperationWithResultTags(UsageLogging.scala:611)\n",
       "\tat com.databricks.logging.UsageLogging.recordOperationWithResultTags$(UsageLogging.scala:519)\n",
       "\tat com.databricks.rpc.ServerBackend.recordOperationWithResultTags(ServerBackend.scala:22)\n",
       "\tat com.databricks.spark.chauffeur.Chauffeur$$anon$1$$anonfun$com$databricks$spark$chauffeur$Chauffeur$$nestedInanon$$receiveInternal$1.handleDriverRequestWithUsageLogging$1(Chauffeur.scala:943)\n",
       "\tat com.databricks.spark.chauffeur.Chauffeur$$anon$1$$anonfun$com$databricks$spark$chauffeur$Chauffeur$$nestedInanon$$receiveInternal$1.applyOrElse(Chauffeur.scala:998)\n",
       "\tat com.databricks.spark.chauffeur.Chauffeur$$anon$1$$anonfun$com$databricks$spark$chauffeur$Chauffeur$$nestedInanon$$receiveInternal$1.applyOrElse(Chauffeur.scala:793)\n",
       "\tat scala.runtime.AbstractPartialFunction.apply(AbstractPartialFunction.scala:38)\n",
       "\tat com.databricks.spark.chauffeur.Chauffeur$$anon$1$$anonfun$receive$1.applyOrElse(Chauffeur.scala:789)\n",
       "\tat com.databricks.spark.chauffeur.Chauffeur$$anon$1$$anonfun$receive$1.applyOrElse(Chauffeur.scala:784)\n",
       "\tat com.databricks.rpc.ServerBackend.$anonfun$internalReceive0$2(ServerBackend.scala:174)\n",
       "\tat com.databricks.rpc.ServerBackend$$anonfun$commonReceive$1.applyOrElse(ServerBackend.scala:200)\n",
       "\tat com.databricks.rpc.ServerBackend$$anonfun$commonReceive$1.applyOrElse(ServerBackend.scala:200)\n",
       "\tat com.databricks.rpc.ServerBackend.internalReceive0(ServerBackend.scala:171)\n",
       "\tat com.databricks.rpc.ServerBackend.$anonfun$internalReceive$1(ServerBackend.scala:147)\n",
       "\tat com.databricks.logging.UsageLogging.$anonfun$recordOperation$1(UsageLogging.scala:510)\n",
       "\tat com.databricks.logging.UsageLogging.executeThunkAndCaptureResultTags$1(UsageLogging.scala:616)\n",
       "\tat com.databricks.logging.UsageLogging.$anonfun$recordOperationWithResultTags$4(UsageLogging.scala:643)\n",
       "\tat com.databricks.logging.AttributionContextTracing.$anonfun$withAttributionContext$1(AttributionContextTracing.scala:49)\n",
       "\tat com.databricks.logging.AttributionContext$.$anonfun$withValue$1(AttributionContext.scala:299)\n",
       "\tat scala.util.DynamicVariable.withValue(DynamicVariable.scala:62)\n",
       "\tat com.databricks.logging.AttributionContext$.withValue(AttributionContext.scala:295)\n",
       "\tat com.databricks.logging.AttributionContextTracing.withAttributionContext(AttributionContextTracing.scala:47)\n",
       "\tat com.databricks.logging.AttributionContextTracing.withAttributionContext$(AttributionContextTracing.scala:44)\n",
       "\tat com.databricks.rpc.ServerBackend.withAttributionContext(ServerBackend.scala:22)\n",
       "\tat com.databricks.logging.AttributionContextTracing.withAttributionTags(AttributionContextTracing.scala:96)\n",
       "\tat com.databricks.logging.AttributionContextTracing.withAttributionTags$(AttributionContextTracing.scala:77)\n",
       "\tat com.databricks.rpc.ServerBackend.withAttributionTags(ServerBackend.scala:22)\n",
       "\tat com.databricks.logging.UsageLogging.recordOperationWithResultTags(UsageLogging.scala:611)\n",
       "\tat com.databricks.logging.UsageLogging.recordOperationWithResultTags$(UsageLogging.scala:519)\n",
       "\tat com.databricks.rpc.ServerBackend.recordOperationWithResultTags(ServerBackend.scala:22)\n",
       "\tat com.databricks.logging.UsageLogging.recordOperation(UsageLogging.scala:511)\n",
       "\tat com.databricks.logging.UsageLogging.recordOperation$(UsageLogging.scala:475)\n",
       "\tat com.databricks.rpc.ServerBackend.recordOperation(ServerBackend.scala:22)\n",
       "\tat com.databricks.rpc.ServerBackend.internalReceive(ServerBackend.scala:146)\n",
       "\tat com.databricks.rpc.JettyServer$RequestManager.handleRPC(JettyServer.scala:988)\n",
       "\tat com.databricks.rpc.JettyServer$RequestManager.handleRequestAndRespond(JettyServer.scala:908)\n",
       "\tat com.databricks.rpc.JettyServer$RequestManager.$anonfun$handleHttp$5(JettyServer.scala:548)\n",
       "\tat com.databricks.rpc.JettyServer$RequestManager.$anonfun$handleHttp$5$adapted(JettyServer.scala:513)\n",
       "\tat com.databricks.logging.activity.ActivityContextFactory$.$anonfun$withActivityInternal$12(ActivityContextFactory.scala:914)\n",
       "\tat com.databricks.logging.AttributionContextTracing.$anonfun$withAttributionContext$1(AttributionContextTracing.scala:49)\n",
       "\tat com.databricks.logging.AttributionContext$.$anonfun$withValue$1(AttributionContext.scala:299)\n",
       "\tat scala.util.DynamicVariable.withValue(DynamicVariable.scala:62)\n",
       "\tat com.databricks.logging.AttributionContext$.withValue(AttributionContext.scala:295)\n",
       "\tat com.databricks.logging.AttributionContextTracing.withAttributionContext(AttributionContextTracing.scala:47)\n",
       "\tat com.databricks.logging.AttributionContextTracing.withAttributionContext$(AttributionContextTracing.scala:44)\n",
       "\tat com.databricks.logging.activity.ActivityContextFactory$.withAttributionContext(ActivityContextFactory.scala:58)\n",
       "\tat com.databricks.logging.activity.ActivityContextFactory$.$anonfun$withActivityInternal$2(ActivityContextFactory.scala:914)\n",
       "\tat com.databricks.context.integrity.IntegrityCheckContext$ThreadLocalStorage$.withValue(IntegrityCheckContext.scala:73)\n",
       "\tat com.databricks.logging.activity.ActivityContextFactory$.withActivityInternal(ActivityContextFactory.scala:877)\n",
       "\tat com.databricks.logging.activity.ActivityContextFactory$.withActivityInternal(ActivityContextFactory.scala:859)\n",
       "\tat com.databricks.logging.activity.ActivityContextFactory$.$anonfun$withServiceRequestActivity$26(ActivityContextFactory.scala:331)\n",
       "\tat com.databricks.logging.AttributionContextTracing.$anonfun$withAttributionContext$1(AttributionContextTracing.scala:49)\n",
       "\tat com.databricks.logging.AttributionContext$.$anonfun$withValue$1(AttributionContext.scala:299)\n",
       "\tat scala.util.DynamicVariable.withValue(DynamicVariable.scala:62)\n",
       "\tat com.databricks.logging.AttributionContext$.withValue(AttributionContext.scala:295)\n",
       "\tat com.databricks.logging.AttributionContextTracing.withAttributionContext(AttributionContextTracing.scala:47)\n",
       "\tat com.databricks.logging.AttributionContextTracing.withAttributionContext$(AttributionContextTracing.scala:44)\n",
       "\tat com.databricks.logging.activity.ActivityContextFactory$.withAttributionContext(ActivityContextFactory.scala:58)\n",
       "\tat com.databricks.logging.activity.ActivityContextFactory$.withServiceRequestActivity(ActivityContextFactory.scala:331)\n",
       "\tat com.databricks.rpc.JettyServer$RequestManager.handleHttp(JettyServer.scala:513)\n",
       "\tat com.databricks.rpc.JettyServer$RequestManager.doPost(JettyServer.scala:408)\n",
       "\tat javax.servlet.http.HttpServlet.service(HttpServlet.java:665)\n",
       "\tat com.databricks.rpc.HttpServletWithPatch.service(HttpServletWithPatch.scala:33)\n",
       "\tat javax.servlet.http.HttpServlet.service(HttpServlet.java:750)\n",
       "\tat org.eclipse.jetty.servlet.ServletHolder.handle(ServletHolder.java:799)\n",
       "\tat org.eclipse.jetty.servlet.ServletHandler.doHandle(ServletHandler.java:554)\n",
       "\tat org.eclipse.jetty.server.handler.ScopedHandler.nextScope(ScopedHandler.java:190)\n",
       "\tat org.eclipse.jetty.servlet.ServletHandler.doScope(ServletHandler.java:505)\n",
       "\tat org.eclipse.jetty.server.handler.ScopedHandler.handle(ScopedHandler.java:141)\n",
       "\tat org.eclipse.jetty.server.handler.HandlerWrapper.handle(HandlerWrapper.java:127)\n",
       "\tat org.eclipse.jetty.server.Server.handle(Server.java:516)\n",
       "\tat org.eclipse.jetty.server.HttpChannel.lambda$handle$1(HttpChannel.java:487)\n",
       "\tat org.eclipse.jetty.server.HttpChannel.dispatch(HttpChannel.java:732)\n",
       "\tat org.eclipse.jetty.server.HttpChannel.handle(HttpChannel.java:479)\n",
       "\tat org.eclipse.jetty.server.HttpConnection.onFillable(HttpConnection.java:277)\n",
       "\tat org.eclipse.jetty.io.AbstractConnection$ReadCallback.succeeded(AbstractConnection.java:311)\n",
       "\tat org.eclipse.jetty.io.FillInterest.fillable(FillInterest.java:105)\n",
       "\tat org.eclipse.jetty.io.ssl.SslConnection$DecryptedEndPoint.onFillable(SslConnection.java:555)\n",
       "\tat org.eclipse.jetty.io.ssl.SslConnection.onFillable(SslConnection.java:410)\n",
       "\tat org.eclipse.jetty.io.ssl.SslConnection$2.succeeded(SslConnection.java:164)\n",
       "\tat org.eclipse.jetty.io.FillInterest.fillable(FillInterest.java:105)\n",
       "\tat org.eclipse.jetty.io.ChannelEndPoint$1.run(ChannelEndPoint.java:104)\n",
       "\tat org.eclipse.jetty.util.thread.strategy.EatWhatYouKill.runTask(EatWhatYouKill.java:338)\n",
       "\tat org.eclipse.jetty.util.thread.strategy.EatWhatYouKill.doProduce(EatWhatYouKill.java:315)\n",
       "\tat org.eclipse.jetty.util.thread.strategy.EatWhatYouKill.tryProduce(EatWhatYouKill.java:173)\n",
       "\tat org.eclipse.jetty.util.thread.strategy.EatWhatYouKill.run(EatWhatYouKill.java:131)\n",
       "\tat org.eclipse.jetty.util.thread.ReservedThreadExecutor$ReservedThread.run(ReservedThreadExecutor.java:409)\n",
       "\tat com.databricks.rpc.InstrumentedQueuedThreadPool$$anon$1.$anonfun$run$2(InstrumentedQueuedThreadPool.scala:111)\n",
       "\tat scala.runtime.java8.JFunction0$mcV$sp.apply(JFunction0$mcV$sp.java:23)\n",
       "\tat com.databricks.logging.AttributionContextTracing.$anonfun$withAttributionContext$1(AttributionContextTracing.scala:49)\n",
       "\tat com.databricks.logging.AttributionContext$.$anonfun$withValue$1(AttributionContext.scala:299)\n",
       "\tat scala.util.DynamicVariable.withValue(DynamicVariable.scala:62)\n",
       "\tat com.databricks.logging.AttributionContext$.withValue(AttributionContext.scala:295)\n",
       "\tat com.databricks.logging.AttributionContextTracing.withAttributionContext(AttributionContextTracing.scala:47)\n",
       "\tat com.databricks.logging.AttributionContextTracing.withAttributionContext$(AttributionContextTracing.scala:44)\n",
       "\tat com.databricks.rpc.InstrumentedQueuedThreadPool.withAttributionContext(InstrumentedQueuedThreadPool.scala:46)\n",
       "\tat com.databricks.rpc.InstrumentedQueuedThreadPool$$anon$1.$anonfun$run$1(InstrumentedQueuedThreadPool.scala:111)\n",
       "\tat scala.runtime.java8.JFunction0$mcV$sp.apply(JFunction0$mcV$sp.java:23)\n",
       "\tat com.databricks.instrumentation.QueuedThreadPoolInstrumenter.trackActiveThreads(QueuedThreadPoolInstrumenter.scala:132)\n",
       "\tat com.databricks.instrumentation.QueuedThreadPoolInstrumenter.trackActiveThreads$(QueuedThreadPoolInstrumenter.scala:129)\n",
       "\tat com.databricks.rpc.InstrumentedQueuedThreadPool.trackActiveThreads(InstrumentedQueuedThreadPool.scala:46)\n",
       "\tat com.databricks.rpc.InstrumentedQueuedThreadPool$$anon$1.run(InstrumentedQueuedThreadPool.scala:93)\n",
       "\tat org.eclipse.jetty.util.thread.QueuedThreadPool.runJob(QueuedThreadPool.java:883)\n",
       "\tat org.eclipse.jetty.util.thread.QueuedThreadPool$Runner.run(QueuedThreadPool.java:1034)\n",
       "\tat java.base/java.lang.Thread.run(Thread.java:840)"
      ]
     },
     "metadata": {
      "application/vnd.databricks.v1+output": {
       "addedWidgets": {},
       "arguments": {},
       "datasetInfos": [],
       "jupyterProps": null,
       "metadata": {
        "errorSummary": "Cancelled"
       },
       "removedWidgets": [],
       "sqlProps": null,
       "stackFrames": [
        "com.databricks.backend.common.rpc.CommandCancelledException",
        "\tat com.databricks.spark.chauffeur.SequenceExecutionState.$anonfun$cancel$5(SequenceExecutionState.scala:132)",
        "\tat scala.Option.getOrElse(Option.scala:189)",
        "\tat com.databricks.spark.chauffeur.SequenceExecutionState.$anonfun$cancel$3(SequenceExecutionState.scala:132)",
        "\tat com.databricks.spark.chauffeur.SequenceExecutionState.$anonfun$cancel$3$adapted(SequenceExecutionState.scala:129)",
        "\tat scala.collection.immutable.Range.foreach(Range.scala:158)",
        "\tat com.databricks.spark.chauffeur.SequenceExecutionState.cancel(SequenceExecutionState.scala:129)",
        "\tat com.databricks.spark.chauffeur.ExecContextState.cancelRunningSequence(ExecContextState.scala:715)",
        "\tat com.databricks.spark.chauffeur.ExecContextState.$anonfun$cancel$1(ExecContextState.scala:435)",
        "\tat scala.Option.getOrElse(Option.scala:189)",
        "\tat com.databricks.spark.chauffeur.ExecContextState.cancel(ExecContextState.scala:435)",
        "\tat com.databricks.spark.chauffeur.ExecutionContextManagerV1.cancelExecution(ExecutionContextManagerV1.scala:465)",
        "\tat com.databricks.spark.chauffeur.ChauffeurState.$anonfun$process$1(ChauffeurState.scala:743)",
        "\tat com.databricks.logging.UsageLogging.$anonfun$recordOperation$1(UsageLogging.scala:510)",
        "\tat com.databricks.logging.UsageLogging.executeThunkAndCaptureResultTags$1(UsageLogging.scala:616)",
        "\tat com.databricks.logging.UsageLogging.$anonfun$recordOperationWithResultTags$4(UsageLogging.scala:643)",
        "\tat com.databricks.logging.AttributionContextTracing.$anonfun$withAttributionContext$1(AttributionContextTracing.scala:49)",
        "\tat com.databricks.logging.AttributionContext$.$anonfun$withValue$1(AttributionContext.scala:299)",
        "\tat scala.util.DynamicVariable.withValue(DynamicVariable.scala:62)",
        "\tat com.databricks.logging.AttributionContext$.withValue(AttributionContext.scala:295)",
        "\tat com.databricks.logging.AttributionContextTracing.withAttributionContext(AttributionContextTracing.scala:47)",
        "\tat com.databricks.logging.AttributionContextTracing.withAttributionContext$(AttributionContextTracing.scala:44)",
        "\tat com.databricks.spark.chauffeur.ChauffeurState.withAttributionContext(ChauffeurState.scala:84)",
        "\tat com.databricks.logging.AttributionContextTracing.withAttributionTags(AttributionContextTracing.scala:96)",
        "\tat com.databricks.logging.AttributionContextTracing.withAttributionTags$(AttributionContextTracing.scala:77)",
        "\tat com.databricks.spark.chauffeur.ChauffeurState.withAttributionTags(ChauffeurState.scala:84)",
        "\tat com.databricks.logging.UsageLogging.recordOperationWithResultTags(UsageLogging.scala:611)",
        "\tat com.databricks.logging.UsageLogging.recordOperationWithResultTags$(UsageLogging.scala:519)",
        "\tat com.databricks.spark.chauffeur.ChauffeurState.recordOperationWithResultTags(ChauffeurState.scala:84)",
        "\tat com.databricks.logging.UsageLogging.recordOperation(UsageLogging.scala:511)",
        "\tat com.databricks.logging.UsageLogging.recordOperation$(UsageLogging.scala:475)",
        "\tat com.databricks.spark.chauffeur.ChauffeurState.recordOperation(ChauffeurState.scala:84)",
        "\tat com.databricks.spark.chauffeur.ChauffeurState.process(ChauffeurState.scala:721)",
        "\tat com.databricks.spark.chauffeur.Chauffeur$$anon$1$$anonfun$com$databricks$spark$chauffeur$Chauffeur$$nestedInanon$$receiveInternal$1.handleDriverRequest$1(Chauffeur.scala:918)",
        "\tat com.databricks.spark.chauffeur.Chauffeur$$anon$1$$anonfun$com$databricks$spark$chauffeur$Chauffeur$$nestedInanon$$receiveInternal$1.$anonfun$applyOrElse$3(Chauffeur.scala:944)",
        "\tat com.databricks.logging.UsageLogging.executeThunkAndCaptureResultTags$1(UsageLogging.scala:616)",
        "\tat com.databricks.logging.UsageLogging.$anonfun$recordOperationWithResultTags$4(UsageLogging.scala:643)",
        "\tat com.databricks.logging.AttributionContextTracing.$anonfun$withAttributionContext$1(AttributionContextTracing.scala:49)",
        "\tat com.databricks.logging.AttributionContext$.$anonfun$withValue$1(AttributionContext.scala:299)",
        "\tat scala.util.DynamicVariable.withValue(DynamicVariable.scala:62)",
        "\tat com.databricks.logging.AttributionContext$.withValue(AttributionContext.scala:295)",
        "\tat com.databricks.logging.AttributionContextTracing.withAttributionContext(AttributionContextTracing.scala:47)",
        "\tat com.databricks.logging.AttributionContextTracing.withAttributionContext$(AttributionContextTracing.scala:44)",
        "\tat com.databricks.rpc.ServerBackend.withAttributionContext(ServerBackend.scala:22)",
        "\tat com.databricks.logging.AttributionContextTracing.withAttributionTags(AttributionContextTracing.scala:96)",
        "\tat com.databricks.logging.AttributionContextTracing.withAttributionTags$(AttributionContextTracing.scala:77)",
        "\tat com.databricks.rpc.ServerBackend.withAttributionTags(ServerBackend.scala:22)",
        "\tat com.databricks.logging.UsageLogging.recordOperationWithResultTags(UsageLogging.scala:611)",
        "\tat com.databricks.logging.UsageLogging.recordOperationWithResultTags$(UsageLogging.scala:519)",
        "\tat com.databricks.rpc.ServerBackend.recordOperationWithResultTags(ServerBackend.scala:22)",
        "\tat com.databricks.spark.chauffeur.Chauffeur$$anon$1$$anonfun$com$databricks$spark$chauffeur$Chauffeur$$nestedInanon$$receiveInternal$1.handleDriverRequestWithUsageLogging$1(Chauffeur.scala:943)",
        "\tat com.databricks.spark.chauffeur.Chauffeur$$anon$1$$anonfun$com$databricks$spark$chauffeur$Chauffeur$$nestedInanon$$receiveInternal$1.applyOrElse(Chauffeur.scala:998)",
        "\tat com.databricks.spark.chauffeur.Chauffeur$$anon$1$$anonfun$com$databricks$spark$chauffeur$Chauffeur$$nestedInanon$$receiveInternal$1.applyOrElse(Chauffeur.scala:793)",
        "\tat scala.runtime.AbstractPartialFunction.apply(AbstractPartialFunction.scala:38)",
        "\tat com.databricks.spark.chauffeur.Chauffeur$$anon$1$$anonfun$receive$1.applyOrElse(Chauffeur.scala:789)",
        "\tat com.databricks.spark.chauffeur.Chauffeur$$anon$1$$anonfun$receive$1.applyOrElse(Chauffeur.scala:784)",
        "\tat com.databricks.rpc.ServerBackend.$anonfun$internalReceive0$2(ServerBackend.scala:174)",
        "\tat com.databricks.rpc.ServerBackend$$anonfun$commonReceive$1.applyOrElse(ServerBackend.scala:200)",
        "\tat com.databricks.rpc.ServerBackend$$anonfun$commonReceive$1.applyOrElse(ServerBackend.scala:200)",
        "\tat com.databricks.rpc.ServerBackend.internalReceive0(ServerBackend.scala:171)",
        "\tat com.databricks.rpc.ServerBackend.$anonfun$internalReceive$1(ServerBackend.scala:147)",
        "\tat com.databricks.logging.UsageLogging.$anonfun$recordOperation$1(UsageLogging.scala:510)",
        "\tat com.databricks.logging.UsageLogging.executeThunkAndCaptureResultTags$1(UsageLogging.scala:616)",
        "\tat com.databricks.logging.UsageLogging.$anonfun$recordOperationWithResultTags$4(UsageLogging.scala:643)",
        "\tat com.databricks.logging.AttributionContextTracing.$anonfun$withAttributionContext$1(AttributionContextTracing.scala:49)",
        "\tat com.databricks.logging.AttributionContext$.$anonfun$withValue$1(AttributionContext.scala:299)",
        "\tat scala.util.DynamicVariable.withValue(DynamicVariable.scala:62)",
        "\tat com.databricks.logging.AttributionContext$.withValue(AttributionContext.scala:295)",
        "\tat com.databricks.logging.AttributionContextTracing.withAttributionContext(AttributionContextTracing.scala:47)",
        "\tat com.databricks.logging.AttributionContextTracing.withAttributionContext$(AttributionContextTracing.scala:44)",
        "\tat com.databricks.rpc.ServerBackend.withAttributionContext(ServerBackend.scala:22)",
        "\tat com.databricks.logging.AttributionContextTracing.withAttributionTags(AttributionContextTracing.scala:96)",
        "\tat com.databricks.logging.AttributionContextTracing.withAttributionTags$(AttributionContextTracing.scala:77)",
        "\tat com.databricks.rpc.ServerBackend.withAttributionTags(ServerBackend.scala:22)",
        "\tat com.databricks.logging.UsageLogging.recordOperationWithResultTags(UsageLogging.scala:611)",
        "\tat com.databricks.logging.UsageLogging.recordOperationWithResultTags$(UsageLogging.scala:519)",
        "\tat com.databricks.rpc.ServerBackend.recordOperationWithResultTags(ServerBackend.scala:22)",
        "\tat com.databricks.logging.UsageLogging.recordOperation(UsageLogging.scala:511)",
        "\tat com.databricks.logging.UsageLogging.recordOperation$(UsageLogging.scala:475)",
        "\tat com.databricks.rpc.ServerBackend.recordOperation(ServerBackend.scala:22)",
        "\tat com.databricks.rpc.ServerBackend.internalReceive(ServerBackend.scala:146)",
        "\tat com.databricks.rpc.JettyServer$RequestManager.handleRPC(JettyServer.scala:988)",
        "\tat com.databricks.rpc.JettyServer$RequestManager.handleRequestAndRespond(JettyServer.scala:908)",
        "\tat com.databricks.rpc.JettyServer$RequestManager.$anonfun$handleHttp$5(JettyServer.scala:548)",
        "\tat com.databricks.rpc.JettyServer$RequestManager.$anonfun$handleHttp$5$adapted(JettyServer.scala:513)",
        "\tat com.databricks.logging.activity.ActivityContextFactory$.$anonfun$withActivityInternal$12(ActivityContextFactory.scala:914)",
        "\tat com.databricks.logging.AttributionContextTracing.$anonfun$withAttributionContext$1(AttributionContextTracing.scala:49)",
        "\tat com.databricks.logging.AttributionContext$.$anonfun$withValue$1(AttributionContext.scala:299)",
        "\tat scala.util.DynamicVariable.withValue(DynamicVariable.scala:62)",
        "\tat com.databricks.logging.AttributionContext$.withValue(AttributionContext.scala:295)",
        "\tat com.databricks.logging.AttributionContextTracing.withAttributionContext(AttributionContextTracing.scala:47)",
        "\tat com.databricks.logging.AttributionContextTracing.withAttributionContext$(AttributionContextTracing.scala:44)",
        "\tat com.databricks.logging.activity.ActivityContextFactory$.withAttributionContext(ActivityContextFactory.scala:58)",
        "\tat com.databricks.logging.activity.ActivityContextFactory$.$anonfun$withActivityInternal$2(ActivityContextFactory.scala:914)",
        "\tat com.databricks.context.integrity.IntegrityCheckContext$ThreadLocalStorage$.withValue(IntegrityCheckContext.scala:73)",
        "\tat com.databricks.logging.activity.ActivityContextFactory$.withActivityInternal(ActivityContextFactory.scala:877)",
        "\tat com.databricks.logging.activity.ActivityContextFactory$.withActivityInternal(ActivityContextFactory.scala:859)",
        "\tat com.databricks.logging.activity.ActivityContextFactory$.$anonfun$withServiceRequestActivity$26(ActivityContextFactory.scala:331)",
        "\tat com.databricks.logging.AttributionContextTracing.$anonfun$withAttributionContext$1(AttributionContextTracing.scala:49)",
        "\tat com.databricks.logging.AttributionContext$.$anonfun$withValue$1(AttributionContext.scala:299)",
        "\tat scala.util.DynamicVariable.withValue(DynamicVariable.scala:62)",
        "\tat com.databricks.logging.AttributionContext$.withValue(AttributionContext.scala:295)",
        "\tat com.databricks.logging.AttributionContextTracing.withAttributionContext(AttributionContextTracing.scala:47)",
        "\tat com.databricks.logging.AttributionContextTracing.withAttributionContext$(AttributionContextTracing.scala:44)",
        "\tat com.databricks.logging.activity.ActivityContextFactory$.withAttributionContext(ActivityContextFactory.scala:58)",
        "\tat com.databricks.logging.activity.ActivityContextFactory$.withServiceRequestActivity(ActivityContextFactory.scala:331)",
        "\tat com.databricks.rpc.JettyServer$RequestManager.handleHttp(JettyServer.scala:513)",
        "\tat com.databricks.rpc.JettyServer$RequestManager.doPost(JettyServer.scala:408)",
        "\tat javax.servlet.http.HttpServlet.service(HttpServlet.java:665)",
        "\tat com.databricks.rpc.HttpServletWithPatch.service(HttpServletWithPatch.scala:33)",
        "\tat javax.servlet.http.HttpServlet.service(HttpServlet.java:750)",
        "\tat org.eclipse.jetty.servlet.ServletHolder.handle(ServletHolder.java:799)",
        "\tat org.eclipse.jetty.servlet.ServletHandler.doHandle(ServletHandler.java:554)",
        "\tat org.eclipse.jetty.server.handler.ScopedHandler.nextScope(ScopedHandler.java:190)",
        "\tat org.eclipse.jetty.servlet.ServletHandler.doScope(ServletHandler.java:505)",
        "\tat org.eclipse.jetty.server.handler.ScopedHandler.handle(ScopedHandler.java:141)",
        "\tat org.eclipse.jetty.server.handler.HandlerWrapper.handle(HandlerWrapper.java:127)",
        "\tat org.eclipse.jetty.server.Server.handle(Server.java:516)",
        "\tat org.eclipse.jetty.server.HttpChannel.lambda$handle$1(HttpChannel.java:487)",
        "\tat org.eclipse.jetty.server.HttpChannel.dispatch(HttpChannel.java:732)",
        "\tat org.eclipse.jetty.server.HttpChannel.handle(HttpChannel.java:479)",
        "\tat org.eclipse.jetty.server.HttpConnection.onFillable(HttpConnection.java:277)",
        "\tat org.eclipse.jetty.io.AbstractConnection$ReadCallback.succeeded(AbstractConnection.java:311)",
        "\tat org.eclipse.jetty.io.FillInterest.fillable(FillInterest.java:105)",
        "\tat org.eclipse.jetty.io.ssl.SslConnection$DecryptedEndPoint.onFillable(SslConnection.java:555)",
        "\tat org.eclipse.jetty.io.ssl.SslConnection.onFillable(SslConnection.java:410)",
        "\tat org.eclipse.jetty.io.ssl.SslConnection$2.succeeded(SslConnection.java:164)",
        "\tat org.eclipse.jetty.io.FillInterest.fillable(FillInterest.java:105)",
        "\tat org.eclipse.jetty.io.ChannelEndPoint$1.run(ChannelEndPoint.java:104)",
        "\tat org.eclipse.jetty.util.thread.strategy.EatWhatYouKill.runTask(EatWhatYouKill.java:338)",
        "\tat org.eclipse.jetty.util.thread.strategy.EatWhatYouKill.doProduce(EatWhatYouKill.java:315)",
        "\tat org.eclipse.jetty.util.thread.strategy.EatWhatYouKill.tryProduce(EatWhatYouKill.java:173)",
        "\tat org.eclipse.jetty.util.thread.strategy.EatWhatYouKill.run(EatWhatYouKill.java:131)",
        "\tat org.eclipse.jetty.util.thread.ReservedThreadExecutor$ReservedThread.run(ReservedThreadExecutor.java:409)",
        "\tat com.databricks.rpc.InstrumentedQueuedThreadPool$$anon$1.$anonfun$run$2(InstrumentedQueuedThreadPool.scala:111)",
        "\tat scala.runtime.java8.JFunction0$mcV$sp.apply(JFunction0$mcV$sp.java:23)",
        "\tat com.databricks.logging.AttributionContextTracing.$anonfun$withAttributionContext$1(AttributionContextTracing.scala:49)",
        "\tat com.databricks.logging.AttributionContext$.$anonfun$withValue$1(AttributionContext.scala:299)",
        "\tat scala.util.DynamicVariable.withValue(DynamicVariable.scala:62)",
        "\tat com.databricks.logging.AttributionContext$.withValue(AttributionContext.scala:295)",
        "\tat com.databricks.logging.AttributionContextTracing.withAttributionContext(AttributionContextTracing.scala:47)",
        "\tat com.databricks.logging.AttributionContextTracing.withAttributionContext$(AttributionContextTracing.scala:44)",
        "\tat com.databricks.rpc.InstrumentedQueuedThreadPool.withAttributionContext(InstrumentedQueuedThreadPool.scala:46)",
        "\tat com.databricks.rpc.InstrumentedQueuedThreadPool$$anon$1.$anonfun$run$1(InstrumentedQueuedThreadPool.scala:111)",
        "\tat scala.runtime.java8.JFunction0$mcV$sp.apply(JFunction0$mcV$sp.java:23)",
        "\tat com.databricks.instrumentation.QueuedThreadPoolInstrumenter.trackActiveThreads(QueuedThreadPoolInstrumenter.scala:132)",
        "\tat com.databricks.instrumentation.QueuedThreadPoolInstrumenter.trackActiveThreads$(QueuedThreadPoolInstrumenter.scala:129)",
        "\tat com.databricks.rpc.InstrumentedQueuedThreadPool.trackActiveThreads(InstrumentedQueuedThreadPool.scala:46)",
        "\tat com.databricks.rpc.InstrumentedQueuedThreadPool$$anon$1.run(InstrumentedQueuedThreadPool.scala:93)",
        "\tat org.eclipse.jetty.util.thread.QueuedThreadPool.runJob(QueuedThreadPool.java:883)",
        "\tat org.eclipse.jetty.util.thread.QueuedThreadPool$Runner.run(QueuedThreadPool.java:1034)",
        "\tat java.base/java.lang.Thread.run(Thread.java:840)"
       ],
       "type": "baseError"
      }
     },
     "output_type": "display_data"
    }
   ],
   "source": [
    "import os\n",
    "import json\n",
    "import time\n",
    "import logging\n",
    "from typing import Any, Dict, Union\n",
    "from web3 import Web3\n",
    "from web3.datastructures import AttributeDict\n",
    "from hexbytes import HexBytes\n",
    "from requests.exceptions import HTTPError, ConnectionError, Timeout\n",
    "from web3.exceptions import Web3Exception\n",
    "\n",
    "# Configure logging\n",
    "logging.basicConfig(level=logging.INFO, format='%(asctime)s - %(levelname)s - %(message)s')\n",
    "logger = logging.getLogger(__name__)\n",
    "\n",
    "class RateLimiter:\n",
    "    \"\"\"Simple rate limiter to control API call frequency\"\"\"\n",
    "    def __init__(self, max_calls_per_second: float = 5.0):\n",
    "        self.max_calls_per_second = max_calls_per_second\n",
    "        self.min_interval = 1.0 / max_calls_per_second\n",
    "        self.last_call_time = 0\n",
    "    \n",
    "    def wait_if_needed(self):\n",
    "        \"\"\"Wait if necessary to respect rate limit\"\"\"\n",
    "        current_time = time.time()\n",
    "        time_since_last_call = current_time - self.last_call_time\n",
    "        \n",
    "        if time_since_last_call < self.min_interval:\n",
    "            sleep_time = self.min_interval - time_since_last_call\n",
    "            time.sleep(sleep_time)\n",
    "        \n",
    "        self.last_call_time = time.time()\n",
    "\n",
    "def check_api_response_status(w3: Web3) -> bool:\n",
    "    \"\"\"Check if the API endpoint is responding correctly using Web3\"\"\"\n",
    "    try:\n",
    "        # Make a simple test request using Web3\n",
    "        block_number = w3.eth.block_number\n",
    "        \n",
    "        if block_number > 0:\n",
    "            logger.info(f\"✅ API endpoint responding correctly (current block: {block_number})\")\n",
    "            return True\n",
    "        else:\n",
    "            logger.error(f\"❌ API endpoint returned invalid block number: {block_number}\")\n",
    "            return False\n",
    "            \n",
    "    except Web3Exception as e:\n",
    "        logger.error(f\"❌ Web3 error connecting to API endpoint: {e}\")\n",
    "        return False\n",
    "    except Exception as e:\n",
    "        logger.error(f\"❌ Failed to connect to API endpoint: {e}\")\n",
    "        return False\n",
    "\n",
    "def to_serializable(obj: Any) -> Any:\n",
    "    \"\"\"Convert Web3 objects to JSON-serializable format\"\"\"\n",
    "    if isinstance(obj, (AttributeDict, dict)):\n",
    "        return {key: to_serializable(value) for key, value in obj.items()}\n",
    "    elif isinstance(obj, (list, tuple)):\n",
    "        return [to_serializable(item) for item in obj]\n",
    "    elif isinstance(obj, HexBytes):\n",
    "        return obj.hex()\n",
    "    elif isinstance(obj, bytes):\n",
    "        return obj.hex()\n",
    "    elif hasattr(obj, '__dict__'):\n",
    "        return to_serializable(obj.__dict__)\n",
    "    else:\n",
    "        return obj\n",
    "\n",
    "def fetch_block_with_retry(w3: Web3, block_number: int, rate_limiter: RateLimiter, \n",
    "                          max_retries: int = 3, base_delay: float = 1.0) -> Dict[str, Any]:\n",
    "    \"\"\"Fetch a block with rate limiting and retry logic\"\"\"\n",
    "    for attempt in range(max_retries):\n",
    "        try:\n",
    "            rate_limiter.wait_if_needed()\n",
    "            block = w3.eth.get_block(block_number, full_transactions=True)\n",
    "            return to_serializable(block)\n",
    "            \n",
    "        except (HTTPError, ConnectionError, Timeout) as e:\n",
    "            if attempt == max_retries - 1:\n",
    "                logger.error(f\"Failed to fetch block {block_number} after {max_retries} attempts: {e}\")\n",
    "                raise\n",
    "            \n",
    "            # Exponential backoff\n",
    "            delay = base_delay * (2 ** attempt)\n",
    "            logger.warning(f\"Attempt {attempt + 1} failed for block {block_number}, retrying in {delay}s: {e}\")\n",
    "            time.sleep(delay)\n",
    "            \n",
    "        except Exception as e:\n",
    "            logger.error(f\"Unexpected error fetching block {block_number}: {e}\")\n",
    "            raise\n",
    "\n",
    "def main():\n",
    "    # Configuration\n",
    "    provider_uri = \"https://mainnet.infura.io/v3/31966bfed8674afaab1a9d9ba201665a\"\n",
    "    \n",
    "    # Rate limiting: Infura free tier allows ~100k requests/day (~1.15 requests/second)\n",
    "    # Setting to 0.8 requests/second to be safe\n",
    "    rate_limiter = RateLimiter(max_calls_per_second=0.8)\n",
    "    \n",
    "    # Initialize Web3\n",
    "    w3 = Web3(Web3.HTTPProvider(provider_uri))\n",
    "    \n",
    "    # Check connection\n",
    "    if not w3.is_connected():\n",
    "        logger.error(\"Failed to connect to Ethereum node\")\n",
    "        return\n",
    "    \n",
    "    logger.info(\"Connected to Ethereum mainnet\")\n",
    "    \n",
    "    # Get starting block\n",
    "    rate_limiter.wait_if_needed()\n",
    "    last_block = w3.eth.block_number\n",
    "    logger.info(f\"Starting from block {last_block}\")\n",
    "    \n",
    "    # Setup output directory\n",
    "    output_dir = \"/Volumes/ethereum-catalog/ethereum/ethereum-volume/raw/blocks/\"\n",
    "    os.makedirs(output_dir, exist_ok=True)\n",
    "    \n",
    "    # Main loop\n",
    "    while True:\n",
    "        try:\n",
    "            # Get latest block number\n",
    "            rate_limiter.wait_if_needed()\n",
    "            latest_block = w3.eth.block_number\n",
    "            \n",
    "            # Process new blocks\n",
    "            blocks_to_process = list(range(last_block + 1, latest_block + 1))\n",
    "            \n",
    "            if blocks_to_process:\n",
    "                logger.info(f\"Processing blocks {last_block + 1} to {latest_block}\")\n",
    "                \n",
    "                # Debug: log the block numbers we're about to process\n",
    "                logger.debug(f\"Block numbers to process: {blocks_to_process}\")\n",
    "            \n",
    "            for block_number in blocks_to_process:\n",
    "                try:\n",
    "                    # Ensure block_number is an integer\n",
    "                    if not isinstance(block_number, int):\n",
    "                        logger.error(f\"❌ Invalid block number type: {type(block_number)} - {block_number}\")\n",
    "                        continue\n",
    "                        \n",
    "                    logger.debug(f\"Processing block {block_number} (type: {type(block_number)})\")\n",
    "                    \n",
    "                    # Fetch block with rate limiting and retry logic\n",
    "                    block_dict = fetch_block_with_retry(w3, block_number, rate_limiter)\n",
    "                    \n",
    "                    # Save to file\n",
    "                    file_path = os.path.join(output_dir, f\"block_{block_number}.json\")\n",
    "                    with open(file_path, \"w\") as f:\n",
    "                        json.dump(block_dict, f, indent=2)\n",
    "                    \n",
    "                    tx_count = len(block_dict.get('transactions', []))\n",
    "                    logger.info(f\"✅ Saved block {block_number} with {tx_count} transactions\")\n",
    "                    \n",
    "                except Exception as e:\n",
    "                    logger.error(f\"❌ Failed to process block {block_number}: {e}\")\n",
    "                    logger.debug(f\"Block number type: {type(block_number)}, value: {repr(block_number)}\")\n",
    "                    # Check if we should do a health check\n",
    "                    if \"web3\" in str(e).lower() or \"connection\" in str(e).lower():\n",
    "                        logger.info(\"Performing API health check due to connection error...\")\n",
    "                        check_api_response_status(w3)\n",
    "                    # Continue with next block instead of crashing\n",
    "                    continue\n",
    "            \n",
    "            last_block = latest_block\n",
    "            \n",
    "            # Wait before checking for new blocks\n",
    "            logger.info(\"Waiting for new blocks...\")\n",
    "            time.sleep(15)  # Check every 15 seconds (Ethereum block time is ~12-13 seconds)\n",
    "            \n",
    "        except KeyboardInterrupt:\n",
    "            logger.info(\"Stopping block fetcher...\")\n",
    "            break\n",
    "        except Exception as e:\n",
    "            logger.error(f\"Unexpected error in main loop: {e}\")\n",
    "            logger.info(\"Waiting 30 seconds before retrying...\")\n",
    "            time.sleep(30)\n",
    "\n",
    "if __name__ == \"__main__\":\n",
    "    main()"
   ]
  },
  {
   "cell_type": "code",
   "execution_count": 0,
   "metadata": {
    "application/vnd.databricks.v1+cell": {
     "cellMetadata": {
      "byteLimit": 2048000,
      "rowLimit": 10000
     },
     "inputWidgets": {},
     "nuid": "5bd51d28-d0b3-4dee-a913-a4263d6d7a37",
     "showTitle": false,
     "tableResultSettingsMap": {},
     "title": ""
    }
   },
   "outputs": [],
   "source": [
    "from pyspark.sql.types import StructType, StructField, StringType, LongType, ArrayType\n",
    "\n",
    "# Transaction schema\n",
    "tx_schema = StructType([\n",
    "    StructField(\"hash\", StringType(), True),\n",
    "    StructField(\"from\", StringType(), True),\n",
    "    StructField(\"to\", StringType(), True),\n",
    "    StructField(\"value\", StringType(), True),   # value is big number, keep as string\n",
    "    StructField(\"nonce\", LongType(), True),\n",
    "    StructField(\"gas\", LongType(), True)\n",
    "])\n",
    "\n",
    "# Block schema\n",
    "block_schema = StructType([\n",
    "    StructField(\"number\", LongType(), True),\n",
    "    StructField(\"hash\", StringType(), True),\n",
    "    StructField(\"miner\", StringType(), True),\n",
    "    StructField(\"timestamp\", LongType(), True),\n",
    "    StructField(\"transactions\", ArrayType(tx_schema), True)\n",
    "])\n"
   ]
  },
  {
   "cell_type": "code",
   "execution_count": 0,
   "metadata": {
    "application/vnd.databricks.v1+cell": {
     "cellMetadata": {
      "byteLimit": 2048000,
      "rowLimit": 10000
     },
     "inputWidgets": {},
     "nuid": "a2f2f068-3e47-4abf-99b7-e0567e3edce5",
     "showTitle": false,
     "tableResultSettingsMap": {},
     "title": ""
    }
   },
   "outputs": [],
   "source": [
    "from pyspark.sql.functions import explode, col\n",
    "\n",
    "# ✅ Read JSON block files incrementally from your Volume\n",
    "raw_blocks = (\n",
    "    spark.readStream\n",
    "      .format(\"cloudFiles\")\n",
    "      .option(\"cloudFiles.format\", \"json\")\n",
    "      .schema(block_schema)  # provide schema for better performance\n",
    "      .load(\"/Volumes/ethereum-catalog/ethereum/ethereum-volume/raw/blocks/\")\n",
    ")\n",
    "\n",
    "# Just the block-level data\n",
    "blocks_df = raw_blocks.select(\"number\", \"hash\", \"miner\", \"timestamp\")\n",
    "\n",
    "# Write to Delta (block table)\n",
    "blocks_query = (\n",
    "    blocks_df.writeStream\n",
    "      .format(\"delta\")\n",
    "      .outputMode(\"append\")\n",
    "      .option(\"checkpointLocation\", \"/Volumes/ethereum-catalog/ethereum/ethereum-volume/checkpoints/blocks/\")\n",
    "      .trigger(once=True)\n",
    "      .start(\"/Volumes/ethereum-catalog/ethereum/ethereum-volume/delta/blocks/\")\n",
    ")\n"
   ]
  },
  {
   "cell_type": "code",
   "execution_count": 0,
   "metadata": {
    "application/vnd.databricks.v1+cell": {
     "cellMetadata": {
      "byteLimit": 2048000,
      "rowLimit": 10000
     },
     "inputWidgets": {},
     "nuid": "9bf061dc-d2d5-4bed-8b2a-9d19043c3240",
     "showTitle": false,
     "tableResultSettingsMap": {},
     "title": ""
    }
   },
   "outputs": [],
   "source": [
    "# Flatten transactions\n",
    "txs_df = raw_blocks.select(\n",
    "    col(\"number\").alias(\"block_number\"),\n",
    "    explode(\"transactions\").alias(\"tx\")\n",
    ").select(\n",
    "    col(\"block_number\"),\n",
    "    col(\"tx.hash\").alias(\"tx_hash\"),\n",
    "    col(\"tx.from\").alias(\"from_address\"),\n",
    "    col(\"tx.to\").alias(\"to_address\"),\n",
    "    col(\"tx.value\"),\n",
    "    col(\"tx.nonce\"),\n",
    "    col(\"tx.gas\")\n",
    ")\n",
    "\n",
    "# Write transactions to Delta\n",
    "txs_query = (\n",
    "    txs_df.writeStream\n",
    "      .format(\"delta\")\n",
    "      .outputMode(\"append\")\n",
    "      .option(\"checkpointLocation\", \"/Volumes/ethereum-catalog/ethereum/ethereum-volume/checkpoints/transactions/\")\n",
    "      .trigger(once=True)\n",
    "      .start(\"/Volumes/ethereum-catalog/ethereum/ethereum-volume/delta/transactions/\")\n",
    ")\n"
   ]
  },
  {
   "cell_type": "code",
   "execution_count": 0,
   "metadata": {
    "application/vnd.databricks.v1+cell": {
     "cellMetadata": {
      "byteLimit": 2048000,
      "rowLimit": 10000
     },
     "inputWidgets": {},
     "nuid": "48a9f8ec-d240-4dc2-b3e3-f45e3f849410",
     "showTitle": false,
     "tableResultSettingsMap": {},
     "title": ""
    }
   },
   "outputs": [],
   "source": [
    "df_blocks = spark.read.format(\"delta\").load(\n",
    "    \"/Volumes/ethereum-catalog/ethereum/ethereum-volume/delta/blocks/\"\n",
    ")\n",
    "df_blocks.createOrReplaceTempView(\"blocks_temp\")\n"
   ]
  },
  {
   "cell_type": "code",
   "execution_count": 0,
   "metadata": {
    "application/vnd.databricks.v1+cell": {
     "cellMetadata": {
      "byteLimit": 2048000,
      "rowLimit": 10000
     },
     "inputWidgets": {},
     "nuid": "65389db8-7d73-42db-bf81-a96400997a0c",
     "showTitle": false,
     "tableResultSettingsMap": {},
     "title": ""
    }
   },
   "outputs": [],
   "source": [
    "df_transactions = spark.read.format(\"delta\").load(\n",
    "    \"/Volumes/ethereum-catalog/ethereum/ethereum-volume/delta/transactions/\"\n",
    ")\n",
    "\n",
    "df_transactions.createOrReplaceTempView(\"transactions_temp\")\n"
   ]
  },
  {
   "cell_type": "code",
   "execution_count": 0,
   "metadata": {
    "application/vnd.databricks.v1+cell": {
     "cellMetadata": {
      "byteLimit": 2048000,
      "implicitDf": true,
      "rowLimit": 10000
     },
     "inputWidgets": {},
     "nuid": "3c6973cc-c63d-4cdd-905c-4e0903daa350",
     "showTitle": false,
     "tableResultSettingsMap": {},
     "title": ""
    }
   },
   "outputs": [
    {
     "output_type": "display_data",
     "data": {
      "text/html": [
       "<style scoped>\n",
       "  .table-result-container {\n",
       "    max-height: 300px;\n",
       "    overflow: auto;\n",
       "  }\n",
       "  table, th, td {\n",
       "    border: 1px solid black;\n",
       "    border-collapse: collapse;\n",
       "  }\n",
       "  th, td {\n",
       "    padding: 5px;\n",
       "  }\n",
       "  th {\n",
       "    text-align: left;\n",
       "  }\n",
       "</style><div class='table-result-container'><table class='table-result'><thead style='background-color: white'><tr><th>COUNT(*)</th></tr></thead><tbody><tr><td>37</td></tr></tbody></table></div>"
      ]
     },
     "metadata": {
      "application/vnd.databricks.v1+output": {
       "addedWidgets": {},
       "aggData": [],
       "aggError": "",
       "aggOverflow": false,
       "aggSchema": [],
       "aggSeriesLimitReached": false,
       "aggType": "",
       "arguments": {},
       "columnCustomDisplayInfos": {},
       "data": [
        [
         37
        ]
       ],
       "datasetInfos": [
        {
         "name": "_sqldf",
         "schema": {
          "fields": [
           {
            "metadata": {},
            "name": "COUNT(*)",
            "nullable": false,
            "type": "long"
           }
          ],
          "type": "struct"
         },
         "tableIdentifier": null,
         "typeStr": "pyspark.sql.connect.dataframe.DataFrame"
        }
       ],
       "dbfsResultPath": null,
       "isJsonSchema": true,
       "metadata": {
        "createTempViewForImplicitDf": true,
        "dataframeName": "_sqldf",
        "executionCount": 42
       },
       "overflow": false,
       "plotOptions": {
        "customPlotOptions": {},
        "displayType": "table",
        "pivotAggregation": null,
        "pivotColumns": null,
        "xColumns": null,
        "yColumns": null
       },
       "removedWidgets": [],
       "schema": [
        {
         "metadata": "{}",
         "name": "COUNT(*)",
         "type": "\"long\""
        }
       ],
       "type": "table"
      }
     },
     "output_type": "display_data"
    }
   ],
   "source": [
    "%sql SELECT COUNT(*) FROM blocks_temp"
   ]
  },
  {
   "cell_type": "code",
   "execution_count": 0,
   "metadata": {
    "application/vnd.databricks.v1+cell": {
     "cellMetadata": {
      "byteLimit": 2048000,
      "implicitDf": true,
      "rowLimit": 10000
     },
     "inputWidgets": {},
     "nuid": "ded19abb-7333-4a5a-9b40-c9c76776320b",
     "showTitle": false,
     "tableResultSettingsMap": {},
     "title": ""
    }
   },
   "outputs": [
    {
     "output_type": "display_data",
     "data": {
      "text/html": [
       "<style scoped>\n",
       "  .table-result-container {\n",
       "    max-height: 300px;\n",
       "    overflow: auto;\n",
       "  }\n",
       "  table, th, td {\n",
       "    border: 1px solid black;\n",
       "    border-collapse: collapse;\n",
       "  }\n",
       "  th, td {\n",
       "    padding: 5px;\n",
       "  }\n",
       "  th {\n",
       "    text-align: left;\n",
       "  }\n",
       "</style><div class='table-result-container'><table class='table-result'><thead style='background-color: white'><tr><th>COUNT(*)</th></tr></thead><tbody><tr><td>8101</td></tr></tbody></table></div>"
      ]
     },
     "metadata": {
      "application/vnd.databricks.v1+output": {
       "addedWidgets": {},
       "aggData": [],
       "aggError": "",
       "aggOverflow": false,
       "aggSchema": [],
       "aggSeriesLimitReached": false,
       "aggType": "",
       "arguments": {},
       "columnCustomDisplayInfos": {},
       "data": [
        [
         8101
        ]
       ],
       "datasetInfos": [
        {
         "name": "_sqldf",
         "schema": {
          "fields": [
           {
            "metadata": {},
            "name": "COUNT(*)",
            "nullable": false,
            "type": "long"
           }
          ],
          "type": "struct"
         },
         "tableIdentifier": null,
         "typeStr": "pyspark.sql.connect.dataframe.DataFrame"
        }
       ],
       "dbfsResultPath": null,
       "isJsonSchema": true,
       "metadata": {
        "createTempViewForImplicitDf": true,
        "dataframeName": "_sqldf",
        "executionCount": 51
       },
       "overflow": false,
       "plotOptions": {
        "customPlotOptions": {},
        "displayType": "table",
        "pivotAggregation": null,
        "pivotColumns": null,
        "xColumns": null,
        "yColumns": null
       },
       "removedWidgets": [],
       "schema": [
        {
         "metadata": "{}",
         "name": "COUNT(*)",
         "type": "\"long\""
        }
       ],
       "type": "table"
      }
     },
     "output_type": "display_data"
    }
   ],
   "source": [
    "%sql SELECT COUNT(*) FROM transactions_temp"
   ]
  },
  {
   "cell_type": "code",
   "execution_count": 0,
   "metadata": {
    "application/vnd.databricks.v1+cell": {
     "cellMetadata": {
      "byteLimit": 2048000,
      "implicitDf": true,
      "rowLimit": 10000
     },
     "inputWidgets": {},
     "nuid": "6b7092ab-e6aa-465b-9c52-f2c122fe2297",
     "showTitle": false,
     "tableResultSettingsMap": {},
     "title": ""
    }
   },
   "outputs": [
    {
     "output_type": "display_data",
     "data": {
      "text/html": [
       "<style scoped>\n",
       "  .table-result-container {\n",
       "    max-height: 300px;\n",
       "    overflow: auto;\n",
       "  }\n",
       "  table, th, td {\n",
       "    border: 1px solid black;\n",
       "    border-collapse: collapse;\n",
       "  }\n",
       "  th, td {\n",
       "    padding: 5px;\n",
       "  }\n",
       "  th {\n",
       "    text-align: left;\n",
       "  }\n",
       "</style><div class='table-result-container'><table class='table-result'><thead style='background-color: white'><tr><th>number</th><th>hash</th><th>miner</th><th>timestamp</th></tr></thead><tbody><tr><td>23293395</td><td>84ddff04c138817f018f5565e8f40f449e8fa33b7385514dcd18415aee93ba56</td><td>0x95222290DD7278Aa3Ddd389Cc1E1d165CC4BAfe5</td><td>1757032943</td></tr><tr><td>23293393</td><td>7e48e192c462d272e453a45fb0ce5fdc82f325f51cfcb04453ae7ceb76bd4f2c</td><td>0x4838B106FCe9647Bdf1E7877BF73cE8B0BAD5f97</td><td>1757032919</td></tr><tr><td>23293387</td><td>999b5b7f056fde08558ee6ccb60b23f0afb3da5b09fffabb58b1edeb27e82442</td><td>0x4838B106FCe9647Bdf1E7877BF73cE8B0BAD5f97</td><td>1757032847</td></tr><tr><td>23293399</td><td>6a099c31c3878a25650312b4ff93d7f197fda2bb888e70b3f1bc60cd586d6a41</td><td>0xdadB0d80178819F2319190D340ce9A924f783711</td><td>1757032991</td></tr><tr><td>23293389</td><td>105e0e1ee4b91f3d80ff7730a4449b363e4d301b61bf56b0a26f1d93fc4ef8ed</td><td>0xdadB0d80178819F2319190D340ce9A924f783711</td><td>1757032871</td></tr><tr><td>23293403</td><td>d632c61c4994bbd0742450f8ed49e3a12b3c19f35c09a5d59525388044eed874</td><td>0x4838B106FCe9647Bdf1E7877BF73cE8B0BAD5f97</td><td>1757033039</td></tr><tr><td>23293390</td><td>bea67b7e7b8298acabcb40114c7abc3c5c1106cf9ff32aba9160bf5ef4d77eda</td><td>0x4838B106FCe9647Bdf1E7877BF73cE8B0BAD5f97</td><td>1757032883</td></tr><tr><td>23293401</td><td>713f54340cef210264d3b3d6df549e0242572d4679b531011cc30fbb4cf2cc41</td><td>0xdadB0d80178819F2319190D340ce9A924f783711</td><td>1757033015</td></tr><tr><td>23293396</td><td>ce50334b14f47b1d1bace0e5a9c530a6c63ef667a87f2d4ae5f4e3c4f5b35128</td><td>0x95222290DD7278Aa3Ddd389Cc1E1d165CC4BAfe5</td><td>1757032955</td></tr><tr><td>23293391</td><td>789e5c43d3472bda845e9895a3808ee707ea66d5262582948e6d201546df7a16</td><td>0xdadB0d80178819F2319190D340ce9A924f783711</td><td>1757032895</td></tr><tr><td>23293402</td><td>c6796cbe1627fbbc80db49415d3aafca140e3ae5b42e573cef4ad8a2eec3f672</td><td>0xdadB0d80178819F2319190D340ce9A924f783711</td><td>1757033027</td></tr><tr><td>23293386</td><td>c1afbb91f80bb6b17c34662cd3a6001e332592873a108f0375df89452cac47bc</td><td>0xdadB0d80178819F2319190D340ce9A924f783711</td><td>1757032835</td></tr><tr><td>23293392</td><td>0395ac456cba54c4720fee18fd7da13b9fc92edb9fe5c068c5f9d3fc1ce3b693</td><td>0x95222290DD7278Aa3Ddd389Cc1E1d165CC4BAfe5</td><td>1757032907</td></tr><tr><td>23293400</td><td>f611d204abf355349f980370af7ae2e08df7256e77435d1eb226ff2a245297b2</td><td>0x4838B106FCe9647Bdf1E7877BF73cE8B0BAD5f97</td><td>1757033003</td></tr><tr><td>23293388</td><td>56c1e6f52ca94cd9ef3fcb47fc70ff5c8823a04cbefaf24d690008223d7a0f7e</td><td>0x4838B106FCe9647Bdf1E7877BF73cE8B0BAD5f97</td><td>1757032859</td></tr><tr><td>23293398</td><td>e047e3b3e7a3e96979ab98434df4985b523ba2516227f15068924ffe6ad40737</td><td>0x47Bbe289e12A0c7C31F6Aa3B2f50Ff1FffD213b6</td><td>1757032979</td></tr><tr><td>23293397</td><td>a4973f7d6c8c25646786e7217f110adfa6818a310dbb12169232347c8138a2bc</td><td>0x1685094EcEf6dfd94992151586D9b25Ff89F6613</td><td>1757032967</td></tr><tr><td>23293394</td><td>f720f2efefd19f9562f5a36205f0c47975e486a3fa969a213ebda696b9f0ef5d</td><td>0xAFedF06777839D59eED3163cC3e0A5057b514399</td><td>1757032931</td></tr><tr><td>23306073</td><td>3fb4a6ff79db0f372409ad3dce891490ea7d5d383087349115e4e47a9d69f6a9</td><td>0xdadB0d80178819F2319190D340ce9A924f783711</td><td>1757186087</td></tr><tr><td>23306070</td><td>d747640912f020171cdc386bdc389fa1c2312578925a2b9c7b519e4c0978401e</td><td>0x4838B106FCe9647Bdf1E7877BF73cE8B0BAD5f97</td><td>1757186051</td></tr><tr><td>23306066</td><td>a77d86c1c7742d68b07f2ed090af2857f7e6cb543eda7e11aea90dd9118b70ea</td><td>0x4838B106FCe9647Bdf1E7877BF73cE8B0BAD5f97</td><td>1757186003</td></tr><tr><td>23306071</td><td>d1ee8960b069a0f751baa905014d46fc112b69c899eeee26751a871f4f8a0cce</td><td>0xdadB0d80178819F2319190D340ce9A924f783711</td><td>1757186063</td></tr><tr><td>23306074</td><td>815c0f487238f50030c02d533e4f661ca7cddfc687e404ef02707930898ad3af</td><td>0x4838B106FCe9647Bdf1E7877BF73cE8B0BAD5f97</td><td>1757186099</td></tr><tr><td>23306068</td><td>0358c98e9db2fd8854e62b7de9288d61236da4c141e74501501416f799595d13</td><td>0xdadB0d80178819F2319190D340ce9A924f783711</td><td>1757186027</td></tr><tr><td>23306064</td><td>91ef1fe9b50ab5bd4ecae1414cc99a2b9579bdac9e5aa23baa06c73697f53ccd</td><td>0x4838B106FCe9647Bdf1E7877BF73cE8B0BAD5f97</td><td>1757185979</td></tr><tr><td>23306067</td><td>bcd1b78ac663570250a82b8aa7dc448d99ea3658bd839090857290468634044e</td><td>0xdadB0d80178819F2319190D340ce9A924f783711</td><td>1757186015</td></tr><tr><td>23306069</td><td>7a4cb55e5ee5f44d9aa4c98406dc54753c9a7625c3cef97b1d8447b8c1158b14</td><td>0xdadB0d80178819F2319190D340ce9A924f783711</td><td>1757186039</td></tr><tr><td>23306065</td><td>cacdcd61056ac7423166b667c5c09dff749f538ef1e87227443a38b246ea153c</td><td>0x388C818CA8B9251b393131C08a736A67ccB19297</td><td>1757185991</td></tr><tr><td>23306072</td><td>3b6924120ca0b7a61ccc5a06fd6fed0c84e51e416a047dfc9303c030c8c3812c</td><td>0x4fd797f0cC7C87B1b48b0A0db6b66DB63780717d</td><td>1757186075</td></tr><tr><td>23336503</td><td>22625752982c9e376a17abcded4e78bc23221746c7691139c1374b248b79c03b</td><td>0xdadB0d80178819F2319190D340ce9A924f783711</td><td>1757553647</td></tr><tr><td>23336507</td><td>931355bf06dc1b3a3e6c2d11269013be7f638242275d2097fdeb6d8a4a5b801b</td><td>0x4838B106FCe9647Bdf1E7877BF73cE8B0BAD5f97</td><td>1757553695</td></tr><tr><td>23336501</td><td>c35e6ce87ea8f9baaa4dac533cddb6eb91ebda8a3f315f678a9684e504cb5d8f</td><td>0x4838B106FCe9647Bdf1E7877BF73cE8B0BAD5f97</td><td>1757553623</td></tr><tr><td>23336504</td><td>87f278d64267216d58829b91e71b54c1d5cedd2ec0d5517274135140ea3f8efa</td><td>0xdadB0d80178819F2319190D340ce9A924f783711</td><td>1757553659</td></tr><tr><td>23336505</td><td>1f6c8e4339c26e43e19d903d697fb576e1c2dcf0d9efd65bec0c81fe16d7c0c7</td><td>0xdadB0d80178819F2319190D340ce9A924f783711</td><td>1757553671</td></tr><tr><td>23336502</td><td>73d7181bda5eedc394157d7ee2ad11e6f73e98be3efe6e4c61d0b20d8fd1d8e6</td><td>0xdadB0d80178819F2319190D340ce9A924f783711</td><td>1757553635</td></tr><tr><td>23336500</td><td>31eb1ae7d34f09195922406f8a3961a834dfc27612cc5df4b8e34094790bafe2</td><td>0x4838B106FCe9647Bdf1E7877BF73cE8B0BAD5f97</td><td>1757553611</td></tr><tr><td>23336506</td><td>868f1e2e6971e599036e30bb5bc28b0e0fbd241d90de0a2b677a9a5ac5dd1b8f</td><td>0xdadB0d80178819F2319190D340ce9A924f783711</td><td>1757553683</td></tr></tbody></table></div>"
      ]
     },
     "metadata": {
      "application/vnd.databricks.v1+output": {
       "addedWidgets": {},
       "aggData": [],
       "aggError": "",
       "aggOverflow": false,
       "aggSchema": [],
       "aggSeriesLimitReached": false,
       "aggType": "",
       "arguments": {},
       "columnCustomDisplayInfos": {},
       "data": [
        [
         23293395,
         "84ddff04c138817f018f5565e8f40f449e8fa33b7385514dcd18415aee93ba56",
         "0x95222290DD7278Aa3Ddd389Cc1E1d165CC4BAfe5",
         1757032943
        ],
        [
         23293393,
         "7e48e192c462d272e453a45fb0ce5fdc82f325f51cfcb04453ae7ceb76bd4f2c",
         "0x4838B106FCe9647Bdf1E7877BF73cE8B0BAD5f97",
         1757032919
        ],
        [
         23293387,
         "999b5b7f056fde08558ee6ccb60b23f0afb3da5b09fffabb58b1edeb27e82442",
         "0x4838B106FCe9647Bdf1E7877BF73cE8B0BAD5f97",
         1757032847
        ],
        [
         23293399,
         "6a099c31c3878a25650312b4ff93d7f197fda2bb888e70b3f1bc60cd586d6a41",
         "0xdadB0d80178819F2319190D340ce9A924f783711",
         1757032991
        ],
        [
         23293389,
         "105e0e1ee4b91f3d80ff7730a4449b363e4d301b61bf56b0a26f1d93fc4ef8ed",
         "0xdadB0d80178819F2319190D340ce9A924f783711",
         1757032871
        ],
        [
         23293403,
         "d632c61c4994bbd0742450f8ed49e3a12b3c19f35c09a5d59525388044eed874",
         "0x4838B106FCe9647Bdf1E7877BF73cE8B0BAD5f97",
         1757033039
        ],
        [
         23293390,
         "bea67b7e7b8298acabcb40114c7abc3c5c1106cf9ff32aba9160bf5ef4d77eda",
         "0x4838B106FCe9647Bdf1E7877BF73cE8B0BAD5f97",
         1757032883
        ],
        [
         23293401,
         "713f54340cef210264d3b3d6df549e0242572d4679b531011cc30fbb4cf2cc41",
         "0xdadB0d80178819F2319190D340ce9A924f783711",
         1757033015
        ],
        [
         23293396,
         "ce50334b14f47b1d1bace0e5a9c530a6c63ef667a87f2d4ae5f4e3c4f5b35128",
         "0x95222290DD7278Aa3Ddd389Cc1E1d165CC4BAfe5",
         1757032955
        ],
        [
         23293391,
         "789e5c43d3472bda845e9895a3808ee707ea66d5262582948e6d201546df7a16",
         "0xdadB0d80178819F2319190D340ce9A924f783711",
         1757032895
        ],
        [
         23293402,
         "c6796cbe1627fbbc80db49415d3aafca140e3ae5b42e573cef4ad8a2eec3f672",
         "0xdadB0d80178819F2319190D340ce9A924f783711",
         1757033027
        ],
        [
         23293386,
         "c1afbb91f80bb6b17c34662cd3a6001e332592873a108f0375df89452cac47bc",
         "0xdadB0d80178819F2319190D340ce9A924f783711",
         1757032835
        ],
        [
         23293392,
         "0395ac456cba54c4720fee18fd7da13b9fc92edb9fe5c068c5f9d3fc1ce3b693",
         "0x95222290DD7278Aa3Ddd389Cc1E1d165CC4BAfe5",
         1757032907
        ],
        [
         23293400,
         "f611d204abf355349f980370af7ae2e08df7256e77435d1eb226ff2a245297b2",
         "0x4838B106FCe9647Bdf1E7877BF73cE8B0BAD5f97",
         1757033003
        ],
        [
         23293388,
         "56c1e6f52ca94cd9ef3fcb47fc70ff5c8823a04cbefaf24d690008223d7a0f7e",
         "0x4838B106FCe9647Bdf1E7877BF73cE8B0BAD5f97",
         1757032859
        ],
        [
         23293398,
         "e047e3b3e7a3e96979ab98434df4985b523ba2516227f15068924ffe6ad40737",
         "0x47Bbe289e12A0c7C31F6Aa3B2f50Ff1FffD213b6",
         1757032979
        ],
        [
         23293397,
         "a4973f7d6c8c25646786e7217f110adfa6818a310dbb12169232347c8138a2bc",
         "0x1685094EcEf6dfd94992151586D9b25Ff89F6613",
         1757032967
        ],
        [
         23293394,
         "f720f2efefd19f9562f5a36205f0c47975e486a3fa969a213ebda696b9f0ef5d",
         "0xAFedF06777839D59eED3163cC3e0A5057b514399",
         1757032931
        ],
        [
         23306073,
         "3fb4a6ff79db0f372409ad3dce891490ea7d5d383087349115e4e47a9d69f6a9",
         "0xdadB0d80178819F2319190D340ce9A924f783711",
         1757186087
        ],
        [
         23306070,
         "d747640912f020171cdc386bdc389fa1c2312578925a2b9c7b519e4c0978401e",
         "0x4838B106FCe9647Bdf1E7877BF73cE8B0BAD5f97",
         1757186051
        ],
        [
         23306066,
         "a77d86c1c7742d68b07f2ed090af2857f7e6cb543eda7e11aea90dd9118b70ea",
         "0x4838B106FCe9647Bdf1E7877BF73cE8B0BAD5f97",
         1757186003
        ],
        [
         23306071,
         "d1ee8960b069a0f751baa905014d46fc112b69c899eeee26751a871f4f8a0cce",
         "0xdadB0d80178819F2319190D340ce9A924f783711",
         1757186063
        ],
        [
         23306074,
         "815c0f487238f50030c02d533e4f661ca7cddfc687e404ef02707930898ad3af",
         "0x4838B106FCe9647Bdf1E7877BF73cE8B0BAD5f97",
         1757186099
        ],
        [
         23306068,
         "0358c98e9db2fd8854e62b7de9288d61236da4c141e74501501416f799595d13",
         "0xdadB0d80178819F2319190D340ce9A924f783711",
         1757186027
        ],
        [
         23306064,
         "91ef1fe9b50ab5bd4ecae1414cc99a2b9579bdac9e5aa23baa06c73697f53ccd",
         "0x4838B106FCe9647Bdf1E7877BF73cE8B0BAD5f97",
         1757185979
        ],
        [
         23306067,
         "bcd1b78ac663570250a82b8aa7dc448d99ea3658bd839090857290468634044e",
         "0xdadB0d80178819F2319190D340ce9A924f783711",
         1757186015
        ],
        [
         23306069,
         "7a4cb55e5ee5f44d9aa4c98406dc54753c9a7625c3cef97b1d8447b8c1158b14",
         "0xdadB0d80178819F2319190D340ce9A924f783711",
         1757186039
        ],
        [
         23306065,
         "cacdcd61056ac7423166b667c5c09dff749f538ef1e87227443a38b246ea153c",
         "0x388C818CA8B9251b393131C08a736A67ccB19297",
         1757185991
        ],
        [
         23306072,
         "3b6924120ca0b7a61ccc5a06fd6fed0c84e51e416a047dfc9303c030c8c3812c",
         "0x4fd797f0cC7C87B1b48b0A0db6b66DB63780717d",
         1757186075
        ],
        [
         23336503,
         "22625752982c9e376a17abcded4e78bc23221746c7691139c1374b248b79c03b",
         "0xdadB0d80178819F2319190D340ce9A924f783711",
         1757553647
        ],
        [
         23336507,
         "931355bf06dc1b3a3e6c2d11269013be7f638242275d2097fdeb6d8a4a5b801b",
         "0x4838B106FCe9647Bdf1E7877BF73cE8B0BAD5f97",
         1757553695
        ],
        [
         23336501,
         "c35e6ce87ea8f9baaa4dac533cddb6eb91ebda8a3f315f678a9684e504cb5d8f",
         "0x4838B106FCe9647Bdf1E7877BF73cE8B0BAD5f97",
         1757553623
        ],
        [
         23336504,
         "87f278d64267216d58829b91e71b54c1d5cedd2ec0d5517274135140ea3f8efa",
         "0xdadB0d80178819F2319190D340ce9A924f783711",
         1757553659
        ],
        [
         23336505,
         "1f6c8e4339c26e43e19d903d697fb576e1c2dcf0d9efd65bec0c81fe16d7c0c7",
         "0xdadB0d80178819F2319190D340ce9A924f783711",
         1757553671
        ],
        [
         23336502,
         "73d7181bda5eedc394157d7ee2ad11e6f73e98be3efe6e4c61d0b20d8fd1d8e6",
         "0xdadB0d80178819F2319190D340ce9A924f783711",
         1757553635
        ],
        [
         23336500,
         "31eb1ae7d34f09195922406f8a3961a834dfc27612cc5df4b8e34094790bafe2",
         "0x4838B106FCe9647Bdf1E7877BF73cE8B0BAD5f97",
         1757553611
        ],
        [
         23336506,
         "868f1e2e6971e599036e30bb5bc28b0e0fbd241d90de0a2b677a9a5ac5dd1b8f",
         "0xdadB0d80178819F2319190D340ce9A924f783711",
         1757553683
        ]
       ],
       "datasetInfos": [
        {
         "name": "_sqldf",
         "schema": {
          "fields": [
           {
            "metadata": {},
            "name": "number",
            "nullable": true,
            "type": "long"
           },
           {
            "metadata": {},
            "name": "hash",
            "nullable": true,
            "type": "string"
           },
           {
            "metadata": {},
            "name": "miner",
            "nullable": true,
            "type": "string"
           },
           {
            "metadata": {},
            "name": "timestamp",
            "nullable": true,
            "type": "long"
           }
          ],
          "type": "struct"
         },
         "tableIdentifier": null,
         "typeStr": "pyspark.sql.connect.dataframe.DataFrame"
        }
       ],
       "dbfsResultPath": null,
       "isJsonSchema": true,
       "metadata": {
        "createTempViewForImplicitDf": true,
        "dataframeName": "_sqldf",
        "executionCount": 44
       },
       "overflow": false,
       "plotOptions": {
        "customPlotOptions": {},
        "displayType": "table",
        "pivotAggregation": null,
        "pivotColumns": null,
        "xColumns": null,
        "yColumns": null
       },
       "removedWidgets": [],
       "schema": [
        {
         "metadata": "{}",
         "name": "number",
         "type": "\"long\""
        },
        {
         "metadata": "{}",
         "name": "hash",
         "type": "\"string\""
        },
        {
         "metadata": "{}",
         "name": "miner",
         "type": "\"string\""
        },
        {
         "metadata": "{}",
         "name": "timestamp",
         "type": "\"long\""
        }
       ],
       "type": "table"
      }
     },
     "output_type": "display_data"
    }
   ],
   "source": [
    "%sql SELECT * FROM blocks_temp"
   ]
  },
  {
   "cell_type": "code",
   "execution_count": 0,
   "metadata": {
    "application/vnd.databricks.v1+cell": {
     "cellMetadata": {
      "byteLimit": 2048000,
      "implicitDf": true,
      "rowLimit": 10000
     },
     "inputWidgets": {},
     "nuid": "6f778a43-7862-4017-bc8a-57609a58fab5",
     "showTitle": false,
     "tableResultSettingsMap": {},
     "title": ""
    }
   },
   "outputs": [
    {
     "output_type": "display_data",
     "data": {
      "text/html": [
       "<style scoped>\n",
       "  .table-result-container {\n",
       "    max-height: 300px;\n",
       "    overflow: auto;\n",
       "  }\n",
       "  table, th, td {\n",
       "    border: 1px solid black;\n",
       "    border-collapse: collapse;\n",
       "  }\n",
       "  th, td {\n",
       "    padding: 5px;\n",
       "  }\n",
       "  th {\n",
       "    text-align: left;\n",
       "  }\n",
       "</style><div class='table-result-container'><table class='table-result'><thead style='background-color: white'><tr><th>block_number</th><th>COUNT(*)</th></tr></thead><tbody><tr><td>23293401</td><td>248</td></tr><tr><td>23293399</td><td>361</td></tr><tr><td>23293389</td><td>279</td></tr><tr><td>23293393</td><td>301</td></tr><tr><td>23293387</td><td>416</td></tr><tr><td>23293388</td><td>142</td></tr><tr><td>23293395</td><td>442</td></tr><tr><td>23293396</td><td>156</td></tr><tr><td>23293403</td><td>302</td></tr><tr><td>23293400</td><td>129</td></tr><tr><td>23293391</td><td>156</td></tr><tr><td>23293397</td><td>11</td></tr><tr><td>23293398</td><td>27</td></tr><tr><td>23293390</td><td>338</td></tr><tr><td>23293392</td><td>180</td></tr><tr><td>23293386</td><td>197</td></tr><tr><td>23293402</td><td>178</td></tr><tr><td>23336505</td><td>276</td></tr><tr><td>23336503</td><td>302</td></tr><tr><td>23336506</td><td>247</td></tr><tr><td>23336501</td><td>328</td></tr><tr><td>23336502</td><td>190</td></tr><tr><td>23336507</td><td>341</td></tr><tr><td>23336500</td><td>253</td></tr><tr><td>23336504</td><td>308</td></tr><tr><td>23306070</td><td>208</td></tr><tr><td>23306068</td><td>111</td></tr><tr><td>23306064</td><td>309</td></tr><tr><td>23306066</td><td>272</td></tr><tr><td>23306069</td><td>150</td></tr><tr><td>23306074</td><td>177</td></tr><tr><td>23306073</td><td>256</td></tr><tr><td>23306067</td><td>140</td></tr><tr><td>23306065</td><td>118</td></tr><tr><td>23306072</td><td>119</td></tr><tr><td>23306071</td><td>133</td></tr></tbody></table></div>"
      ]
     },
     "metadata": {
      "application/vnd.databricks.v1+output": {
       "addedWidgets": {},
       "aggData": [],
       "aggError": "",
       "aggOverflow": false,
       "aggSchema": [],
       "aggSeriesLimitReached": false,
       "aggType": "",
       "arguments": {},
       "columnCustomDisplayInfos": {},
       "data": [
        [
         23293401,
         248
        ],
        [
         23293399,
         361
        ],
        [
         23293389,
         279
        ],
        [
         23293393,
         301
        ],
        [
         23293387,
         416
        ],
        [
         23293388,
         142
        ],
        [
         23293395,
         442
        ],
        [
         23293396,
         156
        ],
        [
         23293403,
         302
        ],
        [
         23293400,
         129
        ],
        [
         23293391,
         156
        ],
        [
         23293397,
         11
        ],
        [
         23293398,
         27
        ],
        [
         23293390,
         338
        ],
        [
         23293392,
         180
        ],
        [
         23293386,
         197
        ],
        [
         23293402,
         178
        ],
        [
         23336505,
         276
        ],
        [
         23336503,
         302
        ],
        [
         23336506,
         247
        ],
        [
         23336501,
         328
        ],
        [
         23336502,
         190
        ],
        [
         23336507,
         341
        ],
        [
         23336500,
         253
        ],
        [
         23336504,
         308
        ],
        [
         23306070,
         208
        ],
        [
         23306068,
         111
        ],
        [
         23306064,
         309
        ],
        [
         23306066,
         272
        ],
        [
         23306069,
         150
        ],
        [
         23306074,
         177
        ],
        [
         23306073,
         256
        ],
        [
         23306067,
         140
        ],
        [
         23306065,
         118
        ],
        [
         23306072,
         119
        ],
        [
         23306071,
         133
        ]
       ],
       "datasetInfos": [
        {
         "name": "_sqldf",
         "schema": {
          "fields": [
           {
            "metadata": {},
            "name": "block_number",
            "nullable": true,
            "type": "long"
           },
           {
            "metadata": {},
            "name": "COUNT(*)",
            "nullable": false,
            "type": "long"
           }
          ],
          "type": "struct"
         },
         "tableIdentifier": null,
         "typeStr": "pyspark.sql.connect.dataframe.DataFrame"
        }
       ],
       "dbfsResultPath": null,
       "isJsonSchema": true,
       "metadata": {
        "createTempViewForImplicitDf": true,
        "dataframeName": "_sqldf",
        "executionCount": 52
       },
       "overflow": false,
       "plotOptions": {
        "customPlotOptions": {},
        "displayType": "table",
        "pivotAggregation": null,
        "pivotColumns": null,
        "xColumns": null,
        "yColumns": null
       },
       "removedWidgets": [],
       "schema": [
        {
         "metadata": "{}",
         "name": "block_number",
         "type": "\"long\""
        },
        {
         "metadata": "{}",
         "name": "COUNT(*)",
         "type": "\"long\""
        }
       ],
       "type": "table"
      }
     },
     "output_type": "display_data"
    }
   ],
   "source": [
    "%sql\n",
    "SELECT block_number, COUNT(*) FROM transactions_temp\n",
    "GROUP BY 1;"
   ]
  }
 ],
 "metadata": {
  "application/vnd.databricks.v1+notebook": {
   "computePreferences": null,
   "dashboards": [],
   "environmentMetadata": {
    "base_environment": "",
    "environment_version": "3"
   },
   "inputWidgetPreferences": null,
   "language": "python",
   "notebookMetadata": {
    "mostRecentlyExecutedCommandWithImplicitDF": {
     "commandId": 3216643315073008,
     "dataframes": [
      "_sqldf"
     ]
    },
    "pythonIndentUnit": 4
   },
   "notebookName": "ethereum-real-time-block-collector",
   "widgets": {}
  },
  "language_info": {
   "name": "python"
  }
 },
 "nbformat": 4,
 "nbformat_minor": 0
}